{
 "cells": [
  {
   "cell_type": "code",
   "execution_count": 1,
   "metadata": {},
   "outputs": [],
   "source": [
    "import re\n",
    "import sqlite3\n",
    "\n",
    "import pandas as pd\n",
    "from IPython.display import display"
   ]
  },
  {
   "cell_type": "markdown",
   "metadata": {},
   "source": [
    "## Connect to SQLite database\n"
   ]
  },
  {
   "cell_type": "code",
   "execution_count": 2,
   "metadata": {},
   "outputs": [],
   "source": [
    "# Define SQLite database file path\n",
    "sqlite_db_path = \"../data/vaccination_db.sqlite\"\n",
    "\n",
    "# Reconnect to SQLite database\n",
    "conn = sqlite3.connect(sqlite_db_path)"
   ]
  },
  {
   "cell_type": "markdown",
   "metadata": {},
   "source": [
    "## Query Database\n",
    "\n",
    "To query the database, define the `query`.\n",
    "\n",
    "Next, execute the query and load the results into a DataFrame: `pd.read_sql_query(query, conn)`\n"
   ]
  },
  {
   "cell_type": "markdown",
   "metadata": {},
   "source": [
    "### Check info for all tables\n"
   ]
  },
  {
   "cell_type": "code",
   "execution_count": 3,
   "metadata": {},
   "outputs": [
    {
     "name": "stdout",
     "output_type": "stream",
     "text": [
      "There are 6 tables in this sqlite dataset\n",
      "\n",
      "Name of tables: Users\n",
      "row counts: 5\n",
      "\n",
      "Name of tables: Clinics\n",
      "row counts: 1558\n",
      "\n",
      "Name of tables: Addresses\n",
      "row counts: 1101\n",
      "\n",
      "Name of tables: Vaccines\n",
      "row counts: 7\n",
      "\n",
      "Name of tables: BookingSlots\n",
      "row counts: 11180\n",
      "\n",
      "Name of tables: VaccineRecords\n",
      "row counts: 0\n"
     ]
    }
   ],
   "source": [
    "cursor = conn.cursor()\n",
    "cursor.execute(\"SELECT name FROM sqlite_master WHERE type='table';\")\n",
    "tables = cursor.fetchall()\n",
    "\n",
    "print(f\"There are {len(tables)} tables in this sqlite dataset\")\n",
    "for table in tables:\n",
    "    table_name = table[0]\n",
    "    print(f\"\\nName of tables: {table_name}\")\n",
    "\n",
    "    # count rows for the table\n",
    "    cursor.execute(f\"SELECT COUNT(*) FROM {table_name}\")\n",
    "    row_count = cursor.fetchone()[0]\n",
    "    print(f\"row counts: {row_count}\")\n",
    "    # df = pd.read_sql(f\"SELECT * FROM {table_name}\", conn)\n",
    "    # print(df.describe())"
   ]
  },
  {
   "cell_type": "markdown",
   "metadata": {},
   "source": [
    "## Users\n"
   ]
  },
  {
   "cell_type": "code",
   "execution_count": 4,
   "metadata": {},
   "outputs": [
    {
     "data": {
      "application/vnd.microsoft.datawrangler.viewer.v0+json": {
       "columns": [
        {
         "name": "index",
         "rawType": "int64",
         "type": "integer"
        },
        {
         "name": "id",
         "rawType": "object",
         "type": "string"
        },
        {
         "name": "address_id",
         "rawType": "object",
         "type": "string"
        },
        {
         "name": "enrolled_clinic_id",
         "rawType": "object",
         "type": "unknown"
        },
        {
         "name": "nric",
         "rawType": "object",
         "type": "string"
        },
        {
         "name": "first_name",
         "rawType": "object",
         "type": "string"
        },
        {
         "name": "last_name",
         "rawType": "object",
         "type": "string"
        },
        {
         "name": "email",
         "rawType": "object",
         "type": "string"
        },
        {
         "name": "date_of_birth",
         "rawType": "object",
         "type": "string"
        },
        {
         "name": "gender",
         "rawType": "object",
         "type": "string"
        },
        {
         "name": "password",
         "rawType": "object",
         "type": "string"
        },
        {
         "name": "created_at",
         "rawType": "object",
         "type": "string"
        },
        {
         "name": "updated_at",
         "rawType": "object",
         "type": "string"
        }
       ],
       "conversionMethod": "pd.DataFrame",
       "ref": "9e34bf9b-a7cb-42ee-951d-c045d038b98a",
       "rows": [
        [
         "0",
         "f2967c0a-5121-4c46-a4dc-2b7979cfb421",
         "918a15ec-2333-4ed3-a4b7-39a66cc92ffa",
         null,
         "S9071950Q",
         "Mark",
         "Johnson",
         "mark.johnson@example.net",
         "1990-11-21",
         "M",
         "$2b$12$gf1LfqFawqeRB1xqfYzITulmwjcAhOUdsP09FqZWeKh87LRwNdebG",
         "2025-03-25 07:55:49",
         "2025-03-25 07:55:49"
        ],
        [
         "1",
         "e5723722-2395-447f-9512-ea0f17fac47f",
         "797a0d10-0e78-4426-856c-0823a957a090",
         "983a9652-d9a5-4560-a6b8-d7befb3fef45",
         "S8257099H",
         "Kimberly",
         "Garza",
         "kimberly.garza@example.net",
         "1982-02-26",
         "F",
         "$2b$12$ITAS7rMGe475rz.1x53sPe8sxMEYl9xbDh53Q3oZMqM4n9VM.R.uG",
         "2025-03-25 07:55:49",
         "2025-03-25 07:55:49"
        ],
        [
         "2",
         "fd20c08f-8b5b-4dc0-b110-5e4decd0aea9",
         "44851715-59cb-4ee3-81c3-11ced10d5fdc",
         "f53f8540-5d7b-4dde-b806-b638ae0615f4",
         "S9550684U",
         "Justin",
         "Baldwin",
         "justin.baldwin@example.com",
         "1995-03-22",
         "M",
         "$2b$12$atm0zwhIWEUQgpOq/oIUc.1TGMOogrMAZnvhp/cB7DWkOOPzfl5HW",
         "2025-03-25 07:55:49",
         "2025-03-25 07:55:49"
        ],
        [
         "3",
         "f5b0dfd9-4a27-49c2-aa6a-c05163bfbeaa",
         "7b9479b8-4384-48d1-b6d6-8e2d1ee2545b",
         "9c84ac40-ac28-4cd7-8fb5-516473c65719",
         "T0478320K",
         "Abigail",
         "Shaffer",
         "abigail.shaffer@example.org",
         "2004-07-13",
         "F",
         "$2b$12$/az9tuFgGPDzR7BkkiPZwO8n1m00CiMsLdnhYEXV45ph1K0wFeSDe",
         "2025-03-25 07:55:49",
         "2025-03-25 07:55:49"
        ],
        [
         "4",
         "ed5d95e8-0eaf-4101-92da-8149d99b53f5",
         "172f4d51-5c70-4f32-8633-87aaf0eb4847",
         "66648c66-52cd-48f4-8198-cd7d45919430",
         "S9511354W",
         "Gabrielle",
         "Davis",
         "gabrielle.davis@example.com",
         "1995-01-29",
         "F",
         "$2b$12$clgwLm467Hn2N40vlzBegOMQGCITn8jzU7CU0geR.E/iP9MAf0f0y",
         "2025-03-25 07:55:49",
         "2025-03-25 07:55:49"
        ]
       ],
       "shape": {
        "columns": 12,
        "rows": 5
       }
      },
      "text/html": [
       "<div>\n",
       "<style scoped>\n",
       "    .dataframe tbody tr th:only-of-type {\n",
       "        vertical-align: middle;\n",
       "    }\n",
       "\n",
       "    .dataframe tbody tr th {\n",
       "        vertical-align: top;\n",
       "    }\n",
       "\n",
       "    .dataframe thead th {\n",
       "        text-align: right;\n",
       "    }\n",
       "</style>\n",
       "<table border=\"1\" class=\"dataframe\">\n",
       "  <thead>\n",
       "    <tr style=\"text-align: right;\">\n",
       "      <th></th>\n",
       "      <th>id</th>\n",
       "      <th>address_id</th>\n",
       "      <th>enrolled_clinic_id</th>\n",
       "      <th>nric</th>\n",
       "      <th>first_name</th>\n",
       "      <th>last_name</th>\n",
       "      <th>email</th>\n",
       "      <th>date_of_birth</th>\n",
       "      <th>gender</th>\n",
       "      <th>password</th>\n",
       "      <th>created_at</th>\n",
       "      <th>updated_at</th>\n",
       "    </tr>\n",
       "  </thead>\n",
       "  <tbody>\n",
       "    <tr>\n",
       "      <th>0</th>\n",
       "      <td>f2967c0a-5121-4c46-a4dc-2b7979cfb421</td>\n",
       "      <td>918a15ec-2333-4ed3-a4b7-39a66cc92ffa</td>\n",
       "      <td>None</td>\n",
       "      <td>S9071950Q</td>\n",
       "      <td>Mark</td>\n",
       "      <td>Johnson</td>\n",
       "      <td>mark.johnson@example.net</td>\n",
       "      <td>1990-11-21</td>\n",
       "      <td>M</td>\n",
       "      <td>$2b$12$gf1LfqFawqeRB1xqfYzITulmwjcAhOUdsP09FqZ...</td>\n",
       "      <td>2025-03-25 07:55:49</td>\n",
       "      <td>2025-03-25 07:55:49</td>\n",
       "    </tr>\n",
       "    <tr>\n",
       "      <th>1</th>\n",
       "      <td>e5723722-2395-447f-9512-ea0f17fac47f</td>\n",
       "      <td>797a0d10-0e78-4426-856c-0823a957a090</td>\n",
       "      <td>983a9652-d9a5-4560-a6b8-d7befb3fef45</td>\n",
       "      <td>S8257099H</td>\n",
       "      <td>Kimberly</td>\n",
       "      <td>Garza</td>\n",
       "      <td>kimberly.garza@example.net</td>\n",
       "      <td>1982-02-26</td>\n",
       "      <td>F</td>\n",
       "      <td>$2b$12$ITAS7rMGe475rz.1x53sPe8sxMEYl9xbDh53Q3o...</td>\n",
       "      <td>2025-03-25 07:55:49</td>\n",
       "      <td>2025-03-25 07:55:49</td>\n",
       "    </tr>\n",
       "    <tr>\n",
       "      <th>2</th>\n",
       "      <td>fd20c08f-8b5b-4dc0-b110-5e4decd0aea9</td>\n",
       "      <td>44851715-59cb-4ee3-81c3-11ced10d5fdc</td>\n",
       "      <td>f53f8540-5d7b-4dde-b806-b638ae0615f4</td>\n",
       "      <td>S9550684U</td>\n",
       "      <td>Justin</td>\n",
       "      <td>Baldwin</td>\n",
       "      <td>justin.baldwin@example.com</td>\n",
       "      <td>1995-03-22</td>\n",
       "      <td>M</td>\n",
       "      <td>$2b$12$atm0zwhIWEUQgpOq/oIUc.1TGMOogrMAZnvhp/c...</td>\n",
       "      <td>2025-03-25 07:55:49</td>\n",
       "      <td>2025-03-25 07:55:49</td>\n",
       "    </tr>\n",
       "    <tr>\n",
       "      <th>3</th>\n",
       "      <td>f5b0dfd9-4a27-49c2-aa6a-c05163bfbeaa</td>\n",
       "      <td>7b9479b8-4384-48d1-b6d6-8e2d1ee2545b</td>\n",
       "      <td>9c84ac40-ac28-4cd7-8fb5-516473c65719</td>\n",
       "      <td>T0478320K</td>\n",
       "      <td>Abigail</td>\n",
       "      <td>Shaffer</td>\n",
       "      <td>abigail.shaffer@example.org</td>\n",
       "      <td>2004-07-13</td>\n",
       "      <td>F</td>\n",
       "      <td>$2b$12$/az9tuFgGPDzR7BkkiPZwO8n1m00CiMsLdnhYEX...</td>\n",
       "      <td>2025-03-25 07:55:49</td>\n",
       "      <td>2025-03-25 07:55:49</td>\n",
       "    </tr>\n",
       "    <tr>\n",
       "      <th>4</th>\n",
       "      <td>ed5d95e8-0eaf-4101-92da-8149d99b53f5</td>\n",
       "      <td>172f4d51-5c70-4f32-8633-87aaf0eb4847</td>\n",
       "      <td>66648c66-52cd-48f4-8198-cd7d45919430</td>\n",
       "      <td>S9511354W</td>\n",
       "      <td>Gabrielle</td>\n",
       "      <td>Davis</td>\n",
       "      <td>gabrielle.davis@example.com</td>\n",
       "      <td>1995-01-29</td>\n",
       "      <td>F</td>\n",
       "      <td>$2b$12$clgwLm467Hn2N40vlzBegOMQGCITn8jzU7CU0ge...</td>\n",
       "      <td>2025-03-25 07:55:49</td>\n",
       "      <td>2025-03-25 07:55:49</td>\n",
       "    </tr>\n",
       "  </tbody>\n",
       "</table>\n",
       "</div>"
      ],
      "text/plain": [
       "                                     id                            address_id  \\\n",
       "0  f2967c0a-5121-4c46-a4dc-2b7979cfb421  918a15ec-2333-4ed3-a4b7-39a66cc92ffa   \n",
       "1  e5723722-2395-447f-9512-ea0f17fac47f  797a0d10-0e78-4426-856c-0823a957a090   \n",
       "2  fd20c08f-8b5b-4dc0-b110-5e4decd0aea9  44851715-59cb-4ee3-81c3-11ced10d5fdc   \n",
       "3  f5b0dfd9-4a27-49c2-aa6a-c05163bfbeaa  7b9479b8-4384-48d1-b6d6-8e2d1ee2545b   \n",
       "4  ed5d95e8-0eaf-4101-92da-8149d99b53f5  172f4d51-5c70-4f32-8633-87aaf0eb4847   \n",
       "\n",
       "                     enrolled_clinic_id       nric first_name last_name  \\\n",
       "0                                  None  S9071950Q       Mark   Johnson   \n",
       "1  983a9652-d9a5-4560-a6b8-d7befb3fef45  S8257099H   Kimberly     Garza   \n",
       "2  f53f8540-5d7b-4dde-b806-b638ae0615f4  S9550684U     Justin   Baldwin   \n",
       "3  9c84ac40-ac28-4cd7-8fb5-516473c65719  T0478320K    Abigail   Shaffer   \n",
       "4  66648c66-52cd-48f4-8198-cd7d45919430  S9511354W  Gabrielle     Davis   \n",
       "\n",
       "                         email date_of_birth gender  \\\n",
       "0     mark.johnson@example.net    1990-11-21      M   \n",
       "1   kimberly.garza@example.net    1982-02-26      F   \n",
       "2   justin.baldwin@example.com    1995-03-22      M   \n",
       "3  abigail.shaffer@example.org    2004-07-13      F   \n",
       "4  gabrielle.davis@example.com    1995-01-29      F   \n",
       "\n",
       "                                            password           created_at  \\\n",
       "0  $2b$12$gf1LfqFawqeRB1xqfYzITulmwjcAhOUdsP09FqZ...  2025-03-25 07:55:49   \n",
       "1  $2b$12$ITAS7rMGe475rz.1x53sPe8sxMEYl9xbDh53Q3o...  2025-03-25 07:55:49   \n",
       "2  $2b$12$atm0zwhIWEUQgpOq/oIUc.1TGMOogrMAZnvhp/c...  2025-03-25 07:55:49   \n",
       "3  $2b$12$/az9tuFgGPDzR7BkkiPZwO8n1m00CiMsLdnhYEX...  2025-03-25 07:55:49   \n",
       "4  $2b$12$clgwLm467Hn2N40vlzBegOMQGCITn8jzU7CU0ge...  2025-03-25 07:55:49   \n",
       "\n",
       "            updated_at  \n",
       "0  2025-03-25 07:55:49  \n",
       "1  2025-03-25 07:55:49  \n",
       "2  2025-03-25 07:55:49  \n",
       "3  2025-03-25 07:55:49  \n",
       "4  2025-03-25 07:55:49  "
      ]
     },
     "metadata": {},
     "output_type": "display_data"
    }
   ],
   "source": [
    "# Query the Vaccines table\n",
    "query = \"SELECT * FROM Users\"\n",
    "# Execute the query and load results into a DataFrame\n",
    "user_df = pd.read_sql(query, conn)\n",
    "# Display the results\n",
    "display(user_df)"
   ]
  },
  {
   "cell_type": "code",
   "execution_count": 5,
   "metadata": {},
   "outputs": [
    {
     "name": "stdout",
     "output_type": "stream",
     "text": [
      "All nrics match the expected format.\n",
      "Number of unique full names: 5\n",
      "All date are in range\n"
     ]
    }
   ],
   "source": [
    "# ----------\n",
    "# Check nric\n",
    "# ----------\n",
    "# Regex pattern for nric\n",
    "nric_regex = r\"[STFGM]\\d{7}[A-Z]\"\n",
    "# Verify all nrics match the expected pattern\n",
    "if all(re.fullmatch(nric_regex, nric) for nric in user_df[\"nric\"]):\n",
    "    print(\"All nrics match the expected format.\")\n",
    "else:\n",
    "    print(\"Some nrics do not match the expected format.\")\n",
    "    print(user_df.loc[~user_df[\"nric\"].str.match(nric_regex), [\"nric\"]])\n",
    "\n",
    "# ----------\n",
    "# Check name\n",
    "# ----------\n",
    "# Combine first name and last name into a full name for checking uniqueness\n",
    "check_fullName = user_df[\"first_name\"] + \" \" + user_df[\"last_name\"]\n",
    "# Check that the full names are all unique\n",
    "print(f\"Number of unique full names: {check_fullName.nunique()}\")\n",
    "\n",
    "# ---------\n",
    "# Check dob\n",
    "# ---------\n",
    "start_date = \"1920-01-01\"\n",
    "end_date = \"2025-03-01\"\n",
    "\n",
    "user_df[\"date_of_birth\"] = pd.to_datetime(user_df[\"date_of_birth\"])\n",
    "start_date = pd.to_datetime(start_date)\n",
    "end_date = pd.to_datetime(end_date)\n",
    "\n",
    "is_in_range = (user_df[\"date_of_birth\"] >= start_date) & (\n",
    "    user_df[\"date_of_birth\"] <= end_date\n",
    ")\n",
    "\n",
    "# check if the date is under range\n",
    "if is_in_range.all():\n",
    "    print(\"All date are in range\")\n",
    "else:\n",
    "    print(\"Some dates are not in range\")"
   ]
  },
  {
   "cell_type": "markdown",
   "metadata": {},
   "source": [
    "## Clinics\n"
   ]
  },
  {
   "cell_type": "code",
   "execution_count": 6,
   "metadata": {},
   "outputs": [
    {
     "data": {
      "application/vnd.microsoft.datawrangler.viewer.v0+json": {
       "columns": [
        {
         "name": "index",
         "rawType": "int64",
         "type": "integer"
        },
        {
         "name": "id",
         "rawType": "object",
         "type": "string"
        },
        {
         "name": "address_id",
         "rawType": "object",
         "type": "string"
        },
        {
         "name": "name",
         "rawType": "object",
         "type": "string"
        },
        {
         "name": "type",
         "rawType": "object",
         "type": "string"
        },
        {
         "name": "created_at",
         "rawType": "object",
         "type": "string"
        },
        {
         "name": "updated_at",
         "rawType": "object",
         "type": "string"
        }
       ],
       "conversionMethod": "pd.DataFrame",
       "ref": "34def13e-e4cf-4449-b718-97d7fef63df2",
       "rows": [
        [
         "0",
         "1d2e196d-af66-48f1-8f2c-0e23ad0ecde3",
         "fa03e01a-219b-4ed1-91e6-14238e533df0",
         "Ang Mo Kio Polyclinic",
         "polyclinic",
         "2025-03-25 07:55:49",
         "2025-03-25 07:55:49"
        ],
        [
         "1",
         "859fe92f-9c4b-4f3d-beda-b6c96e67887f",
         "73532a10-1eff-4b9c-a36b-d5f7523bf760",
         "Geylang Polyclinic",
         "polyclinic",
         "2025-03-25 07:55:49",
         "2025-03-25 07:55:49"
        ],
        [
         "2",
         "76da5477-df98-49d2-99d5-ba6d3900c3b7",
         "77ac2094-04eb-483e-927d-076602cde3b7",
         "Hougang Polyclinic",
         "polyclinic",
         "2025-03-25 07:55:49",
         "2025-03-25 07:55:49"
        ],
        [
         "3",
         "1489b9d7-5c8b-4df8-a614-70e76eb35722",
         "bffe5d37-8def-4b9b-80e3-10e30a6734f8",
         "Kallang Polyclinic",
         "polyclinic",
         "2025-03-25 07:55:49",
         "2025-03-25 07:55:49"
        ],
        [
         "4",
         "84b1aa83-156c-4eca-a9bf-ddc72424de1a",
         "02931488-c56f-4c2f-8695-af6d7c28e1ba",
         "Khatib Polyclinic",
         "polyclinic",
         "2025-03-25 07:55:49",
         "2025-03-25 07:55:49"
        ],
        [
         "5",
         "60efd679-a6e9-44c7-b395-8fb05a64714a",
         "07a315b4-e6d8-4ef3-a73b-084785a037d8",
         "Toa Payoh Polyclinic",
         "polyclinic",
         "2025-03-25 07:55:49",
         "2025-03-25 07:55:49"
        ],
        [
         "6",
         "409faaa8-c905-417a-b600-49f40e7e6ce3",
         "ee651721-1763-4e3f-82f0-283fc3054de4",
         "Sembawang Polyclinic",
         "polyclinic",
         "2025-03-25 07:55:49",
         "2025-03-25 07:55:49"
        ],
        [
         "7",
         "c8ee8f2b-8e04-4ddc-a1c7-d3277b547559",
         "a09c4e3f-e63e-4f52-823e-1f958c3115aa",
         "Woodlands Polyclinic",
         "polyclinic",
         "2025-03-25 07:55:49",
         "2025-03-25 07:55:49"
        ],
        [
         "8",
         "62413894-630f-4432-bb14-62ffe6179a4e",
         "86207ba7-0fef-48d2-930f-4d84ad3d3e9b",
         "Yishun Polyclinic",
         "polyclinic",
         "2025-03-25 07:55:49",
         "2025-03-25 07:55:49"
        ],
        [
         "9",
         "65db34ad-4767-4e5d-a6a8-9cc6d7077c0f",
         "0d0c9ebc-081e-4df8-b406-65a8134b45f6",
         "Bukit Batok Polyclinic",
         "polyclinic",
         "2025-03-25 07:55:49",
         "2025-03-25 07:55:49"
        ],
        [
         "10",
         "14398891-c7a3-4425-9d6d-63a5c8cc4ac8",
         "9e9c38be-d1fa-4e49-9517-07bf3c5a0e9d",
         "Jurong Polyclinic",
         "polyclinic",
         "2025-03-25 07:55:49",
         "2025-03-25 07:55:49"
        ],
        [
         "11",
         "4de9e253-08ac-445f-95a6-3d086068c49c",
         "5b36d1f0-093b-416c-9624-cc171de1b429",
         "Pioneer Polyclinic",
         "polyclinic",
         "2025-03-25 07:55:49",
         "2025-03-25 07:55:49"
        ],
        [
         "12",
         "9e1c435c-49fb-4d43-94d3-8f6b1c3ef061",
         "abf6cbe0-f002-49ed-b8b5-3ecb41767702",
         "Choa Chu Kang Polyclinic",
         "polyclinic",
         "2025-03-25 07:55:49",
         "2025-03-25 07:55:49"
        ],
        [
         "13",
         "015991c6-8565-4f5b-a162-abb083bf6d58",
         "26520a54-3103-4e87-bc0e-c4ed35389a41",
         "Clementi Polyclinic",
         "polyclinic",
         "2025-03-25 07:55:49",
         "2025-03-25 07:55:49"
        ],
        [
         "14",
         "444e79e5-ad10-4240-9ec7-47cb5c24ee2a",
         "f91836a8-8179-4596-90af-9ea4f96e2f5f",
         "Queenstown Polyclinic",
         "polyclinic",
         "2025-03-25 07:55:49",
         "2025-03-25 07:55:49"
        ],
        [
         "15",
         "dc22922d-7a1a-4abb-9f23-d8d685bf555c",
         "95eb88e2-47e6-4a20-8581-a73ec3f2e5cd",
         "Bukit Panjang Polyclinic",
         "polyclinic",
         "2025-03-25 07:55:49",
         "2025-03-25 07:55:49"
        ],
        [
         "16",
         "2017474b-c611-42a9-be8c-3fa14457f8b6",
         "bfb3b49b-cb7e-4bad-a92d-14f4ea385c66",
         "Bedok Polyclinic",
         "polyclinic",
         "2025-03-25 07:55:49",
         "2025-03-25 07:55:49"
        ],
        [
         "17",
         "d4f04b05-e5f6-4945-84ce-e1b22b8ebaf4",
         "1da8eefe-99b1-47f7-8fac-44ffb83b1e28",
         "Bukit Merah Polyclinic",
         "polyclinic",
         "2025-03-25 07:55:49",
         "2025-03-25 07:55:49"
        ],
        [
         "18",
         "983a9652-d9a5-4560-a6b8-d7befb3fef45",
         "a4b60f97-7eeb-4cba-9019-55f816c77189",
         "Marine Parade Polyclinic",
         "polyclinic",
         "2025-03-25 07:55:49",
         "2025-03-25 07:55:49"
        ],
        [
         "19",
         "8ed31a4c-a932-4634-b25f-113513f20ec4",
         "601e3e81-f651-4ba4-ac46-88d22de9db59",
         "Outram Polyclinic",
         "polyclinic",
         "2025-03-25 07:55:49",
         "2025-03-25 07:55:49"
        ],
        [
         "20",
         "f53f8540-5d7b-4dde-b806-b638ae0615f4",
         "6466eafc-030f-4a48-815b-0dd9b2267b18",
         "Pasir Ris Polyclinic",
         "polyclinic",
         "2025-03-25 07:55:49",
         "2025-03-25 07:55:49"
        ],
        [
         "21",
         "3ce84b91-3ab8-4557-8690-65cf91831fa4",
         "7b8c6306-5935-484d-b0f8-91fdff9587d3",
         "Sengkang Polyclinic",
         "polyclinic",
         "2025-03-25 07:55:49",
         "2025-03-25 07:55:49"
        ],
        [
         "22",
         "33c273c7-37c4-47f0-8ec3-fa44ad03a89c",
         "53b58ed8-484d-4184-9480-df25bfe1a57e",
         "Tampines Polyclinic",
         "polyclinic",
         "2025-03-25 07:55:49",
         "2025-03-25 07:55:49"
        ],
        [
         "23",
         "82eb0266-6620-491e-9e8b-535e09e177ba",
         "fa8ab892-4672-4a0a-aca6-b3cdda2f7c92",
         "Punggol Polyclinic",
         "polyclinic",
         "2025-03-25 07:55:49",
         "2025-03-25 07:55:49"
        ],
        [
         "24",
         "642857a8-3255-4b5f-9db8-7c73e4955463",
         "59e0cbc2-e12b-4d8b-8010-57dc0d43b6ba",
         "Eunos Polyclinic",
         "polyclinic",
         "2025-03-25 07:55:49",
         "2025-03-25 07:55:49"
        ],
        [
         "25",
         "d04e2d6c-9ee8-4871-b79e-35d8e587cda9",
         "707f89b0-1fca-4845-8473-b2c10b82acc6",
         "Tampines North Polyclinic",
         "polyclinic",
         "2025-03-25 07:55:49",
         "2025-03-25 07:55:49"
        ],
        [
         "26",
         "07e469ba-f570-4afd-aeaa-3b6174e6405a",
         "d5f0fa18-08a2-4851-9d68-c2bf2375cb0d",
         "Cavenagh Medical Clinic And Home Care",
         "gp",
         "2025-03-25 07:55:49",
         "2025-03-25 07:55:49"
        ],
        [
         "27",
         "06f2b2f0-db64-42e9-a542-d479f0a30e21",
         "bbba21e6-f671-48b7-a043-76dc7ceb4a98",
         "Mei Ling Clinic",
         "gp",
         "2025-03-25 07:55:49",
         "2025-03-25 07:55:49"
        ],
        [
         "28",
         "c24db0af-2aee-42df-992d-9722ea26689c",
         "8756cbe3-7c5f-4ec9-a587-3f4a606af01f",
         "Rcmc Rivervale Crescent Medical Centre",
         "gp",
         "2025-03-25 07:55:49",
         "2025-03-25 07:55:49"
        ],
        [
         "29",
         "41387e1a-c991-4c2d-aae3-70d59e28bc13",
         "edb7a489-e296-4543-96f9-fc3f78572615",
         "360 Clinic",
         "gp",
         "2025-03-25 07:55:49",
         "2025-03-25 07:55:49"
        ],
        [
         "30",
         "b313b69e-ea86-498c-af2d-34f7ef4f22e7",
         "c9763d22-174d-41a9-8be0-aff8acb8f439",
         "SKY Medical",
         "gp",
         "2025-03-25 07:55:49",
         "2025-03-25 07:55:49"
        ],
        [
         "31",
         "66e5da49-60fc-43c1-a3b3-1b4b5c55c521",
         "91d557ef-9c75-4d89-b2fb-f7fcce5ee06a",
         "DTAP @ Kovan",
         "gp",
         "2025-03-25 07:55:49",
         "2025-03-25 07:55:49"
        ],
        [
         "32",
         "1dbe0e81-1bc3-4034-bc3d-9d6237967dfd",
         "4dcdda12-f9a7-4318-b77e-1550c4198f1d",
         "Kindred Family Clinic (Yishun)",
         "gp",
         "2025-03-25 07:55:49",
         "2025-03-25 07:55:49"
        ],
        [
         "33",
         "2f290750-35b9-41a5-b71a-2864ea278da1",
         "c6a93bf0-9d28-426b-b0db-cf824a0e1c55",
         "Vitacare Family Clinic @ Kovan",
         "gp",
         "2025-03-25 07:55:49",
         "2025-03-25 07:55:49"
        ],
        [
         "34",
         "5f5b6315-ffdb-4bd6-81d0-c9ceeedc76bf",
         "ddccbf67-cef6-4d9a-924c-4d6613cdca98",
         "Healthway Medical (Yishun Ave 5)",
         "gp",
         "2025-03-25 07:55:49",
         "2025-03-25 07:55:49"
        ],
        [
         "35",
         "90d4b6db-abd0-4f2b-bc41-293f74d580ee",
         "1ca8ab4a-a52d-473a-a781-672821a6fa64",
         "Bartley Clinic",
         "gp",
         "2025-03-25 07:55:49",
         "2025-03-25 07:55:49"
        ],
        [
         "36",
         "095791fa-0f72-4b2a-9b2e-a970b6cf303e",
         "5975f4da-1c66-42f6-a619-e9d411451875",
         "Parkway Shenton Medical Group (Bukit Panjang)",
         "gp",
         "2025-03-25 07:55:49",
         "2025-03-25 07:55:49"
        ],
        [
         "37",
         "4cdbb035-c591-495a-9669-5c42b9e04c84",
         "5f910285-240d-45f8-af8e-a9acc71d6d21",
         "A+ffordable Clinic (Hougang)",
         "gp",
         "2025-03-25 07:55:49",
         "2025-03-25 07:55:49"
        ],
        [
         "38",
         "47f81a25-3e4e-4ad3-836b-e0a9c07ba56e",
         "3d234ad6-ec07-49e1-a1a6-4e388f5387b7",
         "171 Stirling Family Clinic",
         "gp",
         "2025-03-25 07:55:49",
         "2025-03-25 07:55:49"
        ],
        [
         "39",
         "89b1719d-1307-4d9c-b11f-6c63ebf869d6",
         "b5ca76a4-f960-4529-abbd-806a4f928c0f",
         "United Health Family Clinic & Surgery",
         "gp",
         "2025-03-25 07:55:49",
         "2025-03-25 07:55:49"
        ],
        [
         "40",
         "d008ebb8-dfa3-4be3-bae6-f25614b9be8e",
         "323c578d-b27e-4ce6-8a62-cb6a6c2262c5",
         "Raffles Medical (Compass One)",
         "gp",
         "2025-03-25 07:55:49",
         "2025-03-25 07:55:49"
        ],
        [
         "41",
         "13d1e4b1-a0f2-4dbb-9dc6-4c8dbd556bfd",
         "10eb6d1f-674e-487b-86ea-807ca7c3dc7a",
         "Good Medical Clinic (Tampines East)",
         "gp",
         "2025-03-25 07:55:49",
         "2025-03-25 07:55:49"
        ],
        [
         "42",
         "e436e479-b4c9-43fd-8ae6-cd45f2b67bbd",
         "72c44b47-c70e-42ff-83c6-5fb4212d6b13",
         "SingMedical Clinic Clementi",
         "gp",
         "2025-03-25 07:55:49",
         "2025-03-25 07:55:49"
        ],
        [
         "43",
         "df41f0b5-9783-473c-9c56-8c37b683323b",
         "61576a76-96fe-45ae-ae47-cc98c005fe30",
         "Cecilia Family Clinic & Surgery",
         "gp",
         "2025-03-25 07:55:49",
         "2025-03-25 07:55:49"
        ],
        [
         "44",
         "b679b468-ef1f-4ed8-8dd6-db6f4663c195",
         "f5308082-4f00-46ca-b904-26702b61dac8",
         "Inspire Medical Clinic (Jalan Batu)",
         "gp",
         "2025-03-25 07:55:49",
         "2025-03-25 07:55:49"
        ],
        [
         "45",
         "81b08bcf-7a34-4bbc-af8f-c096e31f6867",
         "1926504b-9803-497b-820a-963ba7e685a5",
         "My Family Clinic (Choa Chu Kang)",
         "gp",
         "2025-03-25 07:55:49",
         "2025-03-25 07:55:49"
        ],
        [
         "46",
         "6745f2c8-e4b2-4209-a287-37cde3c839a0",
         "d10465d7-674d-4126-b84a-e523fb83ae69",
         "Novena Medical Center Family Clinic",
         "gp",
         "2025-03-25 07:55:49",
         "2025-03-25 07:55:49"
        ],
        [
         "47",
         "aeb30a07-577a-41a4-961f-a2b40f0e27f4",
         "45d04b44-64ce-4fa9-b6c1-0a43b6523c50",
         "Healthway Medical (Millenia Walk)",
         "gp",
         "2025-03-25 07:55:49",
         "2025-03-25 07:55:49"
        ],
        [
         "48",
         "687ea387-d4c0-4445-9c03-db40c33d9528",
         "2320fb26-6953-4eaf-8ceb-24175214a25a",
         "The Tenteram Clinic",
         "gp",
         "2025-03-25 07:55:49",
         "2025-03-25 07:55:49"
        ],
        [
         "49",
         "489c5350-4766-4cfb-a963-589259f8587f",
         "589dbe96-3fb9-4c16-abbc-a20a2c078db4",
         "HAFcare Novena Clinic",
         "gp",
         "2025-03-25 07:55:49",
         "2025-03-25 07:55:49"
        ]
       ],
       "shape": {
        "columns": 6,
        "rows": 1558
       }
      },
      "text/html": [
       "<div>\n",
       "<style scoped>\n",
       "    .dataframe tbody tr th:only-of-type {\n",
       "        vertical-align: middle;\n",
       "    }\n",
       "\n",
       "    .dataframe tbody tr th {\n",
       "        vertical-align: top;\n",
       "    }\n",
       "\n",
       "    .dataframe thead th {\n",
       "        text-align: right;\n",
       "    }\n",
       "</style>\n",
       "<table border=\"1\" class=\"dataframe\">\n",
       "  <thead>\n",
       "    <tr style=\"text-align: right;\">\n",
       "      <th></th>\n",
       "      <th>id</th>\n",
       "      <th>address_id</th>\n",
       "      <th>name</th>\n",
       "      <th>type</th>\n",
       "      <th>created_at</th>\n",
       "      <th>updated_at</th>\n",
       "    </tr>\n",
       "  </thead>\n",
       "  <tbody>\n",
       "    <tr>\n",
       "      <th>0</th>\n",
       "      <td>1d2e196d-af66-48f1-8f2c-0e23ad0ecde3</td>\n",
       "      <td>fa03e01a-219b-4ed1-91e6-14238e533df0</td>\n",
       "      <td>Ang Mo Kio Polyclinic</td>\n",
       "      <td>polyclinic</td>\n",
       "      <td>2025-03-25 07:55:49</td>\n",
       "      <td>2025-03-25 07:55:49</td>\n",
       "    </tr>\n",
       "    <tr>\n",
       "      <th>1</th>\n",
       "      <td>859fe92f-9c4b-4f3d-beda-b6c96e67887f</td>\n",
       "      <td>73532a10-1eff-4b9c-a36b-d5f7523bf760</td>\n",
       "      <td>Geylang Polyclinic</td>\n",
       "      <td>polyclinic</td>\n",
       "      <td>2025-03-25 07:55:49</td>\n",
       "      <td>2025-03-25 07:55:49</td>\n",
       "    </tr>\n",
       "    <tr>\n",
       "      <th>2</th>\n",
       "      <td>76da5477-df98-49d2-99d5-ba6d3900c3b7</td>\n",
       "      <td>77ac2094-04eb-483e-927d-076602cde3b7</td>\n",
       "      <td>Hougang Polyclinic</td>\n",
       "      <td>polyclinic</td>\n",
       "      <td>2025-03-25 07:55:49</td>\n",
       "      <td>2025-03-25 07:55:49</td>\n",
       "    </tr>\n",
       "    <tr>\n",
       "      <th>3</th>\n",
       "      <td>1489b9d7-5c8b-4df8-a614-70e76eb35722</td>\n",
       "      <td>bffe5d37-8def-4b9b-80e3-10e30a6734f8</td>\n",
       "      <td>Kallang Polyclinic</td>\n",
       "      <td>polyclinic</td>\n",
       "      <td>2025-03-25 07:55:49</td>\n",
       "      <td>2025-03-25 07:55:49</td>\n",
       "    </tr>\n",
       "    <tr>\n",
       "      <th>4</th>\n",
       "      <td>84b1aa83-156c-4eca-a9bf-ddc72424de1a</td>\n",
       "      <td>02931488-c56f-4c2f-8695-af6d7c28e1ba</td>\n",
       "      <td>Khatib Polyclinic</td>\n",
       "      <td>polyclinic</td>\n",
       "      <td>2025-03-25 07:55:49</td>\n",
       "      <td>2025-03-25 07:55:49</td>\n",
       "    </tr>\n",
       "    <tr>\n",
       "      <th>...</th>\n",
       "      <td>...</td>\n",
       "      <td>...</td>\n",
       "      <td>...</td>\n",
       "      <td>...</td>\n",
       "      <td>...</td>\n",
       "      <td>...</td>\n",
       "    </tr>\n",
       "    <tr>\n",
       "      <th>1553</th>\n",
       "      <td>1e618339-2b5e-4386-9696-d4b27874f4be</td>\n",
       "      <td>b45669cd-00d4-42bf-b94f-15d759fb0978</td>\n",
       "      <td>Trinity Medical@Shenton</td>\n",
       "      <td>gp</td>\n",
       "      <td>2025-03-25 07:55:49</td>\n",
       "      <td>2025-03-25 07:55:49</td>\n",
       "    </tr>\n",
       "    <tr>\n",
       "      <th>1554</th>\n",
       "      <td>d3931e52-a261-4d65-a91a-9ecfcad14ee0</td>\n",
       "      <td>f435aa5a-56b0-46d8-a073-d7d6986fd7ae</td>\n",
       "      <td>Saudara Clinic By A+J General Physicians</td>\n",
       "      <td>gp</td>\n",
       "      <td>2025-03-25 07:55:49</td>\n",
       "      <td>2025-03-25 07:55:49</td>\n",
       "    </tr>\n",
       "    <tr>\n",
       "      <th>1555</th>\n",
       "      <td>7d44d74b-ef2b-40d0-a18d-8f5487e28371</td>\n",
       "      <td>40d044c7-e40b-4d39-ad1f-321fdc0895dc</td>\n",
       "      <td>Zara Clinic</td>\n",
       "      <td>gp</td>\n",
       "      <td>2025-03-25 07:55:49</td>\n",
       "      <td>2025-03-25 07:55:49</td>\n",
       "    </tr>\n",
       "    <tr>\n",
       "      <th>1556</th>\n",
       "      <td>1e346932-a436-432a-b2c4-1d77b25df77a</td>\n",
       "      <td>21822a2b-6b6d-43ad-a2a9-93cb1411a01c</td>\n",
       "      <td>360 Clinic</td>\n",
       "      <td>gp</td>\n",
       "      <td>2025-03-25 07:55:49</td>\n",
       "      <td>2025-03-25 07:55:49</td>\n",
       "    </tr>\n",
       "    <tr>\n",
       "      <th>1557</th>\n",
       "      <td>332515db-9138-4874-91e5-1cc74469e78d</td>\n",
       "      <td>6009294c-1458-4e18-b770-df510e08d4ca</td>\n",
       "      <td>Vital-Care Clinic and Surgery Pte Ltd</td>\n",
       "      <td>gp</td>\n",
       "      <td>2025-03-25 07:55:49</td>\n",
       "      <td>2025-03-25 07:55:49</td>\n",
       "    </tr>\n",
       "  </tbody>\n",
       "</table>\n",
       "<p>1558 rows × 6 columns</p>\n",
       "</div>"
      ],
      "text/plain": [
       "                                        id  \\\n",
       "0     1d2e196d-af66-48f1-8f2c-0e23ad0ecde3   \n",
       "1     859fe92f-9c4b-4f3d-beda-b6c96e67887f   \n",
       "2     76da5477-df98-49d2-99d5-ba6d3900c3b7   \n",
       "3     1489b9d7-5c8b-4df8-a614-70e76eb35722   \n",
       "4     84b1aa83-156c-4eca-a9bf-ddc72424de1a   \n",
       "...                                    ...   \n",
       "1553  1e618339-2b5e-4386-9696-d4b27874f4be   \n",
       "1554  d3931e52-a261-4d65-a91a-9ecfcad14ee0   \n",
       "1555  7d44d74b-ef2b-40d0-a18d-8f5487e28371   \n",
       "1556  1e346932-a436-432a-b2c4-1d77b25df77a   \n",
       "1557  332515db-9138-4874-91e5-1cc74469e78d   \n",
       "\n",
       "                                address_id  \\\n",
       "0     fa03e01a-219b-4ed1-91e6-14238e533df0   \n",
       "1     73532a10-1eff-4b9c-a36b-d5f7523bf760   \n",
       "2     77ac2094-04eb-483e-927d-076602cde3b7   \n",
       "3     bffe5d37-8def-4b9b-80e3-10e30a6734f8   \n",
       "4     02931488-c56f-4c2f-8695-af6d7c28e1ba   \n",
       "...                                    ...   \n",
       "1553  b45669cd-00d4-42bf-b94f-15d759fb0978   \n",
       "1554  f435aa5a-56b0-46d8-a073-d7d6986fd7ae   \n",
       "1555  40d044c7-e40b-4d39-ad1f-321fdc0895dc   \n",
       "1556  21822a2b-6b6d-43ad-a2a9-93cb1411a01c   \n",
       "1557  6009294c-1458-4e18-b770-df510e08d4ca   \n",
       "\n",
       "                                          name        type  \\\n",
       "0                        Ang Mo Kio Polyclinic  polyclinic   \n",
       "1                           Geylang Polyclinic  polyclinic   \n",
       "2                           Hougang Polyclinic  polyclinic   \n",
       "3                           Kallang Polyclinic  polyclinic   \n",
       "4                            Khatib Polyclinic  polyclinic   \n",
       "...                                        ...         ...   \n",
       "1553                   Trinity Medical@Shenton          gp   \n",
       "1554  Saudara Clinic By A+J General Physicians          gp   \n",
       "1555                               Zara Clinic          gp   \n",
       "1556                                360 Clinic          gp   \n",
       "1557     Vital-Care Clinic and Surgery Pte Ltd          gp   \n",
       "\n",
       "               created_at           updated_at  \n",
       "0     2025-03-25 07:55:49  2025-03-25 07:55:49  \n",
       "1     2025-03-25 07:55:49  2025-03-25 07:55:49  \n",
       "2     2025-03-25 07:55:49  2025-03-25 07:55:49  \n",
       "3     2025-03-25 07:55:49  2025-03-25 07:55:49  \n",
       "4     2025-03-25 07:55:49  2025-03-25 07:55:49  \n",
       "...                   ...                  ...  \n",
       "1553  2025-03-25 07:55:49  2025-03-25 07:55:49  \n",
       "1554  2025-03-25 07:55:49  2025-03-25 07:55:49  \n",
       "1555  2025-03-25 07:55:49  2025-03-25 07:55:49  \n",
       "1556  2025-03-25 07:55:49  2025-03-25 07:55:49  \n",
       "1557  2025-03-25 07:55:49  2025-03-25 07:55:49  \n",
       "\n",
       "[1558 rows x 6 columns]"
      ]
     },
     "metadata": {},
     "output_type": "display_data"
    }
   ],
   "source": [
    "# Query the Vaccines table\n",
    "query = \"SELECT * FROM Clinics\"\n",
    "# Execute the query and load results into a DataFrame\n",
    "clinics_df = pd.read_sql(query, conn)\n",
    "# Display the results\n",
    "display(clinics_df)"
   ]
  },
  {
   "cell_type": "markdown",
   "metadata": {},
   "source": [
    "## Addresses\n"
   ]
  },
  {
   "cell_type": "code",
   "execution_count": 7,
   "metadata": {},
   "outputs": [
    {
     "data": {
      "application/vnd.microsoft.datawrangler.viewer.v0+json": {
       "columns": [
        {
         "name": "index",
         "rawType": "int64",
         "type": "integer"
        },
        {
         "name": "id",
         "rawType": "object",
         "type": "string"
        },
        {
         "name": "postal_code",
         "rawType": "object",
         "type": "string"
        },
        {
         "name": "address",
         "rawType": "object",
         "type": "string"
        },
        {
         "name": "latitude",
         "rawType": "float64",
         "type": "float"
        },
        {
         "name": "longitude",
         "rawType": "float64",
         "type": "float"
        },
        {
         "name": "created_at",
         "rawType": "object",
         "type": "string"
        },
        {
         "name": "updated_at",
         "rawType": "object",
         "type": "string"
        }
       ],
       "conversionMethod": "pd.DataFrame",
       "ref": "4ea8631e-9277-47c4-a4c4-4d70994c192a",
       "rows": [
        [
         "0",
         "fa03e01a-219b-4ed1-91e6-14238e533df0",
         "569666",
         "21 ANG MO KIO CENTRAL 2 ANG MO KIO POLYCLINIC SINGAPORE 569666",
         "1.3743245905856",
         "103.845677779279",
         "2025-03-25 07:55:49",
         "2025-03-25 07:55:49"
        ],
        [
         "1",
         "73532a10-1eff-4b9c-a36b-d5f7523bf760",
         "389707",
         "21 GEYLANG EAST CENTRAL GEYLANG POLYCLINIC SINGAPORE 389707",
         "1.31949365581957",
         "103.887166041622",
         "2025-03-25 07:55:49",
         "2025-03-25 07:55:49"
        ],
        [
         "2",
         "77ac2094-04eb-483e-927d-076602cde3b7",
         "538829",
         "89 HOUGANG AVENUE 4 HOUGANG POLYCLINIC SINGAPORE 538829",
         "1.3699068381066",
         "103.88900146446",
         "2025-03-25 07:55:49",
         "2025-03-25 07:55:49"
        ],
        [
         "3",
         "bffe5d37-8def-4b9b-80e3-10e30a6734f8",
         "328263",
         "701 SERANGOON ROAD KALLANG POLYCLINIC AND LONG TERM CARE SINGAPORE 328263",
         "1.31678496747374",
         "103.858752270079",
         "2025-03-25 07:55:49",
         "2025-03-25 07:55:49"
        ],
        [
         "4",
         "02931488-c56f-4c2f-8695-af6d7c28e1ba",
         "769567",
         "690 YISHUN RING ROAD KHATIB POLYCLINIC SINGAPORE 769567",
         "1.41820402220914",
         "103.834428037791",
         "2025-03-25 07:55:49",
         "2025-03-25 07:55:49"
        ],
        [
         "5",
         "07a315b4-e6d8-4ef3-a73b-084785a037d8",
         "319260",
         "2003 LORONG 8 TOA PAYOH NATIONAL HEALTHCARE GROUP POLYCLINICS (TOA PAYOH POLYCLINIC) SINGAPORE 319260",
         "1.33449729734044",
         "103.858989057136",
         "2025-03-25 07:55:49",
         "2025-03-25 07:55:49"
        ],
        [
         "6",
         "ee651721-1763-4e3f-82f0-283fc3054de4",
         "756973",
         "21 CANBERRA LINK BUKIT CANBERRA SINGAPORE 756973",
         "1.44826336410158",
         "103.82276363189",
         "2025-03-25 07:55:49",
         "2025-03-25 07:55:49"
        ],
        [
         "7",
         "a09c4e3f-e63e-4f52-823e-1f958c3115aa",
         "738579",
         "10 WOODLANDS STREET 31 NATIONAL HEALTHCARE GROUP POLYCLINICS (WOODLANDS POLYCLINIC) SINGAPORE 738579",
         "1.43089322828279",
         "103.775212914803",
         "2025-03-25 07:55:49",
         "2025-03-25 07:55:49"
        ],
        [
         "8",
         "86207ba7-0fef-48d2-930f-4d84ad3d3e9b",
         "768898",
         "2 YISHUN AVENUE 9 NATIONAL HEALTHCARE GROUP POLYCLINICS (YISHUN POLYCLINIC) SINGAPORE 768898",
         "1.43035851992416",
         "103.839190698939",
         "2025-03-25 07:55:49",
         "2025-03-25 07:55:49"
        ],
        [
         "9",
         "0d0c9ebc-081e-4df8-b406-65a8134b45f6",
         "659164",
         "50 BUKIT BATOK WEST AVENUE 3 BUKIT BATOK POLYCLINIC SINGAPORE 659164",
         "1.35201517590477",
         "103.747822265461",
         "2025-03-25 07:55:49",
         "2025-03-25 07:55:49"
        ],
        [
         "10",
         "9e9c38be-d1fa-4e49-9517-07bf3c5a0e9d",
         "609788",
         "190 JURONG EAST AVENUE 1 JURONG POLYCLINIC SINGAPORE 609788",
         "1.34971979663763",
         "103.730717863166",
         "2025-03-25 07:55:49",
         "2025-03-25 07:55:49"
        ],
        [
         "11",
         "5b36d1f0-093b-416c-9624-cc171de1b429",
         "648201",
         "26 JURONG WEST STREET 61 NATIONAL UNIVERSITY POLYCLINICS (PIONEER POLYCLINIC) SINGAPORE 648201",
         "1.33856179501564",
         "103.699014641414",
         "2025-03-25 07:55:49",
         "2025-03-25 07:55:49"
        ],
        [
         "12",
         "abf6cbe0-f002-49ed-b8b5-3ecb41767702",
         "688846",
         "2 TECK WHYE CRESCENT CHOA CHU KANG POLYCLINIC SINGAPORE 688846",
         "1.38234139419018",
         "103.750776869899",
         "2025-03-25 07:55:49",
         "2025-03-25 07:55:49"
        ],
        [
         "13",
         "26520a54-3103-4e87-bc0e-c4ed35389a41",
         "120451",
         "451 CLEMENTI AVENUE 3 CLEMENTI POLYCLINIC SINGAPORE 120451",
         "1.31248109025097",
         "103.765476495005",
         "2025-03-25 07:55:49",
         "2025-03-25 07:55:49"
        ],
        [
         "14",
         "f91836a8-8179-4596-90af-9ea4f96e2f5f",
         "148958",
         "580 STIRLING ROAD NATIONAL UNIVERSITY POLYCLINICS (QUEENSTOWN POLYCLINIC) SINGAPORE 148958",
         "1.29847547391978",
         "103.800957796297",
         "2025-03-25 07:55:49",
         "2025-03-25 07:55:49"
        ],
        [
         "15",
         "95eb88e2-47e6-4a20-8581-a73ec3f2e5cd",
         "677726",
         "50 WOODLANDS ROAD SINGAPORE 677726",
         "1.38271254101906",
         "103.760166444878",
         "2025-03-25 07:55:49",
         "2025-03-25 07:55:49"
        ],
        [
         "16",
         "bfb3b49b-cb7e-4bad-a92d-14f4ea385c66",
         "469662",
         "11 BEDOK NORTH STREET 1 BEDOK PUBLIC LIBRARY SINGAPORE 469662",
         "1.32662388643563",
         "103.931806159881",
         "2025-03-25 07:55:49",
         "2025-03-25 07:55:49"
        ],
        [
         "17",
         "1da8eefe-99b1-47f7-8fac-44ffb83b1e28",
         "150163",
         "163 BUKIT MERAH CENTRAL SINGAPORE 150163",
         "1.28388120820457",
         "103.816939544137",
         "2025-03-25 07:55:49",
         "2025-03-25 07:55:49"
        ],
        [
         "18",
         "a4b60f97-7eeb-4cba-9019-55f816c77189",
         "440080",
         "80 MARINE PARADE CENTRAL MARINE PARADE PROMENADE SINGAPORE 440080",
         "1.30248202632175",
         "103.9077387936",
         "2025-03-25 07:55:49",
         "2025-03-25 07:55:49"
        ],
        [
         "19",
         "601e3e81-f651-4ba4-ac46-88d22de9db59",
         "168937",
         "3 SECOND HOSPITAL AVENUE HEALTH PROMOTION BOARD SINGAPORE 168937",
         "1.27960538581892",
         "103.838346361748",
         "2025-03-25 07:55:49",
         "2025-03-25 07:55:49"
        ],
        [
         "20",
         "6466eafc-030f-4a48-815b-0dd9b2267b18",
         "519466",
         "6 PASIR RIS DRIVE 8 PASIR RIS POLYCLINIC SINGAPORE 519466",
         "1.37350295229758",
         "103.948184929877",
         "2025-03-25 07:55:49",
         "2025-03-25 07:55:49"
        ],
        [
         "21",
         "7b8c6306-5935-484d-b0f8-91fdff9587d3",
         "545025",
         "2 SENGKANG SQUARE NEIGHBOURHOOD POLICE CENTRE SENGKANG SINGAPORE 545025",
         "1.3927855958876",
         "103.893906098217",
         "2025-03-25 07:55:49",
         "2025-03-25 07:55:49"
        ],
        [
         "22",
         "53b58ed8-484d-4184-9480-df25bfe1a57e",
         "529203",
         "1 TAMPINES STREET 41 SINGHEALTH POLYCLINICS (TAMPINES POLYCLINIC) SINGAPORE 529203",
         "1.35730113647076",
         "103.945905475983",
         "2025-03-25 07:55:49",
         "2025-03-25 07:55:49"
        ],
        [
         "23",
         "fa8ab892-4672-4a0a-aca6-b3cdda2f7c92",
         "820681",
         "681 PUNGGOL DRIVE OASIS TERRACES SINGAPORE 820681",
         "1.40278015725693",
         "103.913215101343",
         "2025-03-25 07:55:49",
         "2025-03-25 07:55:49"
        ],
        [
         "24",
         "59e0cbc2-e12b-4d8b-8010-57dc0d43b6ba",
         "429400",
         "1 CHIN CHENG AVENUE EUNOS POLYCLINIC SINGAPORE 429400",
         "1.31733758533419",
         "103.905777145209",
         "2025-03-25 07:55:49",
         "2025-03-25 07:55:49"
        ],
        [
         "25",
         "707f89b0-1fca-4845-8473-b2c10b82acc6",
         "528566",
         "35 TAMPINES STREET 61 SINGHEALTH POLYCLINICS (TAMPINES NORTH POLYCLINIC) SINGAPORE 528566",
         "1.36331106894948",
         "103.937556313682",
         "2025-03-25 07:55:49",
         "2025-03-25 07:55:49"
        ],
        [
         "26",
         "d5f0fa18-08a2-4851-9d68-c2bf2375cb0d",
         "269695",
         "559 BUKIT TIMAH ROAD ADAM ROAD MEDICAL CENTRE SINGAPORE 269695",
         "1.32313886050371",
         "103.810676161487",
         "2025-03-25 07:55:49",
         "2025-03-25 07:55:49"
        ],
        [
         "27",
         "bbba21e6-f671-48b7-a043-76dc7ceb4a98",
         "140158",
         "158 MEI LING STREET MEILING HEIGHTS SINGAPORE 140158",
         "1.29274038365689",
         "103.802806668414",
         "2025-03-25 07:55:49",
         "2025-03-25 07:55:49"
        ],
        [
         "28",
         "8756cbe3-7c5f-4ec9-a587-3f4a606af01f",
         "541182",
         "182A RIVERVALE CRESCENT RIVERVALE ARC SINGAPORE 541182",
         "1.39045272942314",
         "103.908892267885",
         "2025-03-25 07:55:49",
         "2025-03-25 07:55:49"
        ],
        [
         "29",
         "edb7a489-e296-4543-96f9-fc3f78572615",
         "560407",
         "407 ANG MO KIO AVENUE 10 TECK GHEE SQUARE SINGAPORE 560407",
         "1.36191347195214",
         "103.855247666901",
         "2025-03-25 07:55:49",
         "2025-03-25 07:55:49"
        ],
        [
         "30",
         "c9763d22-174d-41a9-8be0-aff8acb8f439",
         "079027",
         "100 TRAS STREET 100 AM SINGAPORE 079027",
         "1.27458821795426",
         "103.84347073661",
         "2025-03-25 07:55:49",
         "2025-03-25 07:55:49"
        ],
        [
         "31",
         "91d557ef-9c75-4d89-b2fb-f7fcce5ee06a",
         "534733",
         "988 UPPER SERANGOON ROAD STARS OF KOVAN SINGAPORE 534733",
         "1.36147765901135",
         "103.887207500102",
         "2025-03-25 07:55:49",
         "2025-03-25 07:55:49"
        ],
        [
         "32",
         "4dcdda12-f9a7-4318-b77e-1550c4198f1d",
         "760172",
         "172 YISHUN AVENUE 7 SINGAPORE 760172",
         "1.43660111000642",
         "103.83109095206",
         "2025-03-25 07:55:49",
         "2025-03-25 07:55:49"
        ],
        [
         "33",
         "c6a93bf0-9d28-426b-b0db-cf824a0e1c55",
         "530205",
         "205 HOUGANG STREET 21 HEARTLAND MALL-KOVAN SINGAPORE 530205",
         "1.35954177325561",
         "103.885167372726",
         "2025-03-25 07:55:49",
         "2025-03-25 07:55:49"
        ],
        [
         "34",
         "ddccbf67-cef6-4d9a-924c-4d6613cdca98",
         "760101",
         "101 YISHUN AVENUE 5 CHONG PANG CITY SINGAPORE 760101",
         "1.4305357538408",
         "103.827667722074",
         "2025-03-25 07:55:49",
         "2025-03-25 07:55:49"
        ],
        [
         "35",
         "1ca8ab4a-a52d-473a-a781-672821a6fa64",
         "534869",
         "187 UPPER PAYA LEBAR ROAD SINGAPORE 534869",
         "1.34010826990085",
         "103.885032592997",
         "2025-03-25 07:55:49",
         "2025-03-25 07:55:49"
        ],
        [
         "36",
         "5975f4da-1c66-42f6-a619-e9d411451875",
         "677743",
         "1 JELEBU ROAD BUKIT PANJANG PLAZA SINGAPORE 677743",
         "1.37992045176243",
         "103.764357180314",
         "2025-03-25 07:55:49",
         "2025-03-25 07:55:49"
        ],
        [
         "37",
         "5f910285-240d-45f8-af8e-a9acc71d6d21",
         "530681",
         "681 HOUGANG AVENUE 8 SINGAPORE 530681",
         "1.37297840284804",
         "103.88567915953",
         "2025-03-25 07:55:49",
         "2025-03-25 07:55:49"
        ],
        [
         "38",
         "3d234ad6-ec07-49e1-a1a6-4e388f5387b7",
         "140171",
         "171 STIRLING ROAD STIRLING VIEW SINGAPORE 140171",
         "1.29073246202285",
         "103.803846934678",
         "2025-03-25 07:55:49",
         "2025-03-25 07:55:49"
        ],
        [
         "39",
         "b5ca76a4-f960-4529-abbd-806a4f928c0f",
         "760627",
         "627 YISHUN STREET 61 SINGAPORE 760627",
         "1.41770409927839",
         "103.837005089412",
         "2025-03-25 07:55:49",
         "2025-03-25 07:55:49"
        ],
        [
         "40",
         "323c578d-b27e-4ce6-8a62-cb6a6c2262c5",
         "545078",
         "1 SENGKANG SQUARE COMPASS ONE SINGAPORE 545078",
         "1.39205314156706",
         "103.89507054384",
         "2025-03-25 07:55:49",
         "2025-03-25 07:55:49"
        ],
        [
         "41",
         "10eb6d1f-674e-487b-86ea-807ca7c3dc7a",
         "520462",
         "462 TAMPINES STREET 44 SINGAPORE 520462",
         "1.35901318117916",
         "103.955111125309",
         "2025-03-25 07:55:49",
         "2025-03-25 07:55:49"
        ],
        [
         "42",
         "72c44b47-c70e-42ff-83c6-5fb4212d6b13",
         "120446",
         "446 CLEMENTI AVENUE 3 SINGAPORE 120446",
         "1.31251305732378",
         "103.764927758669",
         "2025-03-25 07:55:49",
         "2025-03-25 07:55:49"
        ],
        [
         "43",
         "61576a76-96fe-45ae-ae47-cc98c005fe30",
         "520484",
         "484 TAMPINES STREET 43 SINGAPORE 520484",
         "1.36189785863171",
         "103.952639447182",
         "2025-03-25 07:55:49",
         "2025-03-25 07:55:49"
        ],
        [
         "44",
         "f5308082-4f00-46ca-b904-26702b61dac8",
         "431008",
         "8 JALAN BATU DI TANJONG RHU SINGAPORE 431008",
         "1.30263933968389",
         "103.883179671688",
         "2025-03-25 07:55:49",
         "2025-03-25 07:55:49"
        ],
        [
         "45",
         "1926504b-9803-497b-820a-963ba7e685a5",
         "680475",
         "475 CHOA CHU KANG AVENUE 3 KINDERLAND KINDERGARTEN (CHOA CHU KANG) SINGAPORE 680475",
         "1.37805614752086",
         "103.738931794069",
         "2025-03-25 07:55:49",
         "2025-03-25 07:55:49"
        ],
        [
         "46",
         "d10465d7-674d-4126-b84a-e523fb83ae69",
         "307506",
         "10 SINARAN DRIVE NOVENA MEDICAL CENTRE SINGAPORE 307506",
         "1.32044103104797",
         "103.844192628979",
         "2025-03-25 07:55:49",
         "2025-03-25 07:55:49"
        ],
        [
         "47",
         "45d04b44-64ce-4fa9-b6c1-0a43b6523c50",
         "039596",
         "9 RAFFLES BOULEVARD MILLENIA WALK SINGAPORE 039596",
         "1.29260544462492",
         "103.859724944443",
         "2025-03-25 07:55:49",
         "2025-03-25 07:55:49"
        ],
        [
         "48",
         "2320fb26-6953-4eaf-8ceb-24175214a25a",
         "322116",
         "116B JALAN TENTERAM TENTERAM PEAK SINGAPORE 322116",
         "1.32754908001444",
         "103.860807411661",
         "2025-03-25 07:55:49",
         "2025-03-25 07:55:49"
        ],
        [
         "49",
         "589dbe96-3fb9-4c16-abbc-a20a2c078db4",
         "329563",
         "38 IRRAWADDY ROAD 24-HOUR WALK-IN CLINIC (MOUNT ELIZABETH NOVENA HOSPITAL) SINGAPORE 329563",
         "1.32210979381602",
         "103.844317495607",
         "2025-03-25 07:55:49",
         "2025-03-25 07:55:49"
        ]
       ],
       "shape": {
        "columns": 7,
        "rows": 1101
       }
      },
      "text/html": [
       "<div>\n",
       "<style scoped>\n",
       "    .dataframe tbody tr th:only-of-type {\n",
       "        vertical-align: middle;\n",
       "    }\n",
       "\n",
       "    .dataframe tbody tr th {\n",
       "        vertical-align: top;\n",
       "    }\n",
       "\n",
       "    .dataframe thead th {\n",
       "        text-align: right;\n",
       "    }\n",
       "</style>\n",
       "<table border=\"1\" class=\"dataframe\">\n",
       "  <thead>\n",
       "    <tr style=\"text-align: right;\">\n",
       "      <th></th>\n",
       "      <th>id</th>\n",
       "      <th>postal_code</th>\n",
       "      <th>address</th>\n",
       "      <th>latitude</th>\n",
       "      <th>longitude</th>\n",
       "      <th>created_at</th>\n",
       "      <th>updated_at</th>\n",
       "    </tr>\n",
       "  </thead>\n",
       "  <tbody>\n",
       "    <tr>\n",
       "      <th>0</th>\n",
       "      <td>fa03e01a-219b-4ed1-91e6-14238e533df0</td>\n",
       "      <td>569666</td>\n",
       "      <td>21 ANG MO KIO CENTRAL 2 ANG MO KIO POLYCLINIC ...</td>\n",
       "      <td>1.374325</td>\n",
       "      <td>103.845678</td>\n",
       "      <td>2025-03-25 07:55:49</td>\n",
       "      <td>2025-03-25 07:55:49</td>\n",
       "    </tr>\n",
       "    <tr>\n",
       "      <th>1</th>\n",
       "      <td>73532a10-1eff-4b9c-a36b-d5f7523bf760</td>\n",
       "      <td>389707</td>\n",
       "      <td>21 GEYLANG EAST CENTRAL GEYLANG POLYCLINIC SIN...</td>\n",
       "      <td>1.319494</td>\n",
       "      <td>103.887166</td>\n",
       "      <td>2025-03-25 07:55:49</td>\n",
       "      <td>2025-03-25 07:55:49</td>\n",
       "    </tr>\n",
       "    <tr>\n",
       "      <th>2</th>\n",
       "      <td>77ac2094-04eb-483e-927d-076602cde3b7</td>\n",
       "      <td>538829</td>\n",
       "      <td>89 HOUGANG AVENUE 4 HOUGANG POLYCLINIC SINGAPO...</td>\n",
       "      <td>1.369907</td>\n",
       "      <td>103.889001</td>\n",
       "      <td>2025-03-25 07:55:49</td>\n",
       "      <td>2025-03-25 07:55:49</td>\n",
       "    </tr>\n",
       "    <tr>\n",
       "      <th>3</th>\n",
       "      <td>bffe5d37-8def-4b9b-80e3-10e30a6734f8</td>\n",
       "      <td>328263</td>\n",
       "      <td>701 SERANGOON ROAD KALLANG POLYCLINIC AND LONG...</td>\n",
       "      <td>1.316785</td>\n",
       "      <td>103.858752</td>\n",
       "      <td>2025-03-25 07:55:49</td>\n",
       "      <td>2025-03-25 07:55:49</td>\n",
       "    </tr>\n",
       "    <tr>\n",
       "      <th>4</th>\n",
       "      <td>02931488-c56f-4c2f-8695-af6d7c28e1ba</td>\n",
       "      <td>769567</td>\n",
       "      <td>690 YISHUN RING ROAD KHATIB POLYCLINIC SINGAPO...</td>\n",
       "      <td>1.418204</td>\n",
       "      <td>103.834428</td>\n",
       "      <td>2025-03-25 07:55:49</td>\n",
       "      <td>2025-03-25 07:55:49</td>\n",
       "    </tr>\n",
       "    <tr>\n",
       "      <th>...</th>\n",
       "      <td>...</td>\n",
       "      <td>...</td>\n",
       "      <td>...</td>\n",
       "      <td>...</td>\n",
       "      <td>...</td>\n",
       "      <td>...</td>\n",
       "      <td>...</td>\n",
       "    </tr>\n",
       "    <tr>\n",
       "      <th>1096</th>\n",
       "      <td>918a15ec-2333-4ed3-a4b7-39a66cc92ffa</td>\n",
       "      <td>359130</td>\n",
       "      <td>30 JALAN LATEH SINGAPORE 359130</td>\n",
       "      <td>1.345296</td>\n",
       "      <td>103.869197</td>\n",
       "      <td>2025-03-25 07:55:49</td>\n",
       "      <td>2025-03-25 07:55:49</td>\n",
       "    </tr>\n",
       "    <tr>\n",
       "      <th>1097</th>\n",
       "      <td>797a0d10-0e78-4426-856c-0823a957a090</td>\n",
       "      <td>279121</td>\n",
       "      <td>82 GROVE DRIVE HENRY PARK SINGAPORE 279121</td>\n",
       "      <td>1.311536</td>\n",
       "      <td>103.784768</td>\n",
       "      <td>2025-03-25 07:55:49</td>\n",
       "      <td>2025-03-25 07:55:49</td>\n",
       "    </tr>\n",
       "    <tr>\n",
       "      <th>1098</th>\n",
       "      <td>44851715-59cb-4ee3-81c3-11ced10d5fdc</td>\n",
       "      <td>545411</td>\n",
       "      <td>44 PARK VILLAS GREEN PARK VILLAS SINGAPORE 545411</td>\n",
       "      <td>1.368339</td>\n",
       "      <td>103.879974</td>\n",
       "      <td>2025-03-25 07:55:49</td>\n",
       "      <td>2025-03-25 07:55:49</td>\n",
       "    </tr>\n",
       "    <tr>\n",
       "      <th>1099</th>\n",
       "      <td>7b9479b8-4384-48d1-b6d6-8e2d1ee2545b</td>\n",
       "      <td>598309</td>\n",
       "      <td>25 KING ALBERT PARK KING ALBERT PARK SINGAPORE...</td>\n",
       "      <td>1.333392</td>\n",
       "      <td>103.779092</td>\n",
       "      <td>2025-03-25 07:55:49</td>\n",
       "      <td>2025-03-25 07:55:49</td>\n",
       "    </tr>\n",
       "    <tr>\n",
       "      <th>1100</th>\n",
       "      <td>172f4d51-5c70-4f32-8633-87aaf0eb4847</td>\n",
       "      <td>229182</td>\n",
       "      <td>1 HOOPER ROAD SINGAPORE 229182</td>\n",
       "      <td>1.311494</td>\n",
       "      <td>103.843412</td>\n",
       "      <td>2025-03-25 07:55:49</td>\n",
       "      <td>2025-03-25 07:55:49</td>\n",
       "    </tr>\n",
       "  </tbody>\n",
       "</table>\n",
       "<p>1101 rows × 7 columns</p>\n",
       "</div>"
      ],
      "text/plain": [
       "                                        id postal_code  \\\n",
       "0     fa03e01a-219b-4ed1-91e6-14238e533df0      569666   \n",
       "1     73532a10-1eff-4b9c-a36b-d5f7523bf760      389707   \n",
       "2     77ac2094-04eb-483e-927d-076602cde3b7      538829   \n",
       "3     bffe5d37-8def-4b9b-80e3-10e30a6734f8      328263   \n",
       "4     02931488-c56f-4c2f-8695-af6d7c28e1ba      769567   \n",
       "...                                    ...         ...   \n",
       "1096  918a15ec-2333-4ed3-a4b7-39a66cc92ffa      359130   \n",
       "1097  797a0d10-0e78-4426-856c-0823a957a090      279121   \n",
       "1098  44851715-59cb-4ee3-81c3-11ced10d5fdc      545411   \n",
       "1099  7b9479b8-4384-48d1-b6d6-8e2d1ee2545b      598309   \n",
       "1100  172f4d51-5c70-4f32-8633-87aaf0eb4847      229182   \n",
       "\n",
       "                                                address  latitude   longitude  \\\n",
       "0     21 ANG MO KIO CENTRAL 2 ANG MO KIO POLYCLINIC ...  1.374325  103.845678   \n",
       "1     21 GEYLANG EAST CENTRAL GEYLANG POLYCLINIC SIN...  1.319494  103.887166   \n",
       "2     89 HOUGANG AVENUE 4 HOUGANG POLYCLINIC SINGAPO...  1.369907  103.889001   \n",
       "3     701 SERANGOON ROAD KALLANG POLYCLINIC AND LONG...  1.316785  103.858752   \n",
       "4     690 YISHUN RING ROAD KHATIB POLYCLINIC SINGAPO...  1.418204  103.834428   \n",
       "...                                                 ...       ...         ...   \n",
       "1096                    30 JALAN LATEH SINGAPORE 359130  1.345296  103.869197   \n",
       "1097         82 GROVE DRIVE HENRY PARK SINGAPORE 279121  1.311536  103.784768   \n",
       "1098  44 PARK VILLAS GREEN PARK VILLAS SINGAPORE 545411  1.368339  103.879974   \n",
       "1099  25 KING ALBERT PARK KING ALBERT PARK SINGAPORE...  1.333392  103.779092   \n",
       "1100                     1 HOOPER ROAD SINGAPORE 229182  1.311494  103.843412   \n",
       "\n",
       "               created_at           updated_at  \n",
       "0     2025-03-25 07:55:49  2025-03-25 07:55:49  \n",
       "1     2025-03-25 07:55:49  2025-03-25 07:55:49  \n",
       "2     2025-03-25 07:55:49  2025-03-25 07:55:49  \n",
       "3     2025-03-25 07:55:49  2025-03-25 07:55:49  \n",
       "4     2025-03-25 07:55:49  2025-03-25 07:55:49  \n",
       "...                   ...                  ...  \n",
       "1096  2025-03-25 07:55:49  2025-03-25 07:55:49  \n",
       "1097  2025-03-25 07:55:49  2025-03-25 07:55:49  \n",
       "1098  2025-03-25 07:55:49  2025-03-25 07:55:49  \n",
       "1099  2025-03-25 07:55:49  2025-03-25 07:55:49  \n",
       "1100  2025-03-25 07:55:49  2025-03-25 07:55:49  \n",
       "\n",
       "[1101 rows x 7 columns]"
      ]
     },
     "metadata": {},
     "output_type": "display_data"
    }
   ],
   "source": [
    "# Query the Vaccines table\n",
    "query = \"SELECT * FROM Addresses\"\n",
    "# Execute the query and load results into a DataFrame\n",
    "addresses_df = pd.read_sql(query, conn)\n",
    "# Display the results\n",
    "display(addresses_df)"
   ]
  },
  {
   "cell_type": "markdown",
   "metadata": {},
   "source": [
    "## Vaccines\n"
   ]
  },
  {
   "cell_type": "code",
   "execution_count": 8,
   "metadata": {},
   "outputs": [
    {
     "data": {
      "application/vnd.microsoft.datawrangler.viewer.v0+json": {
       "columns": [
        {
         "name": "index",
         "rawType": "int64",
         "type": "integer"
        },
        {
         "name": "id",
         "rawType": "object",
         "type": "string"
        },
        {
         "name": "name",
         "rawType": "object",
         "type": "string"
        },
        {
         "name": "price",
         "rawType": "int64",
         "type": "integer"
        },
        {
         "name": "doses_required",
         "rawType": "int64",
         "type": "integer"
        },
        {
         "name": "age_criteria",
         "rawType": "object",
         "type": "string"
        },
        {
         "name": "gender_criteria",
         "rawType": "object",
         "type": "string"
        },
        {
         "name": "created_at",
         "rawType": "object",
         "type": "string"
        },
        {
         "name": "updated_at",
         "rawType": "object",
         "type": "string"
        }
       ],
       "conversionMethod": "pd.DataFrame",
       "ref": "72896716-5485-4852-b8ab-e8838e46c545",
       "rows": [
        [
         "0",
         "8c99160b-aed4-46fe-b6c8-f25aacfc6e0d",
         "Influenza (INF)",
         "9",
         "1",
         "18+ years old",
         "None",
         "2025-03-25 07:55:49",
         "2025-03-25 07:55:49"
        ],
        [
         "1",
         "3149b2d6-ccd9-4107-b656-4209ed8eca1c",
         "Pneumococcal Conjugate (PCV13)",
         "16",
         "1",
         "65+ years old",
         "None",
         "2025-03-25 07:55:49",
         "2025-03-25 07:55:49"
        ],
        [
         "2",
         "100f8392-e99a-4036-a45b-8914f0e522d8",
         "Human Papillomavirus (HPV)",
         "23",
         "3",
         "18-26 years old",
         "F",
         "2025-03-25 07:55:49",
         "2025-03-25 07:55:49"
        ],
        [
         "3",
         "0ab9b4ed-e58d-4019-84e0-7e0a6c5df7ad",
         "Tetanus, Diphtheria, Pertussis (Tdap)",
         "10",
         "1",
         "18+ years old",
         "F",
         "2025-03-25 07:55:49",
         "2025-03-25 07:55:49"
        ],
        [
         "4",
         "3c3cdfbc-e67e-4ba1-b831-a1ffaab56302",
         "Hepatitis B (HepB)",
         "9",
         "3",
         "18+ years old",
         "None",
         "2025-03-25 07:55:49",
         "2025-03-25 07:55:49"
        ],
        [
         "5",
         "3460d1d7-fe6e-4f55-a00e-a35e817770bb",
         "Measles, Mumps, Rubella (MMR)",
         "9",
         "2",
         "18+ years old",
         "None",
         "2025-03-25 07:55:49",
         "2025-03-25 07:55:49"
        ],
        [
         "6",
         "03aba890-a9bc-4a31-98a3-7cb2ea6ca5e3",
         "Varicella (VAR)",
         "11",
         "2",
         "18+ years old",
         "None",
         "2025-03-25 07:55:49",
         "2025-03-25 07:55:49"
        ]
       ],
       "shape": {
        "columns": 8,
        "rows": 7
       }
      },
      "text/html": [
       "<div>\n",
       "<style scoped>\n",
       "    .dataframe tbody tr th:only-of-type {\n",
       "        vertical-align: middle;\n",
       "    }\n",
       "\n",
       "    .dataframe tbody tr th {\n",
       "        vertical-align: top;\n",
       "    }\n",
       "\n",
       "    .dataframe thead th {\n",
       "        text-align: right;\n",
       "    }\n",
       "</style>\n",
       "<table border=\"1\" class=\"dataframe\">\n",
       "  <thead>\n",
       "    <tr style=\"text-align: right;\">\n",
       "      <th></th>\n",
       "      <th>id</th>\n",
       "      <th>name</th>\n",
       "      <th>price</th>\n",
       "      <th>doses_required</th>\n",
       "      <th>age_criteria</th>\n",
       "      <th>gender_criteria</th>\n",
       "      <th>created_at</th>\n",
       "      <th>updated_at</th>\n",
       "    </tr>\n",
       "  </thead>\n",
       "  <tbody>\n",
       "    <tr>\n",
       "      <th>0</th>\n",
       "      <td>8c99160b-aed4-46fe-b6c8-f25aacfc6e0d</td>\n",
       "      <td>Influenza (INF)</td>\n",
       "      <td>9</td>\n",
       "      <td>1</td>\n",
       "      <td>18+ years old</td>\n",
       "      <td>None</td>\n",
       "      <td>2025-03-25 07:55:49</td>\n",
       "      <td>2025-03-25 07:55:49</td>\n",
       "    </tr>\n",
       "    <tr>\n",
       "      <th>1</th>\n",
       "      <td>3149b2d6-ccd9-4107-b656-4209ed8eca1c</td>\n",
       "      <td>Pneumococcal Conjugate (PCV13)</td>\n",
       "      <td>16</td>\n",
       "      <td>1</td>\n",
       "      <td>65+ years old</td>\n",
       "      <td>None</td>\n",
       "      <td>2025-03-25 07:55:49</td>\n",
       "      <td>2025-03-25 07:55:49</td>\n",
       "    </tr>\n",
       "    <tr>\n",
       "      <th>2</th>\n",
       "      <td>100f8392-e99a-4036-a45b-8914f0e522d8</td>\n",
       "      <td>Human Papillomavirus (HPV)</td>\n",
       "      <td>23</td>\n",
       "      <td>3</td>\n",
       "      <td>18-26 years old</td>\n",
       "      <td>F</td>\n",
       "      <td>2025-03-25 07:55:49</td>\n",
       "      <td>2025-03-25 07:55:49</td>\n",
       "    </tr>\n",
       "    <tr>\n",
       "      <th>3</th>\n",
       "      <td>0ab9b4ed-e58d-4019-84e0-7e0a6c5df7ad</td>\n",
       "      <td>Tetanus, Diphtheria, Pertussis (Tdap)</td>\n",
       "      <td>10</td>\n",
       "      <td>1</td>\n",
       "      <td>18+ years old</td>\n",
       "      <td>F</td>\n",
       "      <td>2025-03-25 07:55:49</td>\n",
       "      <td>2025-03-25 07:55:49</td>\n",
       "    </tr>\n",
       "    <tr>\n",
       "      <th>4</th>\n",
       "      <td>3c3cdfbc-e67e-4ba1-b831-a1ffaab56302</td>\n",
       "      <td>Hepatitis B (HepB)</td>\n",
       "      <td>9</td>\n",
       "      <td>3</td>\n",
       "      <td>18+ years old</td>\n",
       "      <td>None</td>\n",
       "      <td>2025-03-25 07:55:49</td>\n",
       "      <td>2025-03-25 07:55:49</td>\n",
       "    </tr>\n",
       "    <tr>\n",
       "      <th>5</th>\n",
       "      <td>3460d1d7-fe6e-4f55-a00e-a35e817770bb</td>\n",
       "      <td>Measles, Mumps, Rubella (MMR)</td>\n",
       "      <td>9</td>\n",
       "      <td>2</td>\n",
       "      <td>18+ years old</td>\n",
       "      <td>None</td>\n",
       "      <td>2025-03-25 07:55:49</td>\n",
       "      <td>2025-03-25 07:55:49</td>\n",
       "    </tr>\n",
       "    <tr>\n",
       "      <th>6</th>\n",
       "      <td>03aba890-a9bc-4a31-98a3-7cb2ea6ca5e3</td>\n",
       "      <td>Varicella (VAR)</td>\n",
       "      <td>11</td>\n",
       "      <td>2</td>\n",
       "      <td>18+ years old</td>\n",
       "      <td>None</td>\n",
       "      <td>2025-03-25 07:55:49</td>\n",
       "      <td>2025-03-25 07:55:49</td>\n",
       "    </tr>\n",
       "  </tbody>\n",
       "</table>\n",
       "</div>"
      ],
      "text/plain": [
       "                                     id  \\\n",
       "0  8c99160b-aed4-46fe-b6c8-f25aacfc6e0d   \n",
       "1  3149b2d6-ccd9-4107-b656-4209ed8eca1c   \n",
       "2  100f8392-e99a-4036-a45b-8914f0e522d8   \n",
       "3  0ab9b4ed-e58d-4019-84e0-7e0a6c5df7ad   \n",
       "4  3c3cdfbc-e67e-4ba1-b831-a1ffaab56302   \n",
       "5  3460d1d7-fe6e-4f55-a00e-a35e817770bb   \n",
       "6  03aba890-a9bc-4a31-98a3-7cb2ea6ca5e3   \n",
       "\n",
       "                                    name  price  doses_required  \\\n",
       "0                        Influenza (INF)      9               1   \n",
       "1         Pneumococcal Conjugate (PCV13)     16               1   \n",
       "2             Human Papillomavirus (HPV)     23               3   \n",
       "3  Tetanus, Diphtheria, Pertussis (Tdap)     10               1   \n",
       "4                     Hepatitis B (HepB)      9               3   \n",
       "5          Measles, Mumps, Rubella (MMR)      9               2   \n",
       "6                        Varicella (VAR)     11               2   \n",
       "\n",
       "      age_criteria gender_criteria           created_at           updated_at  \n",
       "0    18+ years old            None  2025-03-25 07:55:49  2025-03-25 07:55:49  \n",
       "1    65+ years old            None  2025-03-25 07:55:49  2025-03-25 07:55:49  \n",
       "2  18-26 years old               F  2025-03-25 07:55:49  2025-03-25 07:55:49  \n",
       "3    18+ years old               F  2025-03-25 07:55:49  2025-03-25 07:55:49  \n",
       "4    18+ years old            None  2025-03-25 07:55:49  2025-03-25 07:55:49  \n",
       "5    18+ years old            None  2025-03-25 07:55:49  2025-03-25 07:55:49  \n",
       "6    18+ years old            None  2025-03-25 07:55:49  2025-03-25 07:55:49  "
      ]
     },
     "metadata": {},
     "output_type": "display_data"
    }
   ],
   "source": [
    "# Query the Vaccines table\n",
    "query = \"SELECT * FROM Vaccines\"\n",
    "# Execute the query and load results into a DataFrame\n",
    "vaccines_df = pd.read_sql(query, conn)\n",
    "# Display the results\n",
    "display(vaccines_df)"
   ]
  },
  {
   "cell_type": "markdown",
   "metadata": {},
   "source": [
    "## BookingSlots\n"
   ]
  },
  {
   "cell_type": "code",
   "execution_count": 9,
   "metadata": {},
   "outputs": [
    {
     "data": {
      "application/vnd.microsoft.datawrangler.viewer.v0+json": {
       "columns": [
        {
         "name": "index",
         "rawType": "int64",
         "type": "integer"
        },
        {
         "name": "id",
         "rawType": "object",
         "type": "string"
        },
        {
         "name": "polyclinic_id",
         "rawType": "object",
         "type": "string"
        },
        {
         "name": "vaccine_id",
         "rawType": "object",
         "type": "string"
        },
        {
         "name": "datetime",
         "rawType": "object",
         "type": "string"
        },
        {
         "name": "created_at",
         "rawType": "object",
         "type": "string"
        },
        {
         "name": "updated_at",
         "rawType": "object",
         "type": "string"
        }
       ],
       "conversionMethod": "pd.DataFrame",
       "ref": "a54695c0-87dc-4eb7-be43-1f6c26fa26dc",
       "rows": [
        [
         "0",
         "c3bcbe9a-0e6d-4d5e-9f11-21677e3661b4",
         "d04e2d6c-9ee8-4871-b79e-35d8e587cda9",
         "100f8392-e99a-4036-a45b-8914f0e522d8",
         "2025-03-03 08:00:00",
         "2025-03-25 07:55:49",
         "2025-03-25 07:55:49"
        ],
        [
         "1",
         "5a949a2d-74bc-4a8d-966e-06299aea086e",
         "4de9e253-08ac-445f-95a6-3d086068c49c",
         "0ab9b4ed-e58d-4019-84e0-7e0a6c5df7ad",
         "2025-03-03 08:00:00",
         "2025-03-25 07:55:49",
         "2025-03-25 07:55:49"
        ],
        [
         "2",
         "443d8791-9d16-4666-873c-cfeffd378602",
         "015991c6-8565-4f5b-a162-abb083bf6d58",
         "3149b2d6-ccd9-4107-b656-4209ed8eca1c",
         "2025-03-03 08:00:00",
         "2025-03-25 07:55:49",
         "2025-03-25 07:55:49"
        ],
        [
         "3",
         "3f7f75c0-b28c-4bb7-8c9a-991e5d150bc3",
         "2017474b-c611-42a9-be8c-3fa14457f8b6",
         "8c99160b-aed4-46fe-b6c8-f25aacfc6e0d",
         "2025-03-03 08:00:00",
         "2025-03-25 07:55:49",
         "2025-03-25 07:55:49"
        ],
        [
         "4",
         "1c62eeac-2c5d-4600-8a2e-eed78d88356c",
         "859fe92f-9c4b-4f3d-beda-b6c96e67887f",
         "8c99160b-aed4-46fe-b6c8-f25aacfc6e0d",
         "2025-03-03 08:00:00",
         "2025-03-25 07:55:49",
         "2025-03-25 07:55:49"
        ],
        [
         "5",
         "94ce6e7c-3d9d-4a0b-9810-4c7e99bc5990",
         "82eb0266-6620-491e-9e8b-535e09e177ba",
         "8c99160b-aed4-46fe-b6c8-f25aacfc6e0d",
         "2025-03-03 08:00:00",
         "2025-03-25 07:55:49",
         "2025-03-25 07:55:49"
        ],
        [
         "6",
         "bc5d1197-1b58-47bf-9097-367cf8956762",
         "8ed31a4c-a932-4634-b25f-113513f20ec4",
         "3149b2d6-ccd9-4107-b656-4209ed8eca1c",
         "2025-03-03 08:00:00",
         "2025-03-25 07:55:49",
         "2025-03-25 07:55:49"
        ],
        [
         "7",
         "2d8ef8f2-7649-4386-9c11-76555f044a7a",
         "9e1c435c-49fb-4d43-94d3-8f6b1c3ef061",
         "03aba890-a9bc-4a31-98a3-7cb2ea6ca5e3",
         "2025-03-03 08:00:00",
         "2025-03-25 07:55:49",
         "2025-03-25 07:55:49"
        ],
        [
         "8",
         "9fd50105-2cae-4c5f-9dd2-4e3a507f9aa4",
         "65db34ad-4767-4e5d-a6a8-9cc6d7077c0f",
         "0ab9b4ed-e58d-4019-84e0-7e0a6c5df7ad",
         "2025-03-03 08:00:00",
         "2025-03-25 07:55:49",
         "2025-03-25 07:55:49"
        ],
        [
         "9",
         "cfefcb45-5712-4bf3-91d5-65f10a6c626f",
         "642857a8-3255-4b5f-9db8-7c73e4955463",
         "8c99160b-aed4-46fe-b6c8-f25aacfc6e0d",
         "2025-03-03 08:00:00",
         "2025-03-25 07:55:49",
         "2025-03-25 07:55:49"
        ],
        [
         "10",
         "bc1ddd03-6682-432e-8906-c49b4164d7e3",
         "444e79e5-ad10-4240-9ec7-47cb5c24ee2a",
         "8c99160b-aed4-46fe-b6c8-f25aacfc6e0d",
         "2025-03-03 08:00:00",
         "2025-03-25 07:55:49",
         "2025-03-25 07:55:49"
        ],
        [
         "11",
         "c4c81983-8b5e-4587-8da2-40520a104221",
         "d4f04b05-e5f6-4945-84ce-e1b22b8ebaf4",
         "0ab9b4ed-e58d-4019-84e0-7e0a6c5df7ad",
         "2025-03-03 08:00:00",
         "2025-03-25 07:55:49",
         "2025-03-25 07:55:49"
        ],
        [
         "12",
         "7a997aa6-78ad-4464-89ce-4f6514c9fb2c",
         "f53f8540-5d7b-4dde-b806-b638ae0615f4",
         "8c99160b-aed4-46fe-b6c8-f25aacfc6e0d",
         "2025-03-03 08:00:00",
         "2025-03-25 07:55:49",
         "2025-03-25 07:55:49"
        ],
        [
         "13",
         "5fcd40f4-04d9-4eef-8d54-2235b8478d82",
         "642857a8-3255-4b5f-9db8-7c73e4955463",
         "100f8392-e99a-4036-a45b-8914f0e522d8",
         "2025-03-03 08:30:00",
         "2025-03-25 07:55:49",
         "2025-03-25 07:55:49"
        ],
        [
         "14",
         "1e4d9442-46ce-4f96-8ad1-e6051d0429ec",
         "444e79e5-ad10-4240-9ec7-47cb5c24ee2a",
         "3460d1d7-fe6e-4f55-a00e-a35e817770bb",
         "2025-03-03 08:30:00",
         "2025-03-25 07:55:49",
         "2025-03-25 07:55:49"
        ],
        [
         "15",
         "bb1b968f-65ea-4536-8f05-3c800f012894",
         "f53f8540-5d7b-4dde-b806-b638ae0615f4",
         "03aba890-a9bc-4a31-98a3-7cb2ea6ca5e3",
         "2025-03-03 08:30:00",
         "2025-03-25 07:55:49",
         "2025-03-25 07:55:49"
        ],
        [
         "16",
         "861a7940-2fd3-429e-92df-24246d5ff687",
         "65db34ad-4767-4e5d-a6a8-9cc6d7077c0f",
         "8c99160b-aed4-46fe-b6c8-f25aacfc6e0d",
         "2025-03-03 08:30:00",
         "2025-03-25 07:55:49",
         "2025-03-25 07:55:49"
        ],
        [
         "17",
         "ccfbcaa2-aa92-4d7c-a081-f94daf17bf96",
         "015991c6-8565-4f5b-a162-abb083bf6d58",
         "8c99160b-aed4-46fe-b6c8-f25aacfc6e0d",
         "2025-03-03 08:30:00",
         "2025-03-25 07:55:49",
         "2025-03-25 07:55:49"
        ],
        [
         "18",
         "0cc8b244-e682-436f-bd15-d6c5ed0f3226",
         "8ed31a4c-a932-4634-b25f-113513f20ec4",
         "3c3cdfbc-e67e-4ba1-b831-a1ffaab56302",
         "2025-03-03 08:30:00",
         "2025-03-25 07:55:49",
         "2025-03-25 07:55:49"
        ],
        [
         "19",
         "ba7535f9-1a4c-492d-928c-408eb3c908b3",
         "859fe92f-9c4b-4f3d-beda-b6c96e67887f",
         "3149b2d6-ccd9-4107-b656-4209ed8eca1c",
         "2025-03-03 08:30:00",
         "2025-03-25 07:55:49",
         "2025-03-25 07:55:49"
        ],
        [
         "20",
         "9e775b6e-f055-47f8-8eb1-2834164ac80c",
         "d4f04b05-e5f6-4945-84ce-e1b22b8ebaf4",
         "3c3cdfbc-e67e-4ba1-b831-a1ffaab56302",
         "2025-03-03 08:30:00",
         "2025-03-25 07:55:49",
         "2025-03-25 07:55:49"
        ],
        [
         "21",
         "af8d2b7e-6145-4af8-a68c-2cf0d2f9b9e0",
         "82eb0266-6620-491e-9e8b-535e09e177ba",
         "0ab9b4ed-e58d-4019-84e0-7e0a6c5df7ad",
         "2025-03-03 08:30:00",
         "2025-03-25 07:55:49",
         "2025-03-25 07:55:49"
        ],
        [
         "22",
         "8c05154a-2d1e-433c-801a-9735f2ce1c54",
         "d04e2d6c-9ee8-4871-b79e-35d8e587cda9",
         "03aba890-a9bc-4a31-98a3-7cb2ea6ca5e3",
         "2025-03-03 08:30:00",
         "2025-03-25 07:55:49",
         "2025-03-25 07:55:49"
        ],
        [
         "23",
         "b917cc4f-b9c9-4f16-ba94-166dd111823f",
         "4de9e253-08ac-445f-95a6-3d086068c49c",
         "3460d1d7-fe6e-4f55-a00e-a35e817770bb",
         "2025-03-03 08:30:00",
         "2025-03-25 07:55:49",
         "2025-03-25 07:55:49"
        ],
        [
         "24",
         "fc31738d-6340-46a8-93a4-d10314d5a7d1",
         "9e1c435c-49fb-4d43-94d3-8f6b1c3ef061",
         "3c3cdfbc-e67e-4ba1-b831-a1ffaab56302",
         "2025-03-03 08:30:00",
         "2025-03-25 07:55:49",
         "2025-03-25 07:55:49"
        ],
        [
         "25",
         "0b3ff047-13f4-436c-92b9-a2873e77c42f",
         "2017474b-c611-42a9-be8c-3fa14457f8b6",
         "8c99160b-aed4-46fe-b6c8-f25aacfc6e0d",
         "2025-03-03 08:30:00",
         "2025-03-25 07:55:49",
         "2025-03-25 07:55:49"
        ],
        [
         "26",
         "776e255b-236c-4292-9a8f-d1339c449447",
         "642857a8-3255-4b5f-9db8-7c73e4955463",
         "3460d1d7-fe6e-4f55-a00e-a35e817770bb",
         "2025-03-03 09:00:00",
         "2025-03-25 07:55:49",
         "2025-03-25 07:55:49"
        ],
        [
         "27",
         "1a4593ee-a48b-4acd-b549-ca1fd9f7a719",
         "f53f8540-5d7b-4dde-b806-b638ae0615f4",
         "8c99160b-aed4-46fe-b6c8-f25aacfc6e0d",
         "2025-03-03 09:00:00",
         "2025-03-25 07:55:49",
         "2025-03-25 07:55:49"
        ],
        [
         "28",
         "42e62023-a717-465f-b541-6c5465bb3537",
         "4de9e253-08ac-445f-95a6-3d086068c49c",
         "3460d1d7-fe6e-4f55-a00e-a35e817770bb",
         "2025-03-03 09:00:00",
         "2025-03-25 07:55:49",
         "2025-03-25 07:55:49"
        ],
        [
         "29",
         "116df0ca-8736-4ba2-821d-216f44887b5e",
         "9e1c435c-49fb-4d43-94d3-8f6b1c3ef061",
         "0ab9b4ed-e58d-4019-84e0-7e0a6c5df7ad",
         "2025-03-03 09:00:00",
         "2025-03-25 07:55:49",
         "2025-03-25 07:55:49"
        ],
        [
         "30",
         "657be113-0097-4c11-9257-dfab8fce8838",
         "d04e2d6c-9ee8-4871-b79e-35d8e587cda9",
         "0ab9b4ed-e58d-4019-84e0-7e0a6c5df7ad",
         "2025-03-03 09:00:00",
         "2025-03-25 07:55:49",
         "2025-03-25 07:55:49"
        ],
        [
         "31",
         "1eb62069-ca5f-4e0c-b09b-53ea0f8b4921",
         "444e79e5-ad10-4240-9ec7-47cb5c24ee2a",
         "100f8392-e99a-4036-a45b-8914f0e522d8",
         "2025-03-03 09:00:00",
         "2025-03-25 07:55:49",
         "2025-03-25 07:55:49"
        ],
        [
         "32",
         "94fbd80d-6c23-41f3-bece-75132049fd92",
         "8ed31a4c-a932-4634-b25f-113513f20ec4",
         "3460d1d7-fe6e-4f55-a00e-a35e817770bb",
         "2025-03-03 09:00:00",
         "2025-03-25 07:55:49",
         "2025-03-25 07:55:49"
        ],
        [
         "33",
         "cb903d22-02f7-4f16-840c-10122009c605",
         "65db34ad-4767-4e5d-a6a8-9cc6d7077c0f",
         "100f8392-e99a-4036-a45b-8914f0e522d8",
         "2025-03-03 09:00:00",
         "2025-03-25 07:55:49",
         "2025-03-25 07:55:49"
        ],
        [
         "34",
         "232ab2c7-5c4b-42ca-b02b-3b5352d100d1",
         "015991c6-8565-4f5b-a162-abb083bf6d58",
         "0ab9b4ed-e58d-4019-84e0-7e0a6c5df7ad",
         "2025-03-03 09:00:00",
         "2025-03-25 07:55:49",
         "2025-03-25 07:55:49"
        ],
        [
         "35",
         "9bab7093-e57a-47cf-a543-33530ef6b82f",
         "d4f04b05-e5f6-4945-84ce-e1b22b8ebaf4",
         "03aba890-a9bc-4a31-98a3-7cb2ea6ca5e3",
         "2025-03-03 09:00:00",
         "2025-03-25 07:55:49",
         "2025-03-25 07:55:49"
        ],
        [
         "36",
         "ee98f80b-3f03-4478-b3c2-8d6d1e54a104",
         "859fe92f-9c4b-4f3d-beda-b6c96e67887f",
         "3c3cdfbc-e67e-4ba1-b831-a1ffaab56302",
         "2025-03-03 09:00:00",
         "2025-03-25 07:55:49",
         "2025-03-25 07:55:49"
        ],
        [
         "37",
         "8ffc2f23-2a17-4cf7-bbed-8c0fae1d6247",
         "82eb0266-6620-491e-9e8b-535e09e177ba",
         "100f8392-e99a-4036-a45b-8914f0e522d8",
         "2025-03-03 09:00:00",
         "2025-03-25 07:55:49",
         "2025-03-25 07:55:49"
        ],
        [
         "38",
         "544fc008-6cfa-4e01-8398-4372d0e86a51",
         "2017474b-c611-42a9-be8c-3fa14457f8b6",
         "3460d1d7-fe6e-4f55-a00e-a35e817770bb",
         "2025-03-03 09:00:00",
         "2025-03-25 07:55:49",
         "2025-03-25 07:55:49"
        ],
        [
         "39",
         "0a9b587b-64ea-426d-ad7e-dc87c6a3109d",
         "f53f8540-5d7b-4dde-b806-b638ae0615f4",
         "100f8392-e99a-4036-a45b-8914f0e522d8",
         "2025-03-03 09:30:00",
         "2025-03-25 07:55:49",
         "2025-03-25 07:55:49"
        ],
        [
         "40",
         "6b170db5-e979-4a7d-b62e-5ca39e36b8f8",
         "015991c6-8565-4f5b-a162-abb083bf6d58",
         "3149b2d6-ccd9-4107-b656-4209ed8eca1c",
         "2025-03-03 09:30:00",
         "2025-03-25 07:55:49",
         "2025-03-25 07:55:49"
        ],
        [
         "41",
         "593115ed-cef5-4d06-9da9-c7da7d0eebd0",
         "642857a8-3255-4b5f-9db8-7c73e4955463",
         "8c99160b-aed4-46fe-b6c8-f25aacfc6e0d",
         "2025-03-03 09:30:00",
         "2025-03-25 07:55:49",
         "2025-03-25 07:55:49"
        ],
        [
         "42",
         "9398bc7c-ab72-43f0-94ec-2e13a6561adc",
         "65db34ad-4767-4e5d-a6a8-9cc6d7077c0f",
         "3c3cdfbc-e67e-4ba1-b831-a1ffaab56302",
         "2025-03-03 09:30:00",
         "2025-03-25 07:55:49",
         "2025-03-25 07:55:49"
        ],
        [
         "43",
         "864c50b1-4ff2-4cdb-a584-8ffba942aadc",
         "9e1c435c-49fb-4d43-94d3-8f6b1c3ef061",
         "03aba890-a9bc-4a31-98a3-7cb2ea6ca5e3",
         "2025-03-03 09:30:00",
         "2025-03-25 07:55:49",
         "2025-03-25 07:55:49"
        ],
        [
         "44",
         "cb4e8de5-9b9c-4a21-90c5-8a175c992166",
         "4de9e253-08ac-445f-95a6-3d086068c49c",
         "3c3cdfbc-e67e-4ba1-b831-a1ffaab56302",
         "2025-03-03 09:30:00",
         "2025-03-25 07:55:49",
         "2025-03-25 07:55:49"
        ],
        [
         "45",
         "b5806159-b308-4a0f-9903-f80547f29e42",
         "859fe92f-9c4b-4f3d-beda-b6c96e67887f",
         "3149b2d6-ccd9-4107-b656-4209ed8eca1c",
         "2025-03-03 09:30:00",
         "2025-03-25 07:55:49",
         "2025-03-25 07:55:49"
        ],
        [
         "46",
         "e56b1d44-200d-40cd-892e-66de2ae8cbd5",
         "82eb0266-6620-491e-9e8b-535e09e177ba",
         "100f8392-e99a-4036-a45b-8914f0e522d8",
         "2025-03-03 09:30:00",
         "2025-03-25 07:55:49",
         "2025-03-25 07:55:49"
        ],
        [
         "47",
         "e830a07c-ba41-4e48-a907-7024a5181c6c",
         "444e79e5-ad10-4240-9ec7-47cb5c24ee2a",
         "03aba890-a9bc-4a31-98a3-7cb2ea6ca5e3",
         "2025-03-03 09:30:00",
         "2025-03-25 07:55:49",
         "2025-03-25 07:55:49"
        ],
        [
         "48",
         "7af94c45-a650-4bb8-9507-91945654515f",
         "d04e2d6c-9ee8-4871-b79e-35d8e587cda9",
         "03aba890-a9bc-4a31-98a3-7cb2ea6ca5e3",
         "2025-03-03 09:30:00",
         "2025-03-25 07:55:49",
         "2025-03-25 07:55:49"
        ],
        [
         "49",
         "a3150466-ec01-4eee-b629-80c17eff2c58",
         "d4f04b05-e5f6-4945-84ce-e1b22b8ebaf4",
         "3c3cdfbc-e67e-4ba1-b831-a1ffaab56302",
         "2025-03-03 09:30:00",
         "2025-03-25 07:55:49",
         "2025-03-25 07:55:49"
        ]
       ],
       "shape": {
        "columns": 6,
        "rows": 11180
       }
      },
      "text/html": [
       "<div>\n",
       "<style scoped>\n",
       "    .dataframe tbody tr th:only-of-type {\n",
       "        vertical-align: middle;\n",
       "    }\n",
       "\n",
       "    .dataframe tbody tr th {\n",
       "        vertical-align: top;\n",
       "    }\n",
       "\n",
       "    .dataframe thead th {\n",
       "        text-align: right;\n",
       "    }\n",
       "</style>\n",
       "<table border=\"1\" class=\"dataframe\">\n",
       "  <thead>\n",
       "    <tr style=\"text-align: right;\">\n",
       "      <th></th>\n",
       "      <th>id</th>\n",
       "      <th>polyclinic_id</th>\n",
       "      <th>vaccine_id</th>\n",
       "      <th>datetime</th>\n",
       "      <th>created_at</th>\n",
       "      <th>updated_at</th>\n",
       "    </tr>\n",
       "  </thead>\n",
       "  <tbody>\n",
       "    <tr>\n",
       "      <th>0</th>\n",
       "      <td>c3bcbe9a-0e6d-4d5e-9f11-21677e3661b4</td>\n",
       "      <td>d04e2d6c-9ee8-4871-b79e-35d8e587cda9</td>\n",
       "      <td>100f8392-e99a-4036-a45b-8914f0e522d8</td>\n",
       "      <td>2025-03-03 08:00:00</td>\n",
       "      <td>2025-03-25 07:55:49</td>\n",
       "      <td>2025-03-25 07:55:49</td>\n",
       "    </tr>\n",
       "    <tr>\n",
       "      <th>1</th>\n",
       "      <td>5a949a2d-74bc-4a8d-966e-06299aea086e</td>\n",
       "      <td>4de9e253-08ac-445f-95a6-3d086068c49c</td>\n",
       "      <td>0ab9b4ed-e58d-4019-84e0-7e0a6c5df7ad</td>\n",
       "      <td>2025-03-03 08:00:00</td>\n",
       "      <td>2025-03-25 07:55:49</td>\n",
       "      <td>2025-03-25 07:55:49</td>\n",
       "    </tr>\n",
       "    <tr>\n",
       "      <th>2</th>\n",
       "      <td>443d8791-9d16-4666-873c-cfeffd378602</td>\n",
       "      <td>015991c6-8565-4f5b-a162-abb083bf6d58</td>\n",
       "      <td>3149b2d6-ccd9-4107-b656-4209ed8eca1c</td>\n",
       "      <td>2025-03-03 08:00:00</td>\n",
       "      <td>2025-03-25 07:55:49</td>\n",
       "      <td>2025-03-25 07:55:49</td>\n",
       "    </tr>\n",
       "    <tr>\n",
       "      <th>3</th>\n",
       "      <td>3f7f75c0-b28c-4bb7-8c9a-991e5d150bc3</td>\n",
       "      <td>2017474b-c611-42a9-be8c-3fa14457f8b6</td>\n",
       "      <td>8c99160b-aed4-46fe-b6c8-f25aacfc6e0d</td>\n",
       "      <td>2025-03-03 08:00:00</td>\n",
       "      <td>2025-03-25 07:55:49</td>\n",
       "      <td>2025-03-25 07:55:49</td>\n",
       "    </tr>\n",
       "    <tr>\n",
       "      <th>4</th>\n",
       "      <td>1c62eeac-2c5d-4600-8a2e-eed78d88356c</td>\n",
       "      <td>859fe92f-9c4b-4f3d-beda-b6c96e67887f</td>\n",
       "      <td>8c99160b-aed4-46fe-b6c8-f25aacfc6e0d</td>\n",
       "      <td>2025-03-03 08:00:00</td>\n",
       "      <td>2025-03-25 07:55:49</td>\n",
       "      <td>2025-03-25 07:55:49</td>\n",
       "    </tr>\n",
       "    <tr>\n",
       "      <th>...</th>\n",
       "      <td>...</td>\n",
       "      <td>...</td>\n",
       "      <td>...</td>\n",
       "      <td>...</td>\n",
       "      <td>...</td>\n",
       "      <td>...</td>\n",
       "    </tr>\n",
       "    <tr>\n",
       "      <th>11175</th>\n",
       "      <td>3b004cb5-0c8a-4483-9420-7bda8cdf49b9</td>\n",
       "      <td>f53f8540-5d7b-4dde-b806-b638ae0615f4</td>\n",
       "      <td>8c99160b-aed4-46fe-b6c8-f25aacfc6e0d</td>\n",
       "      <td>2025-04-30 17:30:00</td>\n",
       "      <td>2025-03-25 07:55:49</td>\n",
       "      <td>2025-03-25 07:55:49</td>\n",
       "    </tr>\n",
       "    <tr>\n",
       "      <th>11176</th>\n",
       "      <td>793bd4bb-cc1b-4fd0-bb30-721ebf0faa0d</td>\n",
       "      <td>84b1aa83-156c-4eca-a9bf-ddc72424de1a</td>\n",
       "      <td>3c3cdfbc-e67e-4ba1-b831-a1ffaab56302</td>\n",
       "      <td>2025-04-30 17:30:00</td>\n",
       "      <td>2025-03-25 07:55:49</td>\n",
       "      <td>2025-03-25 07:55:49</td>\n",
       "    </tr>\n",
       "    <tr>\n",
       "      <th>11177</th>\n",
       "      <td>c9d71d4d-3355-44f9-a0ae-27f5f77588ec</td>\n",
       "      <td>76da5477-df98-49d2-99d5-ba6d3900c3b7</td>\n",
       "      <td>3149b2d6-ccd9-4107-b656-4209ed8eca1c</td>\n",
       "      <td>2025-04-30 17:30:00</td>\n",
       "      <td>2025-03-25 07:55:49</td>\n",
       "      <td>2025-03-25 07:55:49</td>\n",
       "    </tr>\n",
       "    <tr>\n",
       "      <th>11178</th>\n",
       "      <td>9b801873-2ced-49a2-a203-d8191af48eae</td>\n",
       "      <td>14398891-c7a3-4425-9d6d-63a5c8cc4ac8</td>\n",
       "      <td>3149b2d6-ccd9-4107-b656-4209ed8eca1c</td>\n",
       "      <td>2025-04-30 17:30:00</td>\n",
       "      <td>2025-03-25 07:55:49</td>\n",
       "      <td>2025-03-25 07:55:49</td>\n",
       "    </tr>\n",
       "    <tr>\n",
       "      <th>11179</th>\n",
       "      <td>8834157d-27c7-409f-8f15-c53e1a360539</td>\n",
       "      <td>82eb0266-6620-491e-9e8b-535e09e177ba</td>\n",
       "      <td>03aba890-a9bc-4a31-98a3-7cb2ea6ca5e3</td>\n",
       "      <td>2025-04-30 17:30:00</td>\n",
       "      <td>2025-03-25 07:55:49</td>\n",
       "      <td>2025-03-25 07:55:49</td>\n",
       "    </tr>\n",
       "  </tbody>\n",
       "</table>\n",
       "<p>11180 rows × 6 columns</p>\n",
       "</div>"
      ],
      "text/plain": [
       "                                         id  \\\n",
       "0      c3bcbe9a-0e6d-4d5e-9f11-21677e3661b4   \n",
       "1      5a949a2d-74bc-4a8d-966e-06299aea086e   \n",
       "2      443d8791-9d16-4666-873c-cfeffd378602   \n",
       "3      3f7f75c0-b28c-4bb7-8c9a-991e5d150bc3   \n",
       "4      1c62eeac-2c5d-4600-8a2e-eed78d88356c   \n",
       "...                                     ...   \n",
       "11175  3b004cb5-0c8a-4483-9420-7bda8cdf49b9   \n",
       "11176  793bd4bb-cc1b-4fd0-bb30-721ebf0faa0d   \n",
       "11177  c9d71d4d-3355-44f9-a0ae-27f5f77588ec   \n",
       "11178  9b801873-2ced-49a2-a203-d8191af48eae   \n",
       "11179  8834157d-27c7-409f-8f15-c53e1a360539   \n",
       "\n",
       "                              polyclinic_id  \\\n",
       "0      d04e2d6c-9ee8-4871-b79e-35d8e587cda9   \n",
       "1      4de9e253-08ac-445f-95a6-3d086068c49c   \n",
       "2      015991c6-8565-4f5b-a162-abb083bf6d58   \n",
       "3      2017474b-c611-42a9-be8c-3fa14457f8b6   \n",
       "4      859fe92f-9c4b-4f3d-beda-b6c96e67887f   \n",
       "...                                     ...   \n",
       "11175  f53f8540-5d7b-4dde-b806-b638ae0615f4   \n",
       "11176  84b1aa83-156c-4eca-a9bf-ddc72424de1a   \n",
       "11177  76da5477-df98-49d2-99d5-ba6d3900c3b7   \n",
       "11178  14398891-c7a3-4425-9d6d-63a5c8cc4ac8   \n",
       "11179  82eb0266-6620-491e-9e8b-535e09e177ba   \n",
       "\n",
       "                                 vaccine_id             datetime  \\\n",
       "0      100f8392-e99a-4036-a45b-8914f0e522d8  2025-03-03 08:00:00   \n",
       "1      0ab9b4ed-e58d-4019-84e0-7e0a6c5df7ad  2025-03-03 08:00:00   \n",
       "2      3149b2d6-ccd9-4107-b656-4209ed8eca1c  2025-03-03 08:00:00   \n",
       "3      8c99160b-aed4-46fe-b6c8-f25aacfc6e0d  2025-03-03 08:00:00   \n",
       "4      8c99160b-aed4-46fe-b6c8-f25aacfc6e0d  2025-03-03 08:00:00   \n",
       "...                                     ...                  ...   \n",
       "11175  8c99160b-aed4-46fe-b6c8-f25aacfc6e0d  2025-04-30 17:30:00   \n",
       "11176  3c3cdfbc-e67e-4ba1-b831-a1ffaab56302  2025-04-30 17:30:00   \n",
       "11177  3149b2d6-ccd9-4107-b656-4209ed8eca1c  2025-04-30 17:30:00   \n",
       "11178  3149b2d6-ccd9-4107-b656-4209ed8eca1c  2025-04-30 17:30:00   \n",
       "11179  03aba890-a9bc-4a31-98a3-7cb2ea6ca5e3  2025-04-30 17:30:00   \n",
       "\n",
       "                created_at           updated_at  \n",
       "0      2025-03-25 07:55:49  2025-03-25 07:55:49  \n",
       "1      2025-03-25 07:55:49  2025-03-25 07:55:49  \n",
       "2      2025-03-25 07:55:49  2025-03-25 07:55:49  \n",
       "3      2025-03-25 07:55:49  2025-03-25 07:55:49  \n",
       "4      2025-03-25 07:55:49  2025-03-25 07:55:49  \n",
       "...                    ...                  ...  \n",
       "11175  2025-03-25 07:55:49  2025-03-25 07:55:49  \n",
       "11176  2025-03-25 07:55:49  2025-03-25 07:55:49  \n",
       "11177  2025-03-25 07:55:49  2025-03-25 07:55:49  \n",
       "11178  2025-03-25 07:55:49  2025-03-25 07:55:49  \n",
       "11179  2025-03-25 07:55:49  2025-03-25 07:55:49  \n",
       "\n",
       "[11180 rows x 6 columns]"
      ]
     },
     "metadata": {},
     "output_type": "display_data"
    }
   ],
   "source": [
    "# Query the Vaccines table\n",
    "query = \"SELECT * FROM BookingSlots\"\n",
    "# Execute the query and load results into a DataFrame\n",
    "bookingslot_df = pd.read_sql(query, conn)\n",
    "# Display the results\n",
    "display(bookingslot_df)"
   ]
  },
  {
   "cell_type": "code",
   "execution_count": 10,
   "metadata": {},
   "outputs": [
    {
     "data": {
      "text/plain": [
       "datetime\n",
       "2025-03-03 08:00:00    13\n",
       "2025-04-10 10:30:00    13\n",
       "2025-04-10 11:30:00    13\n",
       "2025-04-10 12:00:00    13\n",
       "2025-04-10 12:30:00    13\n",
       "                       ..\n",
       "2025-03-21 12:30:00    13\n",
       "2025-03-21 13:00:00    13\n",
       "2025-03-21 13:30:00    13\n",
       "2025-03-21 14:00:00    13\n",
       "2025-04-30 17:30:00    13\n",
       "Name: count, Length: 860, dtype: int64"
      ]
     },
     "execution_count": 10,
     "metadata": {},
     "output_type": "execute_result"
    }
   ],
   "source": [
    "bookingslot_df[\"datetime\"].value_counts()"
   ]
  },
  {
   "cell_type": "markdown",
   "metadata": {},
   "source": [
    "## Vaccine Records\n"
   ]
  },
  {
   "cell_type": "code",
   "execution_count": 11,
   "metadata": {},
   "outputs": [
    {
     "data": {
      "application/vnd.microsoft.datawrangler.viewer.v0+json": {
       "columns": [
        {
         "name": "index",
         "rawType": "int64",
         "type": "integer"
        },
        {
         "name": "id",
         "rawType": "object",
         "type": "string"
        },
        {
         "name": "user_id",
         "rawType": "object",
         "type": "string"
        },
        {
         "name": "booking_slot_id",
         "rawType": "object",
         "type": "string"
        },
        {
         "name": "status",
         "rawType": "object",
         "type": "string"
        },
        {
         "name": "created_at",
         "rawType": "object",
         "type": "string"
        },
        {
         "name": "updated_at",
         "rawType": "object",
         "type": "string"
        }
       ],
       "conversionMethod": "pd.DataFrame",
       "ref": "827c65b2-1e8b-42fa-9eba-022e65e5fc85",
       "rows": [],
       "shape": {
        "columns": 6,
        "rows": 0
       }
      },
      "text/html": [
       "<div>\n",
       "<style scoped>\n",
       "    .dataframe tbody tr th:only-of-type {\n",
       "        vertical-align: middle;\n",
       "    }\n",
       "\n",
       "    .dataframe tbody tr th {\n",
       "        vertical-align: top;\n",
       "    }\n",
       "\n",
       "    .dataframe thead th {\n",
       "        text-align: right;\n",
       "    }\n",
       "</style>\n",
       "<table border=\"1\" class=\"dataframe\">\n",
       "  <thead>\n",
       "    <tr style=\"text-align: right;\">\n",
       "      <th></th>\n",
       "      <th>id</th>\n",
       "      <th>user_id</th>\n",
       "      <th>booking_slot_id</th>\n",
       "      <th>status</th>\n",
       "      <th>created_at</th>\n",
       "      <th>updated_at</th>\n",
       "    </tr>\n",
       "  </thead>\n",
       "  <tbody>\n",
       "  </tbody>\n",
       "</table>\n",
       "</div>"
      ],
      "text/plain": [
       "Empty DataFrame\n",
       "Columns: [id, user_id, booking_slot_id, status, created_at, updated_at]\n",
       "Index: []"
      ]
     },
     "metadata": {},
     "output_type": "display_data"
    }
   ],
   "source": [
    "# Query the Vaccines table\n",
    "query = \"SELECT * FROM VaccineRecords\"\n",
    "# Execute the query and load results into a DataFrame\n",
    "vaccinerecord_df = pd.read_sql(query, conn)\n",
    "# Display the results\n",
    "display(vaccinerecord_df)"
   ]
  },
  {
   "cell_type": "markdown",
   "metadata": {},
   "source": [
    "## Close SQLite Database Connection\n"
   ]
  },
  {
   "cell_type": "code",
   "execution_count": 12,
   "metadata": {},
   "outputs": [],
   "source": [
    "# Close the connection\n",
    "conn.close()"
   ]
  },
  {
   "cell_type": "code",
   "execution_count": null,
   "metadata": {},
   "outputs": [],
   "source": []
  }
 ],
 "metadata": {
  "kernelspec": {
   "display_name": "Python 3",
   "language": "python",
   "name": "python3"
  },
  "language_info": {
   "codemirror_mode": {
    "name": "ipython",
    "version": 3
   },
   "file_extension": ".py",
   "mimetype": "text/x-python",
   "name": "python",
   "nbconvert_exporter": "python",
   "pygments_lexer": "ipython3",
   "version": "3.12.9"
  }
 },
 "nbformat": 4,
 "nbformat_minor": 2
}
