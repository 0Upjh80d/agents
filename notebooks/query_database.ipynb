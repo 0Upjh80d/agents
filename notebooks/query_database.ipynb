{
 "cells": [
  {
   "cell_type": "code",
   "execution_count": null,
   "metadata": {},
   "outputs": [],
   "source": [
    "import sqlite3\n",
    "\n",
    "import pandas as pd\n",
    "from IPython.display import display"
   ]
  },
  {
   "cell_type": "markdown",
   "metadata": {},
   "source": [
    "## Connect to SQLite database\n"
   ]
  },
  {
   "cell_type": "code",
   "execution_count": 8,
   "metadata": {},
   "outputs": [],
   "source": [
    "# Define SQLite database file path\n",
    "sqlite_db_path = \"../data/vaccination_db.sqlite\"\n",
    "\n",
    "# Reconnect to SQLite database\n",
    "conn = sqlite3.connect(sqlite_db_path)"
   ]
  },
  {
   "cell_type": "markdown",
   "metadata": {},
   "source": [
    "## Query Database\n",
    "\n",
    "To query the database, define the `query`. \n",
    "\n",
    "Next, execute the query and load the results into a DataFrame: `pd.read_sql_query(query, conn)`"
   ]
  },
  {
   "cell_type": "code",
   "execution_count": null,
   "metadata": {},
   "outputs": [
    {
     "data": {
      "text/html": [
       "<div>\n",
       "<style scoped>\n",
       "    .dataframe tbody tr th:only-of-type {\n",
       "        vertical-align: middle;\n",
       "    }\n",
       "\n",
       "    .dataframe tbody tr th {\n",
       "        vertical-align: top;\n",
       "    }\n",
       "\n",
       "    .dataframe thead th {\n",
       "        text-align: right;\n",
       "    }\n",
       "</style>\n",
       "<table border=\"1\" class=\"dataframe\">\n",
       "  <thead>\n",
       "    <tr style=\"text-align: right;\">\n",
       "      <th></th>\n",
       "      <th>vaccine_id</th>\n",
       "      <th>vaccine_name</th>\n",
       "      <th>vaccine_price</th>\n",
       "      <th>doses_required</th>\n",
       "      <th>age_criteria</th>\n",
       "      <th>gender_criteria</th>\n",
       "    </tr>\n",
       "  </thead>\n",
       "  <tbody>\n",
       "    <tr>\n",
       "      <th>0</th>\n",
       "      <td>1</td>\n",
       "      <td>Influenza</td>\n",
       "      <td>$9</td>\n",
       "      <td>2</td>\n",
       "      <td>18+ years old</td>\n",
       "      <td>All</td>\n",
       "    </tr>\n",
       "    <tr>\n",
       "      <th>1</th>\n",
       "      <td>2</td>\n",
       "      <td>COVID-19</td>\n",
       "      <td>$0</td>\n",
       "      <td>4</td>\n",
       "      <td>18+ years old</td>\n",
       "      <td>All</td>\n",
       "    </tr>\n",
       "    <tr>\n",
       "      <th>2</th>\n",
       "      <td>3</td>\n",
       "      <td>Pneumococcal</td>\n",
       "      <td>$16</td>\n",
       "      <td>1</td>\n",
       "      <td>65+ years old</td>\n",
       "      <td>All</td>\n",
       "    </tr>\n",
       "    <tr>\n",
       "      <th>3</th>\n",
       "      <td>4</td>\n",
       "      <td>HIV</td>\n",
       "      <td>$23</td>\n",
       "      <td>2</td>\n",
       "      <td>18-26 years old</td>\n",
       "      <td>Female</td>\n",
       "    </tr>\n",
       "    <tr>\n",
       "      <th>4</th>\n",
       "      <td>5</td>\n",
       "      <td>Tdap</td>\n",
       "      <td>$10</td>\n",
       "      <td>1</td>\n",
       "      <td>27-64 years old</td>\n",
       "      <td>Female</td>\n",
       "    </tr>\n",
       "    <tr>\n",
       "      <th>5</th>\n",
       "      <td>6</td>\n",
       "      <td>HepB</td>\n",
       "      <td>$9</td>\n",
       "      <td>2</td>\n",
       "      <td>18+ years old</td>\n",
       "      <td>All</td>\n",
       "    </tr>\n",
       "    <tr>\n",
       "      <th>6</th>\n",
       "      <td>7</td>\n",
       "      <td>MMR</td>\n",
       "      <td>$9</td>\n",
       "      <td>1</td>\n",
       "      <td>18+ years old</td>\n",
       "      <td>All</td>\n",
       "    </tr>\n",
       "    <tr>\n",
       "      <th>7</th>\n",
       "      <td>8</td>\n",
       "      <td>Varicella</td>\n",
       "      <td>$11</td>\n",
       "      <td>3</td>\n",
       "      <td>18+ years old</td>\n",
       "      <td>All</td>\n",
       "    </tr>\n",
       "  </tbody>\n",
       "</table>\n",
       "</div>"
      ],
      "text/plain": [
       "   vaccine_id  vaccine_name vaccine_price  doses_required     age_criteria  \\\n",
       "0           1     Influenza            $9               2    18+ years old   \n",
       "1           2      COVID-19            $0               4    18+ years old   \n",
       "2           3  Pneumococcal           $16               1    65+ years old   \n",
       "3           4           HIV           $23               2  18-26 years old   \n",
       "4           5          Tdap           $10               1  27-64 years old   \n",
       "5           6          HepB            $9               2    18+ years old   \n",
       "6           7           MMR            $9               1    18+ years old   \n",
       "7           8     Varicella           $11               3    18+ years old   \n",
       "\n",
       "  gender_criteria  \n",
       "0             All  \n",
       "1             All  \n",
       "2             All  \n",
       "3          Female  \n",
       "4          Female  \n",
       "5             All  \n",
       "6             All  \n",
       "7             All  "
      ]
     },
     "metadata": {},
     "output_type": "display_data"
    }
   ],
   "source": [
    "# Query the Vaccines table\n",
    "query = \"SELECT * FROM Vaccines\"\n",
    "# Execute the query and load results into a DataFrame\n",
    "vaccines_df = pd.read_sql(query, conn)\n",
    "# Display the results\n",
    "display(vaccines_df)"
   ]
  },
  {
   "cell_type": "markdown",
   "metadata": {},
   "source": [
    "## Close SQLite Database Connection\n"
   ]
  },
  {
   "cell_type": "code",
   "execution_count": 6,
   "metadata": {},
   "outputs": [],
   "source": [
    "# Close the connection\n",
    "conn.close()"
   ]
  }
 ],
 "metadata": {
  "kernelspec": {
   "display_name": ".venv",
   "language": "python",
   "name": "python3"
  },
  "language_info": {
   "codemirror_mode": {
    "name": "ipython",
    "version": 3
   },
   "file_extension": ".py",
   "mimetype": "text/x-python",
   "name": "python",
   "nbconvert_exporter": "python",
   "pygments_lexer": "ipython3",
   "version": "3.12.4"
  }
 },
 "nbformat": 4,
 "nbformat_minor": 2
}
