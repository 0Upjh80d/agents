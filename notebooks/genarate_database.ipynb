{
 "cells": [
  {
   "cell_type": "markdown",
   "metadata": {},
   "source": [
    "# Data Preparation\n",
    "\n",
    "<hr>\n"
   ]
  },
  {
   "cell_type": "code",
   "execution_count": 1,
   "metadata": {},
   "outputs": [],
   "source": [
    "# Imports\n",
    "import ast\n",
    "import json\n",
    "import logging\n",
    "import random\n",
    "import re\n",
    "import sqlite3\n",
    "import time\n",
    "import uuid\n",
    "from datetime import date, datetime, timedelta\n",
    "from sqlite3 import OperationalError\n",
    "\n",
    "import numpy as np\n",
    "import pandas as pd\n",
    "import requests\n",
    "from faker import Faker\n",
    "from IPython.display import display\n",
    "from passlib.context import CryptContext"
   ]
  },
  {
   "cell_type": "code",
   "execution_count": 2,
   "metadata": {},
   "outputs": [],
   "source": [
    "# Connect to (or create) the SQLite database file\n",
    "conn = sqlite3.connect(\"../data/vaccination_db.sqlite\")\n",
    "cursor = conn.cursor()\n",
    "\n",
    "# Read the schema file and execute the SQL commands\n",
    "with open(\"../data/schema.sql\", \"r\") as f:\n",
    "    sql_script = f.read()\n",
    "\n",
    "try:\n",
    "    cursor.executescript(sql_script)\n",
    "except OperationalError:\n",
    "    pass\n",
    "finally:\n",
    "    conn.commit()\n",
    "    conn.close()"
   ]
  },
  {
   "cell_type": "code",
   "execution_count": 3,
   "metadata": {},
   "outputs": [],
   "source": [
    "fake = Faker()\n",
    "fake.seed_instance(42)\n",
    "np.random.seed(42)"
   ]
  },
  {
   "cell_type": "markdown",
   "metadata": {},
   "source": [
    "<hr>\n",
    "\n",
    "### **OneMap API**\n",
    "\n",
    "API Document Link: https://www.onemap.gov.sg/apidocs/search\n"
   ]
  },
  {
   "cell_type": "code",
   "execution_count": 4,
   "metadata": {},
   "outputs": [],
   "source": [
    "def get_address_info(text_input: str) -> dict | None:\n",
    "    url = f\"https://www.onemap.gov.sg/api/common/elastic/search?searchVal={text_input}&returnGeom=Y&getAddrDetails=Y&pageNum=1\"\n",
    "    headers = {\"Authorization\": \"Bearer **********************\"}\n",
    "    response = requests.get(url, headers=headers)\n",
    "\n",
    "    if response.status_code == 200:\n",
    "        data = response.json()\n",
    "        if data[\"found\"] > 0:  # If postal code exists in OneMap\n",
    "            result = data[\"results\"][0]\n",
    "            return {\n",
    "                \"postal_code\": result[\"POSTAL\"],\n",
    "                \"address\": result[\n",
    "                    \"ADDRESS\"\n",
    "                ],  # f\"{(result['BLK_NO'] if result['BLK_NO'] != 'NIL' else '')} {(result['ROAD_NAME'] if result['ROAD_NAME'] != 'NIL' else '')} {(result['BUILDING'] if result['BUILDING'] != 'NIL' else '')}\",\n",
    "                \"latitude\": result[\"LATITUDE\"],\n",
    "                \"longitude\": result[\"LONGITUDE\"],\n",
    "            }\n",
    "    return None  # Invalid postal code"
   ]
  },
  {
   "cell_type": "markdown",
   "metadata": {},
   "source": [
    "<hr>\n",
    "\n",
    "## Clinics Table\n",
    "\n",
    "Note: The column `postal_code` will be later mapped to its corresponding `address_id`. It is stored first in order to populate the `Addresses` table.\n"
   ]
  },
  {
   "cell_type": "markdown",
   "metadata": {},
   "source": [
    "### Polyclinics Data\n"
   ]
  },
  {
   "cell_type": "code",
   "execution_count": 5,
   "metadata": {},
   "outputs": [],
   "source": [
    "# -----------------------------\n",
    "# Load the JSON Polyclinic data\n",
    "# -----------------------------\n",
    "with open(\"../data/get_instituitions_response.json\", \"r\") as f:\n",
    "    institutions_data = json.load(f)"
   ]
  },
  {
   "cell_type": "code",
   "execution_count": 6,
   "metadata": {},
   "outputs": [
    {
     "name": "stdout",
     "output_type": "stream",
     "text": [
      "Polyclinic Count: 26\n",
      "Unique Polyclinic Name Count: 26\n"
     ]
    },
    {
     "data": {
      "application/vnd.microsoft.datawrangler.viewer.v0+json": {
       "columns": [
        {
         "name": "index",
         "rawType": "int64",
         "type": "integer"
        },
        {
         "name": "name",
         "rawType": "object",
         "type": "string"
        },
        {
         "name": "postal_code",
         "rawType": "object",
         "type": "string"
        },
        {
         "name": "type",
         "rawType": "object",
         "type": "string"
        }
       ],
       "conversionMethod": "pd.DataFrame",
       "ref": "d1932efa-9700-4e12-a2c0-d51c25452e41",
       "rows": [
        [
         "0",
         "Ang Mo Kio Polyclinic",
         "569666",
         "polyclinic"
        ],
        [
         "1",
         "Geylang Polyclinic",
         "389707",
         "polyclinic"
        ],
        [
         "2",
         "Hougang Polyclinic",
         "538829",
         "polyclinic"
        ],
        [
         "3",
         "Kallang Polyclinic",
         "328263",
         "polyclinic"
        ],
        [
         "4",
         "Khatib Polyclinic",
         "769567",
         "polyclinic"
        ],
        [
         "5",
         "Toa Payoh Polyclinic",
         "319260",
         "polyclinic"
        ],
        [
         "6",
         "Sembawang Polyclinic",
         "756973",
         "polyclinic"
        ],
        [
         "7",
         "Woodlands Polyclinic",
         "738579",
         "polyclinic"
        ],
        [
         "8",
         "Yishun Polyclinic",
         "768898",
         "polyclinic"
        ],
        [
         "9",
         "Bukit Batok Polyclinic",
         "659164",
         "polyclinic"
        ],
        [
         "10",
         "Jurong Polyclinic",
         "609788",
         "polyclinic"
        ],
        [
         "11",
         "Pioneer Polyclinic",
         "648201",
         "polyclinic"
        ],
        [
         "12",
         "Choa Chu Kang Polyclinic",
         "688846",
         "polyclinic"
        ],
        [
         "13",
         "Clementi Polyclinic",
         "120451",
         "polyclinic"
        ],
        [
         "14",
         "Queenstown Polyclinic",
         "148958",
         "polyclinic"
        ],
        [
         "15",
         "Bukit Panjang Polyclinic",
         "677726",
         "polyclinic"
        ],
        [
         "16",
         "Bedok Polyclinic",
         "469662",
         "polyclinic"
        ],
        [
         "17",
         "Bukit Merah Polyclinic",
         "150163",
         "polyclinic"
        ],
        [
         "18",
         "Marine Parade Polyclinic",
         "440080",
         "polyclinic"
        ],
        [
         "19",
         "Outram Polyclinic",
         "168937",
         "polyclinic"
        ],
        [
         "20",
         "Pasir Ris Polyclinic",
         "519466",
         "polyclinic"
        ],
        [
         "21",
         "Sengkang Polyclinic",
         "545025",
         "polyclinic"
        ],
        [
         "22",
         "Tampines Polyclinic",
         "529203",
         "polyclinic"
        ],
        [
         "23",
         "Punggol Polyclinic",
         "820681",
         "polyclinic"
        ],
        [
         "24",
         "Eunos Polyclinic",
         "429400",
         "polyclinic"
        ],
        [
         "25",
         "Tampines North Polyclinic",
         "528566",
         "polyclinic"
        ]
       ],
       "shape": {
        "columns": 3,
        "rows": 26
       }
      },
      "text/html": [
       "<div>\n",
       "<style scoped>\n",
       "    .dataframe tbody tr th:only-of-type {\n",
       "        vertical-align: middle;\n",
       "    }\n",
       "\n",
       "    .dataframe tbody tr th {\n",
       "        vertical-align: top;\n",
       "    }\n",
       "\n",
       "    .dataframe thead th {\n",
       "        text-align: right;\n",
       "    }\n",
       "</style>\n",
       "<table border=\"1\" class=\"dataframe\">\n",
       "  <thead>\n",
       "    <tr style=\"text-align: right;\">\n",
       "      <th></th>\n",
       "      <th>name</th>\n",
       "      <th>postal_code</th>\n",
       "      <th>type</th>\n",
       "    </tr>\n",
       "  </thead>\n",
       "  <tbody>\n",
       "    <tr>\n",
       "      <th>0</th>\n",
       "      <td>Ang Mo Kio Polyclinic</td>\n",
       "      <td>569666</td>\n",
       "      <td>polyclinic</td>\n",
       "    </tr>\n",
       "    <tr>\n",
       "      <th>1</th>\n",
       "      <td>Geylang Polyclinic</td>\n",
       "      <td>389707</td>\n",
       "      <td>polyclinic</td>\n",
       "    </tr>\n",
       "    <tr>\n",
       "      <th>2</th>\n",
       "      <td>Hougang Polyclinic</td>\n",
       "      <td>538829</td>\n",
       "      <td>polyclinic</td>\n",
       "    </tr>\n",
       "    <tr>\n",
       "      <th>3</th>\n",
       "      <td>Kallang Polyclinic</td>\n",
       "      <td>328263</td>\n",
       "      <td>polyclinic</td>\n",
       "    </tr>\n",
       "    <tr>\n",
       "      <th>4</th>\n",
       "      <td>Khatib Polyclinic</td>\n",
       "      <td>769567</td>\n",
       "      <td>polyclinic</td>\n",
       "    </tr>\n",
       "    <tr>\n",
       "      <th>5</th>\n",
       "      <td>Toa Payoh Polyclinic</td>\n",
       "      <td>319260</td>\n",
       "      <td>polyclinic</td>\n",
       "    </tr>\n",
       "    <tr>\n",
       "      <th>6</th>\n",
       "      <td>Sembawang Polyclinic</td>\n",
       "      <td>756973</td>\n",
       "      <td>polyclinic</td>\n",
       "    </tr>\n",
       "    <tr>\n",
       "      <th>7</th>\n",
       "      <td>Woodlands Polyclinic</td>\n",
       "      <td>738579</td>\n",
       "      <td>polyclinic</td>\n",
       "    </tr>\n",
       "    <tr>\n",
       "      <th>8</th>\n",
       "      <td>Yishun Polyclinic</td>\n",
       "      <td>768898</td>\n",
       "      <td>polyclinic</td>\n",
       "    </tr>\n",
       "    <tr>\n",
       "      <th>9</th>\n",
       "      <td>Bukit Batok Polyclinic</td>\n",
       "      <td>659164</td>\n",
       "      <td>polyclinic</td>\n",
       "    </tr>\n",
       "    <tr>\n",
       "      <th>10</th>\n",
       "      <td>Jurong Polyclinic</td>\n",
       "      <td>609788</td>\n",
       "      <td>polyclinic</td>\n",
       "    </tr>\n",
       "    <tr>\n",
       "      <th>11</th>\n",
       "      <td>Pioneer Polyclinic</td>\n",
       "      <td>648201</td>\n",
       "      <td>polyclinic</td>\n",
       "    </tr>\n",
       "    <tr>\n",
       "      <th>12</th>\n",
       "      <td>Choa Chu Kang Polyclinic</td>\n",
       "      <td>688846</td>\n",
       "      <td>polyclinic</td>\n",
       "    </tr>\n",
       "    <tr>\n",
       "      <th>13</th>\n",
       "      <td>Clementi Polyclinic</td>\n",
       "      <td>120451</td>\n",
       "      <td>polyclinic</td>\n",
       "    </tr>\n",
       "    <tr>\n",
       "      <th>14</th>\n",
       "      <td>Queenstown Polyclinic</td>\n",
       "      <td>148958</td>\n",
       "      <td>polyclinic</td>\n",
       "    </tr>\n",
       "    <tr>\n",
       "      <th>15</th>\n",
       "      <td>Bukit Panjang Polyclinic</td>\n",
       "      <td>677726</td>\n",
       "      <td>polyclinic</td>\n",
       "    </tr>\n",
       "    <tr>\n",
       "      <th>16</th>\n",
       "      <td>Bedok Polyclinic</td>\n",
       "      <td>469662</td>\n",
       "      <td>polyclinic</td>\n",
       "    </tr>\n",
       "    <tr>\n",
       "      <th>17</th>\n",
       "      <td>Bukit Merah Polyclinic</td>\n",
       "      <td>150163</td>\n",
       "      <td>polyclinic</td>\n",
       "    </tr>\n",
       "    <tr>\n",
       "      <th>18</th>\n",
       "      <td>Marine Parade Polyclinic</td>\n",
       "      <td>440080</td>\n",
       "      <td>polyclinic</td>\n",
       "    </tr>\n",
       "    <tr>\n",
       "      <th>19</th>\n",
       "      <td>Outram Polyclinic</td>\n",
       "      <td>168937</td>\n",
       "      <td>polyclinic</td>\n",
       "    </tr>\n",
       "    <tr>\n",
       "      <th>20</th>\n",
       "      <td>Pasir Ris Polyclinic</td>\n",
       "      <td>519466</td>\n",
       "      <td>polyclinic</td>\n",
       "    </tr>\n",
       "    <tr>\n",
       "      <th>21</th>\n",
       "      <td>Sengkang Polyclinic</td>\n",
       "      <td>545025</td>\n",
       "      <td>polyclinic</td>\n",
       "    </tr>\n",
       "    <tr>\n",
       "      <th>22</th>\n",
       "      <td>Tampines Polyclinic</td>\n",
       "      <td>529203</td>\n",
       "      <td>polyclinic</td>\n",
       "    </tr>\n",
       "    <tr>\n",
       "      <th>23</th>\n",
       "      <td>Punggol Polyclinic</td>\n",
       "      <td>820681</td>\n",
       "      <td>polyclinic</td>\n",
       "    </tr>\n",
       "    <tr>\n",
       "      <th>24</th>\n",
       "      <td>Eunos Polyclinic</td>\n",
       "      <td>429400</td>\n",
       "      <td>polyclinic</td>\n",
       "    </tr>\n",
       "    <tr>\n",
       "      <th>25</th>\n",
       "      <td>Tampines North Polyclinic</td>\n",
       "      <td>528566</td>\n",
       "      <td>polyclinic</td>\n",
       "    </tr>\n",
       "  </tbody>\n",
       "</table>\n",
       "</div>"
      ],
      "text/plain": [
       "                         name postal_code        type\n",
       "0       Ang Mo Kio Polyclinic      569666  polyclinic\n",
       "1          Geylang Polyclinic      389707  polyclinic\n",
       "2          Hougang Polyclinic      538829  polyclinic\n",
       "3          Kallang Polyclinic      328263  polyclinic\n",
       "4           Khatib Polyclinic      769567  polyclinic\n",
       "5        Toa Payoh Polyclinic      319260  polyclinic\n",
       "6        Sembawang Polyclinic      756973  polyclinic\n",
       "7        Woodlands Polyclinic      738579  polyclinic\n",
       "8           Yishun Polyclinic      768898  polyclinic\n",
       "9      Bukit Batok Polyclinic      659164  polyclinic\n",
       "10          Jurong Polyclinic      609788  polyclinic\n",
       "11         Pioneer Polyclinic      648201  polyclinic\n",
       "12   Choa Chu Kang Polyclinic      688846  polyclinic\n",
       "13        Clementi Polyclinic      120451  polyclinic\n",
       "14      Queenstown Polyclinic      148958  polyclinic\n",
       "15   Bukit Panjang Polyclinic      677726  polyclinic\n",
       "16           Bedok Polyclinic      469662  polyclinic\n",
       "17     Bukit Merah Polyclinic      150163  polyclinic\n",
       "18   Marine Parade Polyclinic      440080  polyclinic\n",
       "19          Outram Polyclinic      168937  polyclinic\n",
       "20       Pasir Ris Polyclinic      519466  polyclinic\n",
       "21        Sengkang Polyclinic      545025  polyclinic\n",
       "22        Tampines Polyclinic      529203  polyclinic\n",
       "23         Punggol Polyclinic      820681  polyclinic\n",
       "24           Eunos Polyclinic      429400  polyclinic\n",
       "25  Tampines North Polyclinic      528566  polyclinic"
      ]
     },
     "metadata": {},
     "output_type": "display_data"
    }
   ],
   "source": [
    "# -----------------------------\n",
    "# Process JSON Polyclinic data\n",
    "# -----------------------------\n",
    "# Extract the list of health organizations\n",
    "health_organizations = institutions_data[\"Result\"][\"HealthOrganizations\"]\n",
    "\n",
    "# Normalize the 'Cluster' and 'Group' columns\n",
    "institutions_df = pd.json_normalize(health_organizations, sep=\"_\")\n",
    "\n",
    "# Sort the DataFrame by the 'Id' column\n",
    "institutions_df = institutions_df.sort_values(by=\"Id\").reset_index(drop=True)\n",
    "\n",
    "# Fliter for polyclinics (Count: 26)\n",
    "polyclinics_df = institutions_df[\n",
    "    institutions_df[\"GroupName\"] == \"Polyclinics\"\n",
    "].reset_index()\n",
    "\n",
    "# Data Check\n",
    "print(f\"Polyclinic Count: {len(polyclinics_df)}\")\n",
    "print(f\"Unique Polyclinic Name Count: {len(polyclinics_df['Name'].unique())}\")\n",
    "\n",
    "# Extract relevant columns\n",
    "include_columns = [\"Name\"]\n",
    "polyclinics_df = polyclinics_df[include_columns]\n",
    "# Rename to \"name\" column\n",
    "polyclinics_df.rename(columns={\"Name\": \"name\"}, inplace=True)\n",
    "\n",
    "# Get Postal Code using OneMap\n",
    "polyclinics_df[\"postal_code\"] = polyclinics_df[\"name\"].apply(\n",
    "    lambda name: (\n",
    "        pd.Series(get_address_info(name), index=[\"postal_code\"])\n",
    "        if get_address_info(name)\n",
    "        else pd.Series([None, None], index=[\"postal_code\"])\n",
    "    )\n",
    ")\n",
    "\n",
    "# Update incorrectly identified postal code(s)\n",
    "update_postal_code = {\"Sembawang Polyclinic\": \"756973\"}\n",
    "for polyclinic, postal_code in update_postal_code.items():\n",
    "    polyclinics_df.loc[polyclinics_df[\"name\"] == polyclinic, \"postal_code\"] = (\n",
    "        postal_code\n",
    "    )\n",
    "\n",
    "# Add new column \"type\"\n",
    "polyclinics_df[\"type\"] = \"polyclinic\"\n",
    "\n",
    "display(polyclinics_df)"
   ]
  },
  {
   "cell_type": "markdown",
   "metadata": {},
   "source": [
    "### General Practitioners Data\n"
   ]
  },
  {
   "cell_type": "code",
   "execution_count": 7,
   "metadata": {},
   "outputs": [],
   "source": [
    "# -------------------------------------\n",
    "# Load clinic dataset from `data.gov.sg`\n",
    "# -------------------------------------\n",
    "# Define dataset ID and URL\n",
    "dataset_id = \"d_3cd840069e95b6a521aa5301a084b25a\"\n",
    "url = \"https://data.gov.sg/api/action/datastore_search?resource_id=\" + dataset_id\n",
    "\n",
    "# Initialize an empty list to hold all records\n",
    "all_clinic_records = []\n",
    "\n",
    "# Set the initial offset and limit\n",
    "limit = 100  # Max records per request\n",
    "offset = 0\n",
    "\n",
    "# Loop through the paginated data as the API only returns 100 records per request\n",
    "while True:\n",
    "    response = requests.get(f\"{url}&limit={limit}&offset={offset}\")\n",
    "\n",
    "    if response.status_code == 200:\n",
    "        data = response.json()\n",
    "        records = data[\"result\"][\"records\"]\n",
    "\n",
    "        all_clinic_records.extend(records)\n",
    "\n",
    "        # Check if there are more records (if the number of records returned is less than the limit, stop)\n",
    "        if len(records) < limit:\n",
    "            break\n",
    "\n",
    "        # Update offset for the next batch of records\n",
    "        offset += limit\n",
    "    else:\n",
    "        print(f\"Request failed with status code {response.status_code}\")\n",
    "        break\n",
    "\n",
    "data_gov_clinic_df = pd.DataFrame(all_clinic_records)"
   ]
  },
  {
   "cell_type": "code",
   "execution_count": 8,
   "metadata": {},
   "outputs": [
    {
     "name": "stdout",
     "output_type": "stream",
     "text": [
      "GP Count: 1532\n",
      "Unique GP Name Count: 1486\n",
      "Unique GP Postal Code Count: 1074\n"
     ]
    },
    {
     "data": {
      "application/vnd.microsoft.datawrangler.viewer.v0+json": {
       "columns": [
        {
         "name": "index",
         "rawType": "int64",
         "type": "integer"
        },
        {
         "name": "name",
         "rawType": "object",
         "type": "string"
        },
        {
         "name": "postal_code",
         "rawType": "object",
         "type": "string"
        },
        {
         "name": "type",
         "rawType": "object",
         "type": "string"
        }
       ],
       "conversionMethod": "pd.DataFrame",
       "ref": "ebd3cbc8-bbaf-47ea-984a-6cdcbfd4cc02",
       "rows": [
        [
         "0",
         "Cavenagh Medical Clinic And Home Care",
         "269695",
         "gp"
        ],
        [
         "1",
         "Mei Ling Clinic",
         "140158",
         "gp"
        ],
        [
         "2",
         "Rcmc Rivervale Crescent Medical Centre",
         "541182",
         "gp"
        ],
        [
         "3",
         "360 Clinic",
         "560407",
         "gp"
        ],
        [
         "4",
         "SKY Medical",
         "079027",
         "gp"
        ],
        [
         "5",
         "DTAP @ Kovan",
         "534733",
         "gp"
        ],
        [
         "6",
         "Kindred Family Clinic (Yishun)",
         "760172",
         "gp"
        ],
        [
         "7",
         "Vitacare Family Clinic @ Kovan",
         "530205",
         "gp"
        ],
        [
         "8",
         "Healthway Medical (Yishun Ave 5)",
         "760101",
         "gp"
        ],
        [
         "9",
         "Bartley Clinic",
         "534869",
         "gp"
        ],
        [
         "10",
         "Parkway Shenton Medical Group (Bukit Panjang)",
         "677743",
         "gp"
        ],
        [
         "11",
         "A+ffordable Clinic (Hougang)",
         "530681",
         "gp"
        ],
        [
         "12",
         "171 Stirling Family Clinic",
         "140171",
         "gp"
        ],
        [
         "13",
         "United Health Family Clinic & Surgery",
         "760627",
         "gp"
        ],
        [
         "14",
         "Raffles Medical (Compass One)",
         "545078",
         "gp"
        ],
        [
         "15",
         "Good Medical Clinic (Tampines East)",
         "520462",
         "gp"
        ],
        [
         "16",
         "SingMedical Clinic Clementi",
         "120446",
         "gp"
        ],
        [
         "17",
         "Cecilia Family Clinic & Surgery",
         "520484",
         "gp"
        ],
        [
         "18",
         "Inspire Medical Clinic (Jalan Batu)",
         "431008",
         "gp"
        ],
        [
         "19",
         "My Family Clinic (Choa Chu Kang)",
         "680475",
         "gp"
        ],
        [
         "20",
         "Novena Medical Center Family Clinic",
         "307506",
         "gp"
        ],
        [
         "21",
         "Healthway Medical (Millenia Walk)",
         "039596",
         "gp"
        ],
        [
         "22",
         "The Tenteram Clinic",
         "322116",
         "gp"
        ],
        [
         "23",
         "HAFcare Novena Clinic",
         "329563",
         "gp"
        ],
        [
         "24",
         "Soon Lee Medical Clinic",
         "627606",
         "gp"
        ],
        [
         "25",
         "Dayspring Medical Clinic (Tampines)",
         "529509",
         "gp"
        ],
        [
         "26",
         "Cck Family Clinic",
         "680304",
         "gp"
        ],
        [
         "27",
         "Phoenix Medical Group",
         "807011",
         "gp"
        ],
        [
         "28",
         "K N Chin & Associates Pte Ltd",
         "048621",
         "gp"
        ],
        [
         "29",
         "Healthway Medical Clinic",
         "608532",
         "gp"
        ],
        [
         "30",
         "Raffles Medical (Joo Chiat)",
         "427680",
         "gp"
        ],
        [
         "31",
         "Straits Clinic",
         "159953",
         "gp"
        ],
        [
         "32",
         "Fullerton Health @ UBS",
         "238459",
         "gp"
        ],
        [
         "33",
         "Healthplus Family Clinic & Surgery",
         "101078",
         "gp"
        ],
        [
         "34",
         "JTVC Kaki Bukit",
         "419612",
         "gp"
        ],
        [
         "35",
         "Northlink (Woodlands) Clinic",
         "737736",
         "gp"
        ],
        [
         "36",
         "Street 21 Clinic Tampines Pte. Ltd.",
         "522201",
         "gp"
        ],
        [
         "37",
         "Tan & Koh Clinic & Surgery",
         "470121",
         "gp"
        ],
        [
         "38",
         "Medipoint Medical Centre (Ponggol Branch)",
         "530401",
         "gp"
        ],
        [
         "39",
         "Shenton Medical Group (Yishun)",
         "768698",
         "gp"
        ],
        [
         "40",
         "Goodhealth Medical & Surgery ",
         "570116",
         "gp"
        ],
        [
         "41",
         "DR+ Medical & Paincare Bishan",
         "570121",
         "gp"
        ],
        [
         "42",
         "Chang Clinic & Surgery",
         "080007",
         "gp"
        ],
        [
         "43",
         "Point Medical Group (Taman Jurong)",
         "610399",
         "gp"
        ],
        [
         "44",
         "Shenton Medical Group (Yishun)",
         "760160",
         "gp"
        ],
        [
         "45",
         "Hl Clinic Pte Ltd",
         "090009",
         "gp"
        ],
        [
         "46",
         "Punggol Ripples Family Clinic",
         "824211",
         "gp"
        ],
        [
         "47",
         "HealthHero",
         "650164",
         "gp"
        ],
        [
         "48",
         "The Good Life Medical Center",
         "574623",
         "gp"
        ],
        [
         "49",
         "Etern Medical Clinic",
         "828868",
         "gp"
        ]
       ],
       "shape": {
        "columns": 3,
        "rows": 1532
       }
      },
      "text/html": [
       "<div>\n",
       "<style scoped>\n",
       "    .dataframe tbody tr th:only-of-type {\n",
       "        vertical-align: middle;\n",
       "    }\n",
       "\n",
       "    .dataframe tbody tr th {\n",
       "        vertical-align: top;\n",
       "    }\n",
       "\n",
       "    .dataframe thead th {\n",
       "        text-align: right;\n",
       "    }\n",
       "</style>\n",
       "<table border=\"1\" class=\"dataframe\">\n",
       "  <thead>\n",
       "    <tr style=\"text-align: right;\">\n",
       "      <th></th>\n",
       "      <th>name</th>\n",
       "      <th>postal_code</th>\n",
       "      <th>type</th>\n",
       "    </tr>\n",
       "  </thead>\n",
       "  <tbody>\n",
       "    <tr>\n",
       "      <th>0</th>\n",
       "      <td>Cavenagh Medical Clinic And Home Care</td>\n",
       "      <td>269695</td>\n",
       "      <td>gp</td>\n",
       "    </tr>\n",
       "    <tr>\n",
       "      <th>1</th>\n",
       "      <td>Mei Ling Clinic</td>\n",
       "      <td>140158</td>\n",
       "      <td>gp</td>\n",
       "    </tr>\n",
       "    <tr>\n",
       "      <th>2</th>\n",
       "      <td>Rcmc Rivervale Crescent Medical Centre</td>\n",
       "      <td>541182</td>\n",
       "      <td>gp</td>\n",
       "    </tr>\n",
       "    <tr>\n",
       "      <th>3</th>\n",
       "      <td>360 Clinic</td>\n",
       "      <td>560407</td>\n",
       "      <td>gp</td>\n",
       "    </tr>\n",
       "    <tr>\n",
       "      <th>4</th>\n",
       "      <td>SKY Medical</td>\n",
       "      <td>079027</td>\n",
       "      <td>gp</td>\n",
       "    </tr>\n",
       "    <tr>\n",
       "      <th>...</th>\n",
       "      <td>...</td>\n",
       "      <td>...</td>\n",
       "      <td>...</td>\n",
       "    </tr>\n",
       "    <tr>\n",
       "      <th>1527</th>\n",
       "      <td>Trinity Medical@Shenton</td>\n",
       "      <td>068908</td>\n",
       "      <td>gp</td>\n",
       "    </tr>\n",
       "    <tr>\n",
       "      <th>1528</th>\n",
       "      <td>Saudara Clinic By A+J General Physicians</td>\n",
       "      <td>419741</td>\n",
       "      <td>gp</td>\n",
       "    </tr>\n",
       "    <tr>\n",
       "      <th>1529</th>\n",
       "      <td>Zara Clinic</td>\n",
       "      <td>680026</td>\n",
       "      <td>gp</td>\n",
       "    </tr>\n",
       "    <tr>\n",
       "      <th>1530</th>\n",
       "      <td>360 Clinic</td>\n",
       "      <td>640221</td>\n",
       "      <td>gp</td>\n",
       "    </tr>\n",
       "    <tr>\n",
       "      <th>1531</th>\n",
       "      <td>Vital-Care Clinic and Surgery Pte Ltd</td>\n",
       "      <td>560525</td>\n",
       "      <td>gp</td>\n",
       "    </tr>\n",
       "  </tbody>\n",
       "</table>\n",
       "<p>1532 rows × 3 columns</p>\n",
       "</div>"
      ],
      "text/plain": [
       "                                          name postal_code type\n",
       "0        Cavenagh Medical Clinic And Home Care      269695   gp\n",
       "1                              Mei Ling Clinic      140158   gp\n",
       "2       Rcmc Rivervale Crescent Medical Centre      541182   gp\n",
       "3                                   360 Clinic      560407   gp\n",
       "4                                  SKY Medical      079027   gp\n",
       "...                                        ...         ...  ...\n",
       "1527                   Trinity Medical@Shenton      068908   gp\n",
       "1528  Saudara Clinic By A+J General Physicians      419741   gp\n",
       "1529                               Zara Clinic      680026   gp\n",
       "1530                                360 Clinic      640221   gp\n",
       "1531     Vital-Care Clinic and Surgery Pte Ltd      560525   gp\n",
       "\n",
       "[1532 rows x 3 columns]"
      ]
     },
     "metadata": {},
     "output_type": "display_data"
    }
   ],
   "source": [
    "# ------------\n",
    "# Process data\n",
    "# ------------\n",
    "# Get General Practitioners only\n",
    "gp_api_df = data_gov_clinic_df[\n",
    "    data_gov_clinic_df[\"category\"].isin([\"gp\", \"non-chas-gp\"])\n",
    "]\n",
    "print(f\"GP Count: {len(gp_api_df)}\")\n",
    "# There may be different outlets across Singapore\n",
    "print(f\"Unique GP Name Count: {len(gp_api_df['name'].unique())}\")\n",
    "print(f\"Unique GP Postal Code Count: {len(gp_api_df['postal_code'].unique())}\")\n",
    "\n",
    "gps_df = gp_api_df.copy()\n",
    "# Extract the required columns\n",
    "columns_to_extract = [\"name\", \"postal_code\"]\n",
    "gps_df = gps_df[columns_to_extract].reset_index(drop=True)\n",
    "\n",
    "# Add new column \"type\"\n",
    "gps_df[\"type\"] = \"gp\"\n",
    "\n",
    "display(gps_df)"
   ]
  },
  {
   "cell_type": "markdown",
   "metadata": {},
   "source": [
    "### Combined Clinics Data\n"
   ]
  },
  {
   "cell_type": "code",
   "execution_count": 9,
   "metadata": {},
   "outputs": [
    {
     "name": "stdout",
     "output_type": "stream",
     "text": [
      "Clinics `postal_code` Unique Count: 1096\n"
     ]
    },
    {
     "data": {
      "application/vnd.microsoft.datawrangler.viewer.v0+json": {
       "columns": [
        {
         "name": "index",
         "rawType": "int64",
         "type": "integer"
        },
        {
         "name": "id",
         "rawType": "object",
         "type": "string"
        },
        {
         "name": "name",
         "rawType": "object",
         "type": "string"
        },
        {
         "name": "postal_code",
         "rawType": "object",
         "type": "string"
        },
        {
         "name": "type",
         "rawType": "object",
         "type": "string"
        }
       ],
       "conversionMethod": "pd.DataFrame",
       "ref": "95683282-0dad-45a0-b6ab-8a4014d3355b",
       "rows": [
        [
         "0",
         "1d2e196d-af66-48f1-8f2c-0e23ad0ecde3",
         "Ang Mo Kio Polyclinic",
         "569666",
         "polyclinic"
        ],
        [
         "1",
         "859fe92f-9c4b-4f3d-beda-b6c96e67887f",
         "Geylang Polyclinic",
         "389707",
         "polyclinic"
        ],
        [
         "2",
         "76da5477-df98-49d2-99d5-ba6d3900c3b7",
         "Hougang Polyclinic",
         "538829",
         "polyclinic"
        ],
        [
         "3",
         "1489b9d7-5c8b-4df8-a614-70e76eb35722",
         "Kallang Polyclinic",
         "328263",
         "polyclinic"
        ],
        [
         "4",
         "84b1aa83-156c-4eca-a9bf-ddc72424de1a",
         "Khatib Polyclinic",
         "769567",
         "polyclinic"
        ],
        [
         "5",
         "60efd679-a6e9-44c7-b395-8fb05a64714a",
         "Toa Payoh Polyclinic",
         "319260",
         "polyclinic"
        ],
        [
         "6",
         "409faaa8-c905-417a-b600-49f40e7e6ce3",
         "Sembawang Polyclinic",
         "756973",
         "polyclinic"
        ],
        [
         "7",
         "c8ee8f2b-8e04-4ddc-a1c7-d3277b547559",
         "Woodlands Polyclinic",
         "738579",
         "polyclinic"
        ],
        [
         "8",
         "62413894-630f-4432-bb14-62ffe6179a4e",
         "Yishun Polyclinic",
         "768898",
         "polyclinic"
        ],
        [
         "9",
         "65db34ad-4767-4e5d-a6a8-9cc6d7077c0f",
         "Bukit Batok Polyclinic",
         "659164",
         "polyclinic"
        ],
        [
         "10",
         "14398891-c7a3-4425-9d6d-63a5c8cc4ac8",
         "Jurong Polyclinic",
         "609788",
         "polyclinic"
        ],
        [
         "11",
         "4de9e253-08ac-445f-95a6-3d086068c49c",
         "Pioneer Polyclinic",
         "648201",
         "polyclinic"
        ],
        [
         "12",
         "9e1c435c-49fb-4d43-94d3-8f6b1c3ef061",
         "Choa Chu Kang Polyclinic",
         "688846",
         "polyclinic"
        ],
        [
         "13",
         "015991c6-8565-4f5b-a162-abb083bf6d58",
         "Clementi Polyclinic",
         "120451",
         "polyclinic"
        ],
        [
         "14",
         "444e79e5-ad10-4240-9ec7-47cb5c24ee2a",
         "Queenstown Polyclinic",
         "148958",
         "polyclinic"
        ],
        [
         "15",
         "dc22922d-7a1a-4abb-9f23-d8d685bf555c",
         "Bukit Panjang Polyclinic",
         "677726",
         "polyclinic"
        ],
        [
         "16",
         "2017474b-c611-42a9-be8c-3fa14457f8b6",
         "Bedok Polyclinic",
         "469662",
         "polyclinic"
        ],
        [
         "17",
         "d4f04b05-e5f6-4945-84ce-e1b22b8ebaf4",
         "Bukit Merah Polyclinic",
         "150163",
         "polyclinic"
        ],
        [
         "18",
         "983a9652-d9a5-4560-a6b8-d7befb3fef45",
         "Marine Parade Polyclinic",
         "440080",
         "polyclinic"
        ],
        [
         "19",
         "8ed31a4c-a932-4634-b25f-113513f20ec4",
         "Outram Polyclinic",
         "168937",
         "polyclinic"
        ],
        [
         "20",
         "f53f8540-5d7b-4dde-b806-b638ae0615f4",
         "Pasir Ris Polyclinic",
         "519466",
         "polyclinic"
        ],
        [
         "21",
         "3ce84b91-3ab8-4557-8690-65cf91831fa4",
         "Sengkang Polyclinic",
         "545025",
         "polyclinic"
        ],
        [
         "22",
         "33c273c7-37c4-47f0-8ec3-fa44ad03a89c",
         "Tampines Polyclinic",
         "529203",
         "polyclinic"
        ],
        [
         "23",
         "82eb0266-6620-491e-9e8b-535e09e177ba",
         "Punggol Polyclinic",
         "820681",
         "polyclinic"
        ],
        [
         "24",
         "642857a8-3255-4b5f-9db8-7c73e4955463",
         "Eunos Polyclinic",
         "429400",
         "polyclinic"
        ],
        [
         "25",
         "d04e2d6c-9ee8-4871-b79e-35d8e587cda9",
         "Tampines North Polyclinic",
         "528566",
         "polyclinic"
        ],
        [
         "26",
         "07e469ba-f570-4afd-aeaa-3b6174e6405a",
         "Cavenagh Medical Clinic And Home Care",
         "269695",
         "gp"
        ],
        [
         "27",
         "06f2b2f0-db64-42e9-a542-d479f0a30e21",
         "Mei Ling Clinic",
         "140158",
         "gp"
        ],
        [
         "28",
         "c24db0af-2aee-42df-992d-9722ea26689c",
         "Rcmc Rivervale Crescent Medical Centre",
         "541182",
         "gp"
        ],
        [
         "29",
         "41387e1a-c991-4c2d-aae3-70d59e28bc13",
         "360 Clinic",
         "560407",
         "gp"
        ],
        [
         "30",
         "b313b69e-ea86-498c-af2d-34f7ef4f22e7",
         "SKY Medical",
         "079027",
         "gp"
        ],
        [
         "31",
         "66e5da49-60fc-43c1-a3b3-1b4b5c55c521",
         "DTAP @ Kovan",
         "534733",
         "gp"
        ],
        [
         "32",
         "1dbe0e81-1bc3-4034-bc3d-9d6237967dfd",
         "Kindred Family Clinic (Yishun)",
         "760172",
         "gp"
        ],
        [
         "33",
         "2f290750-35b9-41a5-b71a-2864ea278da1",
         "Vitacare Family Clinic @ Kovan",
         "530205",
         "gp"
        ],
        [
         "34",
         "5f5b6315-ffdb-4bd6-81d0-c9ceeedc76bf",
         "Healthway Medical (Yishun Ave 5)",
         "760101",
         "gp"
        ],
        [
         "35",
         "90d4b6db-abd0-4f2b-bc41-293f74d580ee",
         "Bartley Clinic",
         "534869",
         "gp"
        ],
        [
         "36",
         "095791fa-0f72-4b2a-9b2e-a970b6cf303e",
         "Parkway Shenton Medical Group (Bukit Panjang)",
         "677743",
         "gp"
        ],
        [
         "37",
         "4cdbb035-c591-495a-9669-5c42b9e04c84",
         "A+ffordable Clinic (Hougang)",
         "530681",
         "gp"
        ],
        [
         "38",
         "47f81a25-3e4e-4ad3-836b-e0a9c07ba56e",
         "171 Stirling Family Clinic",
         "140171",
         "gp"
        ],
        [
         "39",
         "89b1719d-1307-4d9c-b11f-6c63ebf869d6",
         "United Health Family Clinic & Surgery",
         "760627",
         "gp"
        ],
        [
         "40",
         "d008ebb8-dfa3-4be3-bae6-f25614b9be8e",
         "Raffles Medical (Compass One)",
         "545078",
         "gp"
        ],
        [
         "41",
         "13d1e4b1-a0f2-4dbb-9dc6-4c8dbd556bfd",
         "Good Medical Clinic (Tampines East)",
         "520462",
         "gp"
        ],
        [
         "42",
         "e436e479-b4c9-43fd-8ae6-cd45f2b67bbd",
         "SingMedical Clinic Clementi",
         "120446",
         "gp"
        ],
        [
         "43",
         "df41f0b5-9783-473c-9c56-8c37b683323b",
         "Cecilia Family Clinic & Surgery",
         "520484",
         "gp"
        ],
        [
         "44",
         "b679b468-ef1f-4ed8-8dd6-db6f4663c195",
         "Inspire Medical Clinic (Jalan Batu)",
         "431008",
         "gp"
        ],
        [
         "45",
         "81b08bcf-7a34-4bbc-af8f-c096e31f6867",
         "My Family Clinic (Choa Chu Kang)",
         "680475",
         "gp"
        ],
        [
         "46",
         "6745f2c8-e4b2-4209-a287-37cde3c839a0",
         "Novena Medical Center Family Clinic",
         "307506",
         "gp"
        ],
        [
         "47",
         "aeb30a07-577a-41a4-961f-a2b40f0e27f4",
         "Healthway Medical (Millenia Walk)",
         "039596",
         "gp"
        ],
        [
         "48",
         "687ea387-d4c0-4445-9c03-db40c33d9528",
         "The Tenteram Clinic",
         "322116",
         "gp"
        ],
        [
         "49",
         "489c5350-4766-4cfb-a963-589259f8587f",
         "HAFcare Novena Clinic",
         "329563",
         "gp"
        ]
       ],
       "shape": {
        "columns": 4,
        "rows": 1558
       }
      },
      "text/html": [
       "<div>\n",
       "<style scoped>\n",
       "    .dataframe tbody tr th:only-of-type {\n",
       "        vertical-align: middle;\n",
       "    }\n",
       "\n",
       "    .dataframe tbody tr th {\n",
       "        vertical-align: top;\n",
       "    }\n",
       "\n",
       "    .dataframe thead th {\n",
       "        text-align: right;\n",
       "    }\n",
       "</style>\n",
       "<table border=\"1\" class=\"dataframe\">\n",
       "  <thead>\n",
       "    <tr style=\"text-align: right;\">\n",
       "      <th></th>\n",
       "      <th>id</th>\n",
       "      <th>name</th>\n",
       "      <th>postal_code</th>\n",
       "      <th>type</th>\n",
       "    </tr>\n",
       "  </thead>\n",
       "  <tbody>\n",
       "    <tr>\n",
       "      <th>0</th>\n",
       "      <td>1d2e196d-af66-48f1-8f2c-0e23ad0ecde3</td>\n",
       "      <td>Ang Mo Kio Polyclinic</td>\n",
       "      <td>569666</td>\n",
       "      <td>polyclinic</td>\n",
       "    </tr>\n",
       "    <tr>\n",
       "      <th>1</th>\n",
       "      <td>859fe92f-9c4b-4f3d-beda-b6c96e67887f</td>\n",
       "      <td>Geylang Polyclinic</td>\n",
       "      <td>389707</td>\n",
       "      <td>polyclinic</td>\n",
       "    </tr>\n",
       "    <tr>\n",
       "      <th>2</th>\n",
       "      <td>76da5477-df98-49d2-99d5-ba6d3900c3b7</td>\n",
       "      <td>Hougang Polyclinic</td>\n",
       "      <td>538829</td>\n",
       "      <td>polyclinic</td>\n",
       "    </tr>\n",
       "    <tr>\n",
       "      <th>3</th>\n",
       "      <td>1489b9d7-5c8b-4df8-a614-70e76eb35722</td>\n",
       "      <td>Kallang Polyclinic</td>\n",
       "      <td>328263</td>\n",
       "      <td>polyclinic</td>\n",
       "    </tr>\n",
       "    <tr>\n",
       "      <th>4</th>\n",
       "      <td>84b1aa83-156c-4eca-a9bf-ddc72424de1a</td>\n",
       "      <td>Khatib Polyclinic</td>\n",
       "      <td>769567</td>\n",
       "      <td>polyclinic</td>\n",
       "    </tr>\n",
       "    <tr>\n",
       "      <th>...</th>\n",
       "      <td>...</td>\n",
       "      <td>...</td>\n",
       "      <td>...</td>\n",
       "      <td>...</td>\n",
       "    </tr>\n",
       "    <tr>\n",
       "      <th>1553</th>\n",
       "      <td>1e618339-2b5e-4386-9696-d4b27874f4be</td>\n",
       "      <td>Trinity Medical@Shenton</td>\n",
       "      <td>068908</td>\n",
       "      <td>gp</td>\n",
       "    </tr>\n",
       "    <tr>\n",
       "      <th>1554</th>\n",
       "      <td>d3931e52-a261-4d65-a91a-9ecfcad14ee0</td>\n",
       "      <td>Saudara Clinic By A+J General Physicians</td>\n",
       "      <td>419741</td>\n",
       "      <td>gp</td>\n",
       "    </tr>\n",
       "    <tr>\n",
       "      <th>1555</th>\n",
       "      <td>7d44d74b-ef2b-40d0-a18d-8f5487e28371</td>\n",
       "      <td>Zara Clinic</td>\n",
       "      <td>680026</td>\n",
       "      <td>gp</td>\n",
       "    </tr>\n",
       "    <tr>\n",
       "      <th>1556</th>\n",
       "      <td>1e346932-a436-432a-b2c4-1d77b25df77a</td>\n",
       "      <td>360 Clinic</td>\n",
       "      <td>640221</td>\n",
       "      <td>gp</td>\n",
       "    </tr>\n",
       "    <tr>\n",
       "      <th>1557</th>\n",
       "      <td>332515db-9138-4874-91e5-1cc74469e78d</td>\n",
       "      <td>Vital-Care Clinic and Surgery Pte Ltd</td>\n",
       "      <td>560525</td>\n",
       "      <td>gp</td>\n",
       "    </tr>\n",
       "  </tbody>\n",
       "</table>\n",
       "<p>1558 rows × 4 columns</p>\n",
       "</div>"
      ],
      "text/plain": [
       "                                        id  \\\n",
       "0     1d2e196d-af66-48f1-8f2c-0e23ad0ecde3   \n",
       "1     859fe92f-9c4b-4f3d-beda-b6c96e67887f   \n",
       "2     76da5477-df98-49d2-99d5-ba6d3900c3b7   \n",
       "3     1489b9d7-5c8b-4df8-a614-70e76eb35722   \n",
       "4     84b1aa83-156c-4eca-a9bf-ddc72424de1a   \n",
       "...                                    ...   \n",
       "1553  1e618339-2b5e-4386-9696-d4b27874f4be   \n",
       "1554  d3931e52-a261-4d65-a91a-9ecfcad14ee0   \n",
       "1555  7d44d74b-ef2b-40d0-a18d-8f5487e28371   \n",
       "1556  1e346932-a436-432a-b2c4-1d77b25df77a   \n",
       "1557  332515db-9138-4874-91e5-1cc74469e78d   \n",
       "\n",
       "                                          name postal_code        type  \n",
       "0                        Ang Mo Kio Polyclinic      569666  polyclinic  \n",
       "1                           Geylang Polyclinic      389707  polyclinic  \n",
       "2                           Hougang Polyclinic      538829  polyclinic  \n",
       "3                           Kallang Polyclinic      328263  polyclinic  \n",
       "4                            Khatib Polyclinic      769567  polyclinic  \n",
       "...                                        ...         ...         ...  \n",
       "1553                   Trinity Medical@Shenton      068908          gp  \n",
       "1554  Saudara Clinic By A+J General Physicians      419741          gp  \n",
       "1555                               Zara Clinic      680026          gp  \n",
       "1556                                360 Clinic      640221          gp  \n",
       "1557     Vital-Care Clinic and Surgery Pte Ltd      560525          gp  \n",
       "\n",
       "[1558 rows x 4 columns]"
      ]
     },
     "metadata": {},
     "output_type": "display_data"
    }
   ],
   "source": [
    "# Clinics Table\n",
    "clinics_data = {\n",
    "    \"id\": [\n",
    "        str(uuid.uuid4()) for _ in range(1, len(gps_df) + len(polyclinics_df) + 1)\n",
    "    ],  # Generate a UUID v4 as a string\n",
    "    \"name\": polyclinics_df[\"name\"].tolist() + gps_df[\"name\"].tolist(),\n",
    "    \"postal_code\": polyclinics_df[\"postal_code\"].tolist()\n",
    "    + gps_df[\"postal_code\"].tolist(),\n",
    "    \"type\": polyclinics_df[\"type\"].tolist() + gps_df[\"type\"].tolist(),\n",
    "}\n",
    "clinics_df = pd.DataFrame(clinics_data)\n",
    "\n",
    "# Get list of unique gp postal_code\n",
    "clinic_postal_code = clinics_df[\"postal_code\"].drop_duplicates().tolist()\n",
    "print(f\"Clinics `postal_code` Unique Count: {len(clinic_postal_code)}\")\n",
    "display(clinics_df)"
   ]
  },
  {
   "cell_type": "markdown",
   "metadata": {},
   "source": [
    "<hr>\n",
    "\n",
    "## Users Table\n"
   ]
  },
  {
   "cell_type": "markdown",
   "metadata": {},
   "source": [
    "### Functions\n"
   ]
  },
  {
   "cell_type": "code",
   "execution_count": 10,
   "metadata": {},
   "outputs": [],
   "source": [
    "# Regex pattern for nric\n",
    "nric_regex = r\"[STFGM]\\d{7}[A-Z]\"\n",
    "\n",
    "\n",
    "def generate_nric(dob: date) -> str:\n",
    "    year = dob.year\n",
    "    year_suffix = str(year % 100).zfill(2)  # Extract last two digits of the year\n",
    "    serial_number = str(random.randint(10000, 99999))  # Ensure exactly 7 digits\n",
    "    checksum = random.choice(\"ABCDEFGHIJKLMNOPQRSTUVWXYZ\")  # Random letter for checksum\n",
    "\n",
    "    # Determine prefix based on birth year\n",
    "    prefix = \"S\" if year < 2000 else \"T\"\n",
    "\n",
    "    sample_nric = f\"{prefix}{year_suffix}{serial_number}{checksum}\"\n",
    "\n",
    "    # Validate against regex before returning\n",
    "    if not re.fullmatch(nric_regex, sample_nric):\n",
    "        raise ValueError(\n",
    "            f\"Generated NRIC '{sample_nric}' does not match expected pattern.\"\n",
    "        )\n",
    "\n",
    "    return sample_nric\n",
    "\n",
    "\n",
    "def generate_email(first_name, last_name):\n",
    "    email_username = f\"{first_name.lower()}.{last_name.lower()}\"\n",
    "    email_domain = fake.free_email_domain()  # Use a real email domain\n",
    "    return f\"{email_username}@{email_domain}\"\n",
    "\n",
    "\n",
    "# Set up password hashing\n",
    "logging.getLogger(\"passlib\").setLevel(logging.ERROR)\n",
    "pwd_context = CryptContext(schemes=[\"bcrypt\"], deprecated=\"auto\")\n",
    "\n",
    "\n",
    "def hash_password(password: str) -> str:\n",
    "    return pwd_context.hash(password)"
   ]
  },
  {
   "cell_type": "markdown",
   "metadata": {},
   "source": [
    "### Generate Users Data\n"
   ]
  },
  {
   "cell_type": "code",
   "execution_count": 11,
   "metadata": {},
   "outputs": [
    {
     "data": {
      "application/vnd.microsoft.datawrangler.viewer.v0+json": {
       "columns": [
        {
         "name": "index",
         "rawType": "int64",
         "type": "integer"
        },
        {
         "name": "id",
         "rawType": "object",
         "type": "string"
        },
        {
         "name": "enrolled_clinic_id",
         "rawType": "object",
         "type": "unknown"
        },
        {
         "name": "nric",
         "rawType": "object",
         "type": "string"
        },
        {
         "name": "first_name",
         "rawType": "object",
         "type": "string"
        },
        {
         "name": "last_name",
         "rawType": "object",
         "type": "string"
        },
        {
         "name": "email",
         "rawType": "object",
         "type": "string"
        },
        {
         "name": "date_of_birth",
         "rawType": "object",
         "type": "unknown"
        },
        {
         "name": "gender",
         "rawType": "object",
         "type": "string"
        },
        {
         "name": "password",
         "rawType": "object",
         "type": "string"
        }
       ],
       "conversionMethod": "pd.DataFrame",
       "ref": "e32eb5d2-4b84-412b-ab68-512f5ee1e009",
       "rows": [
        [
         "0",
         "f2967c0a-5121-4c46-a4dc-2b7979cfb421",
         null,
         "S9071950Q",
         "Mark",
         "Johnson",
         "mark.johnson@example.net",
         "1990-11-21",
         "M",
         "$2b$12$gf1LfqFawqeRB1xqfYzITulmwjcAhOUdsP09FqZWeKh87LRwNdebG"
        ],
        [
         "1",
         "e5723722-2395-447f-9512-ea0f17fac47f",
         "983a9652-d9a5-4560-a6b8-d7befb3fef45",
         "S8257099H",
         "Kimberly",
         "Garza",
         "kimberly.garza@example.net",
         "1982-02-26",
         "F",
         "$2b$12$ITAS7rMGe475rz.1x53sPe8sxMEYl9xbDh53Q3oZMqM4n9VM.R.uG"
        ],
        [
         "2",
         "fd20c08f-8b5b-4dc0-b110-5e4decd0aea9",
         "f53f8540-5d7b-4dde-b806-b638ae0615f4",
         "S9550684U",
         "Justin",
         "Baldwin",
         "justin.baldwin@example.com",
         "1995-03-22",
         "M",
         "$2b$12$atm0zwhIWEUQgpOq/oIUc.1TGMOogrMAZnvhp/cB7DWkOOPzfl5HW"
        ],
        [
         "3",
         "f5b0dfd9-4a27-49c2-aa6a-c05163bfbeaa",
         "9c84ac40-ac28-4cd7-8fb5-516473c65719",
         "T0478320K",
         "Abigail",
         "Shaffer",
         "abigail.shaffer@example.org",
         "2004-07-13",
         "F",
         "$2b$12$/az9tuFgGPDzR7BkkiPZwO8n1m00CiMsLdnhYEXV45ph1K0wFeSDe"
        ],
        [
         "4",
         "ed5d95e8-0eaf-4101-92da-8149d99b53f5",
         "66648c66-52cd-48f4-8198-cd7d45919430",
         "S9511354W",
         "Gabrielle",
         "Davis",
         "gabrielle.davis@example.com",
         "1995-01-29",
         "F",
         "$2b$12$clgwLm467Hn2N40vlzBegOMQGCITn8jzU7CU0geR.E/iP9MAf0f0y"
        ]
       ],
       "shape": {
        "columns": 9,
        "rows": 5
       }
      },
      "text/html": [
       "<div>\n",
       "<style scoped>\n",
       "    .dataframe tbody tr th:only-of-type {\n",
       "        vertical-align: middle;\n",
       "    }\n",
       "\n",
       "    .dataframe tbody tr th {\n",
       "        vertical-align: top;\n",
       "    }\n",
       "\n",
       "    .dataframe thead th {\n",
       "        text-align: right;\n",
       "    }\n",
       "</style>\n",
       "<table border=\"1\" class=\"dataframe\">\n",
       "  <thead>\n",
       "    <tr style=\"text-align: right;\">\n",
       "      <th></th>\n",
       "      <th>id</th>\n",
       "      <th>enrolled_clinic_id</th>\n",
       "      <th>nric</th>\n",
       "      <th>first_name</th>\n",
       "      <th>last_name</th>\n",
       "      <th>email</th>\n",
       "      <th>date_of_birth</th>\n",
       "      <th>gender</th>\n",
       "      <th>password</th>\n",
       "    </tr>\n",
       "  </thead>\n",
       "  <tbody>\n",
       "    <tr>\n",
       "      <th>0</th>\n",
       "      <td>f2967c0a-5121-4c46-a4dc-2b7979cfb421</td>\n",
       "      <td>None</td>\n",
       "      <td>S9071950Q</td>\n",
       "      <td>Mark</td>\n",
       "      <td>Johnson</td>\n",
       "      <td>mark.johnson@example.net</td>\n",
       "      <td>1990-11-21</td>\n",
       "      <td>M</td>\n",
       "      <td>$2b$12$gf1LfqFawqeRB1xqfYzITulmwjcAhOUdsP09FqZ...</td>\n",
       "    </tr>\n",
       "    <tr>\n",
       "      <th>1</th>\n",
       "      <td>e5723722-2395-447f-9512-ea0f17fac47f</td>\n",
       "      <td>983a9652-d9a5-4560-a6b8-d7befb3fef45</td>\n",
       "      <td>S8257099H</td>\n",
       "      <td>Kimberly</td>\n",
       "      <td>Garza</td>\n",
       "      <td>kimberly.garza@example.net</td>\n",
       "      <td>1982-02-26</td>\n",
       "      <td>F</td>\n",
       "      <td>$2b$12$ITAS7rMGe475rz.1x53sPe8sxMEYl9xbDh53Q3o...</td>\n",
       "    </tr>\n",
       "    <tr>\n",
       "      <th>2</th>\n",
       "      <td>fd20c08f-8b5b-4dc0-b110-5e4decd0aea9</td>\n",
       "      <td>f53f8540-5d7b-4dde-b806-b638ae0615f4</td>\n",
       "      <td>S9550684U</td>\n",
       "      <td>Justin</td>\n",
       "      <td>Baldwin</td>\n",
       "      <td>justin.baldwin@example.com</td>\n",
       "      <td>1995-03-22</td>\n",
       "      <td>M</td>\n",
       "      <td>$2b$12$atm0zwhIWEUQgpOq/oIUc.1TGMOogrMAZnvhp/c...</td>\n",
       "    </tr>\n",
       "    <tr>\n",
       "      <th>3</th>\n",
       "      <td>f5b0dfd9-4a27-49c2-aa6a-c05163bfbeaa</td>\n",
       "      <td>9c84ac40-ac28-4cd7-8fb5-516473c65719</td>\n",
       "      <td>T0478320K</td>\n",
       "      <td>Abigail</td>\n",
       "      <td>Shaffer</td>\n",
       "      <td>abigail.shaffer@example.org</td>\n",
       "      <td>2004-07-13</td>\n",
       "      <td>F</td>\n",
       "      <td>$2b$12$/az9tuFgGPDzR7BkkiPZwO8n1m00CiMsLdnhYEX...</td>\n",
       "    </tr>\n",
       "    <tr>\n",
       "      <th>4</th>\n",
       "      <td>ed5d95e8-0eaf-4101-92da-8149d99b53f5</td>\n",
       "      <td>66648c66-52cd-48f4-8198-cd7d45919430</td>\n",
       "      <td>S9511354W</td>\n",
       "      <td>Gabrielle</td>\n",
       "      <td>Davis</td>\n",
       "      <td>gabrielle.davis@example.com</td>\n",
       "      <td>1995-01-29</td>\n",
       "      <td>F</td>\n",
       "      <td>$2b$12$clgwLm467Hn2N40vlzBegOMQGCITn8jzU7CU0ge...</td>\n",
       "    </tr>\n",
       "  </tbody>\n",
       "</table>\n",
       "</div>"
      ],
      "text/plain": [
       "                                     id                    enrolled_clinic_id  \\\n",
       "0  f2967c0a-5121-4c46-a4dc-2b7979cfb421                                  None   \n",
       "1  e5723722-2395-447f-9512-ea0f17fac47f  983a9652-d9a5-4560-a6b8-d7befb3fef45   \n",
       "2  fd20c08f-8b5b-4dc0-b110-5e4decd0aea9  f53f8540-5d7b-4dde-b806-b638ae0615f4   \n",
       "3  f5b0dfd9-4a27-49c2-aa6a-c05163bfbeaa  9c84ac40-ac28-4cd7-8fb5-516473c65719   \n",
       "4  ed5d95e8-0eaf-4101-92da-8149d99b53f5  66648c66-52cd-48f4-8198-cd7d45919430   \n",
       "\n",
       "        nric first_name last_name                        email date_of_birth  \\\n",
       "0  S9071950Q       Mark   Johnson     mark.johnson@example.net    1990-11-21   \n",
       "1  S8257099H   Kimberly     Garza   kimberly.garza@example.net    1982-02-26   \n",
       "2  S9550684U     Justin   Baldwin   justin.baldwin@example.com    1995-03-22   \n",
       "3  T0478320K    Abigail   Shaffer  abigail.shaffer@example.org    2004-07-13   \n",
       "4  S9511354W  Gabrielle     Davis  gabrielle.davis@example.com    1995-01-29   \n",
       "\n",
       "  gender                                           password  \n",
       "0      M  $2b$12$gf1LfqFawqeRB1xqfYzITulmwjcAhOUdsP09FqZ...  \n",
       "1      F  $2b$12$ITAS7rMGe475rz.1x53sPe8sxMEYl9xbDh53Q3o...  \n",
       "2      M  $2b$12$atm0zwhIWEUQgpOq/oIUc.1TGMOogrMAZnvhp/c...  \n",
       "3      F  $2b$12$/az9tuFgGPDzR7BkkiPZwO8n1m00CiMsLdnhYEX...  \n",
       "4      F  $2b$12$clgwLm467Hn2N40vlzBegOMQGCITn8jzU7CU0ge...  "
      ]
     },
     "metadata": {},
     "output_type": "display_data"
    }
   ],
   "source": [
    "N = 5\n",
    "\n",
    "ids = []\n",
    "enrolled_clinic_ids = []\n",
    "nrics = []\n",
    "first_names = []\n",
    "last_names = []\n",
    "emails = []\n",
    "date_of_births = []\n",
    "genders = []\n",
    "passwords = [\"password123\", \"abc123\", \"123\", \"admin\", \"guest\"]\n",
    "\n",
    "polyclinic_id_list = clinics_df[clinics_df[\"type\"] == \"polyclinic\"][\"id\"].tolist()\n",
    "gp_id_list = clinics_df[clinics_df[\"type\"] == \"gp\"][\"id\"].tolist()\n",
    "\n",
    "for _ in range(N):\n",
    "    # Generate data\n",
    "    gender = np.random.choice([\"M\", \"F\"], p=[0.5, 0.5])\n",
    "    first_name = fake.first_name_male() if gender == \"M\" else fake.first_name_female()\n",
    "    last_name = fake.last_name_male() if gender == \"M\" else fake.last_name_female()\n",
    "    email = (\n",
    "        first_name.lower() + \".\" + last_name.lower() + \"@\" + fake.email().split(\"@\")[1]\n",
    "    )\n",
    "    date_of_birth = fake.date_of_birth(minimum_age=18, maximum_age=80)\n",
    "    nric = generate_nric(date_of_birth)\n",
    "\n",
    "    if np.random.rand() < 0.7:  # 70% chance for polyclinics\n",
    "        enrolled_clinic_id = np.random.choice(polyclinic_id_list)\n",
    "    elif np.random.rand() < 0.2:  # 20% chance for GPs\n",
    "        enrolled_clinic_id = np.random.choice(gp_id_list)\n",
    "    else:  # 10% chance for None\n",
    "        enrolled_clinic_id = None\n",
    "\n",
    "    # Append to list\n",
    "    ids.append(str(uuid.uuid4()))\n",
    "    nrics.append(nric)\n",
    "    first_names.append(first_name)\n",
    "    last_names.append(last_name)\n",
    "    emails.append(email)\n",
    "    date_of_births.append(date_of_birth)\n",
    "    genders.append(gender)\n",
    "    enrolled_clinic_ids.append(enrolled_clinic_id)\n",
    "\n",
    "# Users Table\n",
    "users_data = {\n",
    "    \"id\": ids,\n",
    "    \"enrolled_clinic_id\": enrolled_clinic_ids,\n",
    "    \"nric\": nrics,\n",
    "    \"first_name\": first_names,\n",
    "    \"last_name\": last_names,\n",
    "    \"email\": emails,\n",
    "    \"date_of_birth\": date_of_births,\n",
    "    \"gender\": genders,\n",
    "    \"password\": [hash_password(password) for password in passwords],\n",
    "}\n",
    "\n",
    "users_df = pd.DataFrame(users_data)\n",
    "display(users_df)"
   ]
  },
  {
   "cell_type": "markdown",
   "metadata": {},
   "source": [
    "### Generate `postal_code` for `Users` table\n",
    "\n",
    "The column `postal_code` will be later mapped to its corresponding `address_id`. It is generated first in order to populate the `Addresses` table.\n",
    "\n",
    "To generate the `postal_code` for `Users`, run either of the two cells:\n"
   ]
  },
  {
   "cell_type": "code",
   "execution_count": 12,
   "metadata": {},
   "outputs": [
    {
     "name": "stdout",
     "output_type": "stream",
     "text": [
      "../data/users_postal_codes.txt not found. Generating postal codes...\n",
      "Valid: 359130 (Lat: 1.34529638664758, Lon: 103.869196813411), Address: 30 JALAN LATEH SINGAPORE 359130\n",
      "Valid: 279121 (Lat: 1.31153641997817, Lon: 103.784768446309), Address: 82 GROVE DRIVE HENRY PARK SINGAPORE 279121\n",
      "Valid: 545411 (Lat: 1.3683394040113, Lon: 103.879974433288), Address: 44 PARK VILLAS GREEN PARK VILLAS SINGAPORE 545411\n",
      "Valid: 598309 (Lat: 1.33339215301366, Lon: 103.779092104114), Address: 25 KING ALBERT PARK KING ALBERT PARK SINGAPORE 598309\n",
      "Valid: 229182 (Lat: 1.31149426333879, Lon: 103.843411659057), Address: 1 HOOPER ROAD SINGAPORE 229182\n"
     ]
    }
   ],
   "source": [
    "valid_postal_codes = []\n",
    "checked_codes = set()\n",
    "postal_code_filepath = \"../data/users_postal_codes.txt\"\n",
    "\n",
    "try:\n",
    "    # (1) Try to load postal codes from .txt file\n",
    "    with open(postal_code_filepath, \"r\") as file:\n",
    "        valid_postal_codes = [line.strip() for line in file.readlines()]\n",
    "\n",
    "    # Convert to actual dictionary\n",
    "    valid_postal_codes = [ast.literal_eval(entry) for entry in valid_postal_codes]\n",
    "    print(\"Loaded users' postal codes from txt file\")\n",
    "\n",
    "except FileNotFoundError:\n",
    "    print(f\"{postal_code_filepath} not found. Generating postal codes...\")\n",
    "\n",
    "    # (2) Generate postal codes if .txt file is not found\n",
    "    while len(valid_postal_codes) < N:\n",
    "        random_code = str(\n",
    "            random.randint(100000, 999999)\n",
    "        )  # Generate random 6-digit postal code\n",
    "\n",
    "        if random_code in clinic_postal_code or random_code in checked_codes:\n",
    "            continue  # Skip if already checked or is a clinic postal code\n",
    "\n",
    "        checked_codes.add(random_code)\n",
    "        geoData = get_address_info(random_code)\n",
    "\n",
    "        if geoData:\n",
    "            valid_postal_codes.append(geoData)\n",
    "            print(\n",
    "                f\"Valid: {random_code} (Lat: {geoData['latitude']}, Lon: {geoData['longitude']}), Address: {geoData['address']}\"\n",
    "            )\n",
    "\n",
    "        time.sleep(0.5)  # Sleep to prevent hitting API rate limits\n",
    "\n",
    "    # Write postal codes to a .txt file for faster setup next time\n",
    "    with open(postal_code_filepath, \"w\") as file:\n",
    "        for code in valid_postal_codes:\n",
    "            file.write(f\"{code}\\n\")"
   ]
  },
  {
   "cell_type": "code",
   "execution_count": 13,
   "metadata": {},
   "outputs": [
    {
     "data": {
      "application/vnd.microsoft.datawrangler.viewer.v0+json": {
       "columns": [
        {
         "name": "index",
         "rawType": "int64",
         "type": "integer"
        },
        {
         "name": "id",
         "rawType": "object",
         "type": "string"
        },
        {
         "name": "enrolled_clinic_id",
         "rawType": "object",
         "type": "unknown"
        },
        {
         "name": "nric",
         "rawType": "object",
         "type": "string"
        },
        {
         "name": "first_name",
         "rawType": "object",
         "type": "string"
        },
        {
         "name": "last_name",
         "rawType": "object",
         "type": "string"
        },
        {
         "name": "email",
         "rawType": "object",
         "type": "string"
        },
        {
         "name": "date_of_birth",
         "rawType": "object",
         "type": "unknown"
        },
        {
         "name": "gender",
         "rawType": "object",
         "type": "string"
        },
        {
         "name": "password",
         "rawType": "object",
         "type": "string"
        },
        {
         "name": "postal_code",
         "rawType": "object",
         "type": "string"
        }
       ],
       "conversionMethod": "pd.DataFrame",
       "ref": "19e94c10-14f2-4504-a7c7-eaa7d4646c42",
       "rows": [
        [
         "0",
         "f2967c0a-5121-4c46-a4dc-2b7979cfb421",
         null,
         "S9071950Q",
         "Mark",
         "Johnson",
         "mark.johnson@example.net",
         "1990-11-21",
         "M",
         "$2b$12$gf1LfqFawqeRB1xqfYzITulmwjcAhOUdsP09FqZWeKh87LRwNdebG",
         "359130"
        ],
        [
         "1",
         "e5723722-2395-447f-9512-ea0f17fac47f",
         "983a9652-d9a5-4560-a6b8-d7befb3fef45",
         "S8257099H",
         "Kimberly",
         "Garza",
         "kimberly.garza@example.net",
         "1982-02-26",
         "F",
         "$2b$12$ITAS7rMGe475rz.1x53sPe8sxMEYl9xbDh53Q3oZMqM4n9VM.R.uG",
         "279121"
        ],
        [
         "2",
         "fd20c08f-8b5b-4dc0-b110-5e4decd0aea9",
         "f53f8540-5d7b-4dde-b806-b638ae0615f4",
         "S9550684U",
         "Justin",
         "Baldwin",
         "justin.baldwin@example.com",
         "1995-03-22",
         "M",
         "$2b$12$atm0zwhIWEUQgpOq/oIUc.1TGMOogrMAZnvhp/cB7DWkOOPzfl5HW",
         "545411"
        ],
        [
         "3",
         "f5b0dfd9-4a27-49c2-aa6a-c05163bfbeaa",
         "9c84ac40-ac28-4cd7-8fb5-516473c65719",
         "T0478320K",
         "Abigail",
         "Shaffer",
         "abigail.shaffer@example.org",
         "2004-07-13",
         "F",
         "$2b$12$/az9tuFgGPDzR7BkkiPZwO8n1m00CiMsLdnhYEXV45ph1K0wFeSDe",
         "598309"
        ],
        [
         "4",
         "ed5d95e8-0eaf-4101-92da-8149d99b53f5",
         "66648c66-52cd-48f4-8198-cd7d45919430",
         "S9511354W",
         "Gabrielle",
         "Davis",
         "gabrielle.davis@example.com",
         "1995-01-29",
         "F",
         "$2b$12$clgwLm467Hn2N40vlzBegOMQGCITn8jzU7CU0geR.E/iP9MAf0f0y",
         "229182"
        ]
       ],
       "shape": {
        "columns": 10,
        "rows": 5
       }
      },
      "text/html": [
       "<div>\n",
       "<style scoped>\n",
       "    .dataframe tbody tr th:only-of-type {\n",
       "        vertical-align: middle;\n",
       "    }\n",
       "\n",
       "    .dataframe tbody tr th {\n",
       "        vertical-align: top;\n",
       "    }\n",
       "\n",
       "    .dataframe thead th {\n",
       "        text-align: right;\n",
       "    }\n",
       "</style>\n",
       "<table border=\"1\" class=\"dataframe\">\n",
       "  <thead>\n",
       "    <tr style=\"text-align: right;\">\n",
       "      <th></th>\n",
       "      <th>id</th>\n",
       "      <th>enrolled_clinic_id</th>\n",
       "      <th>nric</th>\n",
       "      <th>first_name</th>\n",
       "      <th>last_name</th>\n",
       "      <th>email</th>\n",
       "      <th>date_of_birth</th>\n",
       "      <th>gender</th>\n",
       "      <th>password</th>\n",
       "      <th>postal_code</th>\n",
       "    </tr>\n",
       "  </thead>\n",
       "  <tbody>\n",
       "    <tr>\n",
       "      <th>0</th>\n",
       "      <td>f2967c0a-5121-4c46-a4dc-2b7979cfb421</td>\n",
       "      <td>None</td>\n",
       "      <td>S9071950Q</td>\n",
       "      <td>Mark</td>\n",
       "      <td>Johnson</td>\n",
       "      <td>mark.johnson@example.net</td>\n",
       "      <td>1990-11-21</td>\n",
       "      <td>M</td>\n",
       "      <td>$2b$12$gf1LfqFawqeRB1xqfYzITulmwjcAhOUdsP09FqZ...</td>\n",
       "      <td>359130</td>\n",
       "    </tr>\n",
       "    <tr>\n",
       "      <th>1</th>\n",
       "      <td>e5723722-2395-447f-9512-ea0f17fac47f</td>\n",
       "      <td>983a9652-d9a5-4560-a6b8-d7befb3fef45</td>\n",
       "      <td>S8257099H</td>\n",
       "      <td>Kimberly</td>\n",
       "      <td>Garza</td>\n",
       "      <td>kimberly.garza@example.net</td>\n",
       "      <td>1982-02-26</td>\n",
       "      <td>F</td>\n",
       "      <td>$2b$12$ITAS7rMGe475rz.1x53sPe8sxMEYl9xbDh53Q3o...</td>\n",
       "      <td>279121</td>\n",
       "    </tr>\n",
       "    <tr>\n",
       "      <th>2</th>\n",
       "      <td>fd20c08f-8b5b-4dc0-b110-5e4decd0aea9</td>\n",
       "      <td>f53f8540-5d7b-4dde-b806-b638ae0615f4</td>\n",
       "      <td>S9550684U</td>\n",
       "      <td>Justin</td>\n",
       "      <td>Baldwin</td>\n",
       "      <td>justin.baldwin@example.com</td>\n",
       "      <td>1995-03-22</td>\n",
       "      <td>M</td>\n",
       "      <td>$2b$12$atm0zwhIWEUQgpOq/oIUc.1TGMOogrMAZnvhp/c...</td>\n",
       "      <td>545411</td>\n",
       "    </tr>\n",
       "    <tr>\n",
       "      <th>3</th>\n",
       "      <td>f5b0dfd9-4a27-49c2-aa6a-c05163bfbeaa</td>\n",
       "      <td>9c84ac40-ac28-4cd7-8fb5-516473c65719</td>\n",
       "      <td>T0478320K</td>\n",
       "      <td>Abigail</td>\n",
       "      <td>Shaffer</td>\n",
       "      <td>abigail.shaffer@example.org</td>\n",
       "      <td>2004-07-13</td>\n",
       "      <td>F</td>\n",
       "      <td>$2b$12$/az9tuFgGPDzR7BkkiPZwO8n1m00CiMsLdnhYEX...</td>\n",
       "      <td>598309</td>\n",
       "    </tr>\n",
       "    <tr>\n",
       "      <th>4</th>\n",
       "      <td>ed5d95e8-0eaf-4101-92da-8149d99b53f5</td>\n",
       "      <td>66648c66-52cd-48f4-8198-cd7d45919430</td>\n",
       "      <td>S9511354W</td>\n",
       "      <td>Gabrielle</td>\n",
       "      <td>Davis</td>\n",
       "      <td>gabrielle.davis@example.com</td>\n",
       "      <td>1995-01-29</td>\n",
       "      <td>F</td>\n",
       "      <td>$2b$12$clgwLm467Hn2N40vlzBegOMQGCITn8jzU7CU0ge...</td>\n",
       "      <td>229182</td>\n",
       "    </tr>\n",
       "  </tbody>\n",
       "</table>\n",
       "</div>"
      ],
      "text/plain": [
       "                                     id                    enrolled_clinic_id  \\\n",
       "0  f2967c0a-5121-4c46-a4dc-2b7979cfb421                                  None   \n",
       "1  e5723722-2395-447f-9512-ea0f17fac47f  983a9652-d9a5-4560-a6b8-d7befb3fef45   \n",
       "2  fd20c08f-8b5b-4dc0-b110-5e4decd0aea9  f53f8540-5d7b-4dde-b806-b638ae0615f4   \n",
       "3  f5b0dfd9-4a27-49c2-aa6a-c05163bfbeaa  9c84ac40-ac28-4cd7-8fb5-516473c65719   \n",
       "4  ed5d95e8-0eaf-4101-92da-8149d99b53f5  66648c66-52cd-48f4-8198-cd7d45919430   \n",
       "\n",
       "        nric first_name last_name                        email date_of_birth  \\\n",
       "0  S9071950Q       Mark   Johnson     mark.johnson@example.net    1990-11-21   \n",
       "1  S8257099H   Kimberly     Garza   kimberly.garza@example.net    1982-02-26   \n",
       "2  S9550684U     Justin   Baldwin   justin.baldwin@example.com    1995-03-22   \n",
       "3  T0478320K    Abigail   Shaffer  abigail.shaffer@example.org    2004-07-13   \n",
       "4  S9511354W  Gabrielle     Davis  gabrielle.davis@example.com    1995-01-29   \n",
       "\n",
       "  gender                                           password postal_code  \n",
       "0      M  $2b$12$gf1LfqFawqeRB1xqfYzITulmwjcAhOUdsP09FqZ...      359130  \n",
       "1      F  $2b$12$ITAS7rMGe475rz.1x53sPe8sxMEYl9xbDh53Q3o...      279121  \n",
       "2      M  $2b$12$atm0zwhIWEUQgpOq/oIUc.1TGMOogrMAZnvhp/c...      545411  \n",
       "3      F  $2b$12$/az9tuFgGPDzR7BkkiPZwO8n1m00CiMsLdnhYEX...      598309  \n",
       "4      F  $2b$12$clgwLm467Hn2N40vlzBegOMQGCITn8jzU7CU0ge...      229182  "
      ]
     },
     "metadata": {},
     "output_type": "display_data"
    }
   ],
   "source": [
    "# List of generated postal codes\n",
    "users_postal_codes = [entry[\"postal_code\"] for entry in valid_postal_codes][:N]\n",
    "users_df[\"postal_code\"] = users_postal_codes\n",
    "\n",
    "display(users_df)"
   ]
  },
  {
   "cell_type": "markdown",
   "metadata": {},
   "source": [
    "<hr>\n",
    "\n",
    "## Addresses Table\n"
   ]
  },
  {
   "cell_type": "code",
   "execution_count": null,
   "metadata": {},
   "outputs": [
    {
     "name": "stdout",
     "output_type": "stream",
     "text": [
      "../data/addresses_data.json not found. Generating addresses_data...\n"
     ]
    },
    {
     "data": {
      "application/vnd.microsoft.datawrangler.viewer.v0+json": {
       "columns": [
        {
         "name": "index",
         "rawType": "int64",
         "type": "integer"
        },
        {
         "name": "id",
         "rawType": "object",
         "type": "string"
        },
        {
         "name": "postal_code",
         "rawType": "object",
         "type": "string"
        },
        {
         "name": "address",
         "rawType": "object",
         "type": "string"
        },
        {
         "name": "latitude",
         "rawType": "object",
         "type": "string"
        },
        {
         "name": "longitude",
         "rawType": "object",
         "type": "string"
        }
       ],
       "conversionMethod": "pd.DataFrame",
       "ref": "430d6e77-e0ab-47bb-9ac1-e44155ca025e",
       "rows": [
        [
         "0",
         "fa03e01a-219b-4ed1-91e6-14238e533df0",
         "569666",
         "21 ANG MO KIO CENTRAL 2 ANG MO KIO POLYCLINIC SINGAPORE 569666",
         "1.3743245905856",
         "103.845677779279"
        ],
        [
         "1",
         "73532a10-1eff-4b9c-a36b-d5f7523bf760",
         "389707",
         "21 GEYLANG EAST CENTRAL GEYLANG POLYCLINIC SINGAPORE 389707",
         "1.31949365581957",
         "103.887166041622"
        ],
        [
         "2",
         "77ac2094-04eb-483e-927d-076602cde3b7",
         "538829",
         "89 HOUGANG AVENUE 4 HOUGANG POLYCLINIC SINGAPORE 538829",
         "1.3699068381066",
         "103.88900146446"
        ],
        [
         "3",
         "bffe5d37-8def-4b9b-80e3-10e30a6734f8",
         "328263",
         "701 SERANGOON ROAD KALLANG POLYCLINIC AND LONG TERM CARE SINGAPORE 328263",
         "1.31678496747374",
         "103.858752270079"
        ],
        [
         "4",
         "02931488-c56f-4c2f-8695-af6d7c28e1ba",
         "769567",
         "690 YISHUN RING ROAD KHATIB POLYCLINIC SINGAPORE 769567",
         "1.41820402220914",
         "103.834428037791"
        ],
        [
         "5",
         "07a315b4-e6d8-4ef3-a73b-084785a037d8",
         "319260",
         "2003 LORONG 8 TOA PAYOH NATIONAL HEALTHCARE GROUP POLYCLINICS (TOA PAYOH POLYCLINIC) SINGAPORE 319260",
         "1.33449729734044",
         "103.858989057136"
        ],
        [
         "6",
         "ee651721-1763-4e3f-82f0-283fc3054de4",
         "756973",
         "21 CANBERRA LINK BUKIT CANBERRA SINGAPORE 756973",
         "1.44826336410158",
         "103.82276363189"
        ],
        [
         "7",
         "a09c4e3f-e63e-4f52-823e-1f958c3115aa",
         "738579",
         "10 WOODLANDS STREET 31 NATIONAL HEALTHCARE GROUP POLYCLINICS (WOODLANDS POLYCLINIC) SINGAPORE 738579",
         "1.43089322828279",
         "103.775212914803"
        ],
        [
         "8",
         "86207ba7-0fef-48d2-930f-4d84ad3d3e9b",
         "768898",
         "2 YISHUN AVENUE 9 NATIONAL HEALTHCARE GROUP POLYCLINICS (YISHUN POLYCLINIC) SINGAPORE 768898",
         "1.43035851992416",
         "103.839190698939"
        ],
        [
         "9",
         "0d0c9ebc-081e-4df8-b406-65a8134b45f6",
         "659164",
         "50 BUKIT BATOK WEST AVENUE 3 BUKIT BATOK POLYCLINIC SINGAPORE 659164",
         "1.35201517590477",
         "103.747822265461"
        ],
        [
         "10",
         "9e9c38be-d1fa-4e49-9517-07bf3c5a0e9d",
         "609788",
         "190 JURONG EAST AVENUE 1 JURONG POLYCLINIC SINGAPORE 609788",
         "1.34971979663763",
         "103.730717863166"
        ],
        [
         "11",
         "5b36d1f0-093b-416c-9624-cc171de1b429",
         "648201",
         "26 JURONG WEST STREET 61 NATIONAL UNIVERSITY POLYCLINICS (PIONEER POLYCLINIC) SINGAPORE 648201",
         "1.33856179501564",
         "103.699014641414"
        ],
        [
         "12",
         "abf6cbe0-f002-49ed-b8b5-3ecb41767702",
         "688846",
         "2 TECK WHYE CRESCENT CHOA CHU KANG POLYCLINIC SINGAPORE 688846",
         "1.38234139419018",
         "103.750776869899"
        ],
        [
         "13",
         "26520a54-3103-4e87-bc0e-c4ed35389a41",
         "120451",
         "451 CLEMENTI AVENUE 3 CLEMENTI POLYCLINIC SINGAPORE 120451",
         "1.31248109025097",
         "103.765476495005"
        ],
        [
         "14",
         "f91836a8-8179-4596-90af-9ea4f96e2f5f",
         "148958",
         "580 STIRLING ROAD NATIONAL UNIVERSITY POLYCLINICS (QUEENSTOWN POLYCLINIC) SINGAPORE 148958",
         "1.29847547391978",
         "103.800957796297"
        ],
        [
         "15",
         "95eb88e2-47e6-4a20-8581-a73ec3f2e5cd",
         "677726",
         "50 WOODLANDS ROAD SINGAPORE 677726",
         "1.38271254101906",
         "103.760166444878"
        ],
        [
         "16",
         "bfb3b49b-cb7e-4bad-a92d-14f4ea385c66",
         "469662",
         "11 BEDOK NORTH STREET 1 BEDOK PUBLIC LIBRARY SINGAPORE 469662",
         "1.32662388643563",
         "103.931806159881"
        ],
        [
         "17",
         "1da8eefe-99b1-47f7-8fac-44ffb83b1e28",
         "150163",
         "163 BUKIT MERAH CENTRAL SINGAPORE 150163",
         "1.28388120820457",
         "103.816939544137"
        ],
        [
         "18",
         "a4b60f97-7eeb-4cba-9019-55f816c77189",
         "440080",
         "80 MARINE PARADE CENTRAL MARINE PARADE PROMENADE SINGAPORE 440080",
         "1.30248202632175",
         "103.9077387936"
        ],
        [
         "19",
         "601e3e81-f651-4ba4-ac46-88d22de9db59",
         "168937",
         "3 SECOND HOSPITAL AVENUE HEALTH PROMOTION BOARD SINGAPORE 168937",
         "1.27960538581892",
         "103.838346361748"
        ],
        [
         "20",
         "6466eafc-030f-4a48-815b-0dd9b2267b18",
         "519466",
         "6 PASIR RIS DRIVE 8 PASIR RIS POLYCLINIC SINGAPORE 519466",
         "1.37350295229758",
         "103.948184929877"
        ],
        [
         "21",
         "7b8c6306-5935-484d-b0f8-91fdff9587d3",
         "545025",
         "2 SENGKANG SQUARE NEIGHBOURHOOD POLICE CENTRE SENGKANG SINGAPORE 545025",
         "1.3927855958876",
         "103.893906098217"
        ],
        [
         "22",
         "53b58ed8-484d-4184-9480-df25bfe1a57e",
         "529203",
         "1 TAMPINES STREET 41 SINGHEALTH POLYCLINICS (TAMPINES POLYCLINIC) SINGAPORE 529203",
         "1.35730113647076",
         "103.945905475983"
        ],
        [
         "23",
         "fa8ab892-4672-4a0a-aca6-b3cdda2f7c92",
         "820681",
         "681 PUNGGOL DRIVE OASIS TERRACES SINGAPORE 820681",
         "1.40278015725693",
         "103.913215101343"
        ],
        [
         "24",
         "59e0cbc2-e12b-4d8b-8010-57dc0d43b6ba",
         "429400",
         "1 CHIN CHENG AVENUE EUNOS POLYCLINIC SINGAPORE 429400",
         "1.31733758533419",
         "103.905777145209"
        ],
        [
         "25",
         "707f89b0-1fca-4845-8473-b2c10b82acc6",
         "528566",
         "35 TAMPINES STREET 61 SINGHEALTH POLYCLINICS (TAMPINES NORTH POLYCLINIC) SINGAPORE 528566",
         "1.36331106894948",
         "103.937556313682"
        ],
        [
         "26",
         "d5f0fa18-08a2-4851-9d68-c2bf2375cb0d",
         "269695",
         "559 BUKIT TIMAH ROAD ADAM ROAD MEDICAL CENTRE SINGAPORE 269695",
         "1.32313886050371",
         "103.810676161487"
        ],
        [
         "27",
         "bbba21e6-f671-48b7-a043-76dc7ceb4a98",
         "140158",
         "158 MEI LING STREET MEILING HEIGHTS SINGAPORE 140158",
         "1.29274038365689",
         "103.802806668414"
        ],
        [
         "28",
         "8756cbe3-7c5f-4ec9-a587-3f4a606af01f",
         "541182",
         "182A RIVERVALE CRESCENT RIVERVALE ARC SINGAPORE 541182",
         "1.39045272942314",
         "103.908892267885"
        ],
        [
         "29",
         "edb7a489-e296-4543-96f9-fc3f78572615",
         "560407",
         "407 ANG MO KIO AVENUE 10 TECK GHEE SQUARE SINGAPORE 560407",
         "1.36191347195214",
         "103.855247666901"
        ],
        [
         "30",
         "c9763d22-174d-41a9-8be0-aff8acb8f439",
         "079027",
         "100 TRAS STREET 100 AM SINGAPORE 079027",
         "1.27458821795426",
         "103.84347073661"
        ],
        [
         "31",
         "91d557ef-9c75-4d89-b2fb-f7fcce5ee06a",
         "534733",
         "988 UPPER SERANGOON ROAD STARS OF KOVAN SINGAPORE 534733",
         "1.36147765901135",
         "103.887207500102"
        ],
        [
         "32",
         "4dcdda12-f9a7-4318-b77e-1550c4198f1d",
         "760172",
         "172 YISHUN AVENUE 7 SINGAPORE 760172",
         "1.43660111000642",
         "103.83109095206"
        ],
        [
         "33",
         "c6a93bf0-9d28-426b-b0db-cf824a0e1c55",
         "530205",
         "205 HOUGANG STREET 21 HEARTLAND MALL-KOVAN SINGAPORE 530205",
         "1.35954177325561",
         "103.885167372726"
        ],
        [
         "34",
         "ddccbf67-cef6-4d9a-924c-4d6613cdca98",
         "760101",
         "101 YISHUN AVENUE 5 CHONG PANG CITY SINGAPORE 760101",
         "1.4305357538408",
         "103.827667722074"
        ],
        [
         "35",
         "1ca8ab4a-a52d-473a-a781-672821a6fa64",
         "534869",
         "187 UPPER PAYA LEBAR ROAD SINGAPORE 534869",
         "1.34010826990085",
         "103.885032592997"
        ],
        [
         "36",
         "5975f4da-1c66-42f6-a619-e9d411451875",
         "677743",
         "1 JELEBU ROAD BUKIT PANJANG PLAZA SINGAPORE 677743",
         "1.37992045176243",
         "103.764357180314"
        ],
        [
         "37",
         "5f910285-240d-45f8-af8e-a9acc71d6d21",
         "530681",
         "681 HOUGANG AVENUE 8 SINGAPORE 530681",
         "1.37297840284804",
         "103.88567915953"
        ],
        [
         "38",
         "3d234ad6-ec07-49e1-a1a6-4e388f5387b7",
         "140171",
         "171 STIRLING ROAD STIRLING VIEW SINGAPORE 140171",
         "1.29073246202285",
         "103.803846934678"
        ],
        [
         "39",
         "b5ca76a4-f960-4529-abbd-806a4f928c0f",
         "760627",
         "627 YISHUN STREET 61 SINGAPORE 760627",
         "1.41770409927839",
         "103.837005089412"
        ],
        [
         "40",
         "323c578d-b27e-4ce6-8a62-cb6a6c2262c5",
         "545078",
         "1 SENGKANG SQUARE COMPASS ONE SINGAPORE 545078",
         "1.39205314156706",
         "103.89507054384"
        ],
        [
         "41",
         "10eb6d1f-674e-487b-86ea-807ca7c3dc7a",
         "520462",
         "462 TAMPINES STREET 44 SINGAPORE 520462",
         "1.35901318117916",
         "103.955111125309"
        ],
        [
         "42",
         "72c44b47-c70e-42ff-83c6-5fb4212d6b13",
         "120446",
         "446 CLEMENTI AVENUE 3 SINGAPORE 120446",
         "1.31251305732378",
         "103.764927758669"
        ],
        [
         "43",
         "61576a76-96fe-45ae-ae47-cc98c005fe30",
         "520484",
         "484 TAMPINES STREET 43 SINGAPORE 520484",
         "1.36189785863171",
         "103.952639447182"
        ],
        [
         "44",
         "f5308082-4f00-46ca-b904-26702b61dac8",
         "431008",
         "8 JALAN BATU DI TANJONG RHU SINGAPORE 431008",
         "1.30263933968389",
         "103.883179671688"
        ],
        [
         "45",
         "1926504b-9803-497b-820a-963ba7e685a5",
         "680475",
         "475 CHOA CHU KANG AVENUE 3 KINDERLAND KINDERGARTEN (CHOA CHU KANG) SINGAPORE 680475",
         "1.37805614752086",
         "103.738931794069"
        ],
        [
         "46",
         "d10465d7-674d-4126-b84a-e523fb83ae69",
         "307506",
         "10 SINARAN DRIVE NOVENA MEDICAL CENTRE SINGAPORE 307506",
         "1.32044103104797",
         "103.844192628979"
        ],
        [
         "47",
         "45d04b44-64ce-4fa9-b6c1-0a43b6523c50",
         "039596",
         "9 RAFFLES BOULEVARD MILLENIA WALK SINGAPORE 039596",
         "1.29260544462492",
         "103.859724944443"
        ],
        [
         "48",
         "2320fb26-6953-4eaf-8ceb-24175214a25a",
         "322116",
         "116B JALAN TENTERAM TENTERAM PEAK SINGAPORE 322116",
         "1.32754908001444",
         "103.860807411661"
        ],
        [
         "49",
         "589dbe96-3fb9-4c16-abbc-a20a2c078db4",
         "329563",
         "38 IRRAWADDY ROAD 24-HOUR WALK-IN CLINIC (MOUNT ELIZABETH NOVENA HOSPITAL) SINGAPORE 329563",
         "1.32210979381602",
         "103.844317495607"
        ]
       ],
       "shape": {
        "columns": 5,
        "rows": 1101
       }
      },
      "text/html": [
       "<div>\n",
       "<style scoped>\n",
       "    .dataframe tbody tr th:only-of-type {\n",
       "        vertical-align: middle;\n",
       "    }\n",
       "\n",
       "    .dataframe tbody tr th {\n",
       "        vertical-align: top;\n",
       "    }\n",
       "\n",
       "    .dataframe thead th {\n",
       "        text-align: right;\n",
       "    }\n",
       "</style>\n",
       "<table border=\"1\" class=\"dataframe\">\n",
       "  <thead>\n",
       "    <tr style=\"text-align: right;\">\n",
       "      <th></th>\n",
       "      <th>id</th>\n",
       "      <th>postal_code</th>\n",
       "      <th>address</th>\n",
       "      <th>latitude</th>\n",
       "      <th>longitude</th>\n",
       "    </tr>\n",
       "  </thead>\n",
       "  <tbody>\n",
       "    <tr>\n",
       "      <th>0</th>\n",
       "      <td>fa03e01a-219b-4ed1-91e6-14238e533df0</td>\n",
       "      <td>569666</td>\n",
       "      <td>21 ANG MO KIO CENTRAL 2 ANG MO KIO POLYCLINIC ...</td>\n",
       "      <td>1.3743245905856</td>\n",
       "      <td>103.845677779279</td>\n",
       "    </tr>\n",
       "    <tr>\n",
       "      <th>1</th>\n",
       "      <td>73532a10-1eff-4b9c-a36b-d5f7523bf760</td>\n",
       "      <td>389707</td>\n",
       "      <td>21 GEYLANG EAST CENTRAL GEYLANG POLYCLINIC SIN...</td>\n",
       "      <td>1.31949365581957</td>\n",
       "      <td>103.887166041622</td>\n",
       "    </tr>\n",
       "    <tr>\n",
       "      <th>2</th>\n",
       "      <td>77ac2094-04eb-483e-927d-076602cde3b7</td>\n",
       "      <td>538829</td>\n",
       "      <td>89 HOUGANG AVENUE 4 HOUGANG POLYCLINIC SINGAPO...</td>\n",
       "      <td>1.3699068381066</td>\n",
       "      <td>103.88900146446</td>\n",
       "    </tr>\n",
       "    <tr>\n",
       "      <th>3</th>\n",
       "      <td>bffe5d37-8def-4b9b-80e3-10e30a6734f8</td>\n",
       "      <td>328263</td>\n",
       "      <td>701 SERANGOON ROAD KALLANG POLYCLINIC AND LONG...</td>\n",
       "      <td>1.31678496747374</td>\n",
       "      <td>103.858752270079</td>\n",
       "    </tr>\n",
       "    <tr>\n",
       "      <th>4</th>\n",
       "      <td>02931488-c56f-4c2f-8695-af6d7c28e1ba</td>\n",
       "      <td>769567</td>\n",
       "      <td>690 YISHUN RING ROAD KHATIB POLYCLINIC SINGAPO...</td>\n",
       "      <td>1.41820402220914</td>\n",
       "      <td>103.834428037791</td>\n",
       "    </tr>\n",
       "    <tr>\n",
       "      <th>...</th>\n",
       "      <td>...</td>\n",
       "      <td>...</td>\n",
       "      <td>...</td>\n",
       "      <td>...</td>\n",
       "      <td>...</td>\n",
       "    </tr>\n",
       "    <tr>\n",
       "      <th>1096</th>\n",
       "      <td>918a15ec-2333-4ed3-a4b7-39a66cc92ffa</td>\n",
       "      <td>359130</td>\n",
       "      <td>30 JALAN LATEH SINGAPORE 359130</td>\n",
       "      <td>1.34529638664758</td>\n",
       "      <td>103.869196813411</td>\n",
       "    </tr>\n",
       "    <tr>\n",
       "      <th>1097</th>\n",
       "      <td>797a0d10-0e78-4426-856c-0823a957a090</td>\n",
       "      <td>279121</td>\n",
       "      <td>82 GROVE DRIVE HENRY PARK SINGAPORE 279121</td>\n",
       "      <td>1.31153641997817</td>\n",
       "      <td>103.784768446309</td>\n",
       "    </tr>\n",
       "    <tr>\n",
       "      <th>1098</th>\n",
       "      <td>44851715-59cb-4ee3-81c3-11ced10d5fdc</td>\n",
       "      <td>545411</td>\n",
       "      <td>44 PARK VILLAS GREEN PARK VILLAS SINGAPORE 545411</td>\n",
       "      <td>1.3683394040113</td>\n",
       "      <td>103.879974433288</td>\n",
       "    </tr>\n",
       "    <tr>\n",
       "      <th>1099</th>\n",
       "      <td>7b9479b8-4384-48d1-b6d6-8e2d1ee2545b</td>\n",
       "      <td>598309</td>\n",
       "      <td>25 KING ALBERT PARK KING ALBERT PARK SINGAPORE...</td>\n",
       "      <td>1.33339215301366</td>\n",
       "      <td>103.779092104114</td>\n",
       "    </tr>\n",
       "    <tr>\n",
       "      <th>1100</th>\n",
       "      <td>172f4d51-5c70-4f32-8633-87aaf0eb4847</td>\n",
       "      <td>229182</td>\n",
       "      <td>1 HOOPER ROAD SINGAPORE 229182</td>\n",
       "      <td>1.31149426333879</td>\n",
       "      <td>103.843411659057</td>\n",
       "    </tr>\n",
       "  </tbody>\n",
       "</table>\n",
       "<p>1101 rows × 5 columns</p>\n",
       "</div>"
      ],
      "text/plain": [
       "                                        id postal_code  \\\n",
       "0     fa03e01a-219b-4ed1-91e6-14238e533df0      569666   \n",
       "1     73532a10-1eff-4b9c-a36b-d5f7523bf760      389707   \n",
       "2     77ac2094-04eb-483e-927d-076602cde3b7      538829   \n",
       "3     bffe5d37-8def-4b9b-80e3-10e30a6734f8      328263   \n",
       "4     02931488-c56f-4c2f-8695-af6d7c28e1ba      769567   \n",
       "...                                    ...         ...   \n",
       "1096  918a15ec-2333-4ed3-a4b7-39a66cc92ffa      359130   \n",
       "1097  797a0d10-0e78-4426-856c-0823a957a090      279121   \n",
       "1098  44851715-59cb-4ee3-81c3-11ced10d5fdc      545411   \n",
       "1099  7b9479b8-4384-48d1-b6d6-8e2d1ee2545b      598309   \n",
       "1100  172f4d51-5c70-4f32-8633-87aaf0eb4847      229182   \n",
       "\n",
       "                                                address          latitude  \\\n",
       "0     21 ANG MO KIO CENTRAL 2 ANG MO KIO POLYCLINIC ...   1.3743245905856   \n",
       "1     21 GEYLANG EAST CENTRAL GEYLANG POLYCLINIC SIN...  1.31949365581957   \n",
       "2     89 HOUGANG AVENUE 4 HOUGANG POLYCLINIC SINGAPO...   1.3699068381066   \n",
       "3     701 SERANGOON ROAD KALLANG POLYCLINIC AND LONG...  1.31678496747374   \n",
       "4     690 YISHUN RING ROAD KHATIB POLYCLINIC SINGAPO...  1.41820402220914   \n",
       "...                                                 ...               ...   \n",
       "1096                    30 JALAN LATEH SINGAPORE 359130  1.34529638664758   \n",
       "1097         82 GROVE DRIVE HENRY PARK SINGAPORE 279121  1.31153641997817   \n",
       "1098  44 PARK VILLAS GREEN PARK VILLAS SINGAPORE 545411   1.3683394040113   \n",
       "1099  25 KING ALBERT PARK KING ALBERT PARK SINGAPORE...  1.33339215301366   \n",
       "1100                     1 HOOPER ROAD SINGAPORE 229182  1.31149426333879   \n",
       "\n",
       "             longitude  \n",
       "0     103.845677779279  \n",
       "1     103.887166041622  \n",
       "2      103.88900146446  \n",
       "3     103.858752270079  \n",
       "4     103.834428037791  \n",
       "...                ...  \n",
       "1096  103.869196813411  \n",
       "1097  103.784768446309  \n",
       "1098  103.879974433288  \n",
       "1099  103.779092104114  \n",
       "1100  103.843411659057  \n",
       "\n",
       "[1101 rows x 5 columns]"
      ]
     },
     "metadata": {},
     "output_type": "display_data"
    }
   ],
   "source": [
    "# List all unique postal codes\n",
    "# 5 (users) + 26 (polyclinics) + 1074 (gps) = 1105 postal_codes (expected) - 4 (duplicates) = 1101 postal_codes\n",
    "all_postal_code = list(dict.fromkeys(clinic_postal_code + users_postal_codes))\n",
    "\n",
    "address_data_filepath = \"../data/addresses_data.json\"\n",
    "try:\n",
    "    # (1) Try to load address data from JSON file\n",
    "    with open(address_data_filepath, \"r\") as file:\n",
    "        addresses_data = [json.loads(line) for line in file]\n",
    "    print(\"Loaded addresses_data from JSON file\")\n",
    "except FileNotFoundError:\n",
    "    print(f\"{address_data_filepath} not found. Generating addresses_data...\")\n",
    "    # (2) Get the geo data from OneMap API, runtime: ~2mins\n",
    "    addresses_data = [get_address_info(postal_code) for postal_code in all_postal_code]\n",
    "    # Save data as JSON lines to preserve the structure\n",
    "    with open(address_data_filepath, \"w\") as file:\n",
    "        for entry in addresses_data:\n",
    "            file.write(json.dumps(entry) + \"\\n\")  # Each line is a JSON object\n",
    "\n",
    "addresses_df = pd.DataFrame(addresses_data)\n",
    "\n",
    "# Create 'id` column`\n",
    "addresses_df[\"id\"] = [str(uuid.uuid4()) for _ in range(1, len(addresses_df) + 1)]\n",
    "# Insert 'id' as the first column\n",
    "addresses_df.insert(0, \"id\", addresses_df.pop(\"id\"))\n",
    "\n",
    "display(addresses_df)"
   ]
  },
  {
   "cell_type": "markdown",
   "metadata": {},
   "source": [
    "<hr>\n",
    "\n",
    "## Replace `postal_code` column with `address_id` in `Clinics` and `Users` tables\n"
   ]
  },
  {
   "cell_type": "code",
   "execution_count": 15,
   "metadata": {},
   "outputs": [
    {
     "data": {
      "application/vnd.microsoft.datawrangler.viewer.v0+json": {
       "columns": [
        {
         "name": "index",
         "rawType": "int64",
         "type": "integer"
        },
        {
         "name": "id",
         "rawType": "object",
         "type": "string"
        },
        {
         "name": "address_id",
         "rawType": "object",
         "type": "string"
        },
        {
         "name": "name",
         "rawType": "object",
         "type": "string"
        },
        {
         "name": "type",
         "rawType": "object",
         "type": "string"
        }
       ],
       "conversionMethod": "pd.DataFrame",
       "ref": "33edc91e-e2c0-4201-9800-21de6c8fc6c9",
       "rows": [
        [
         "0",
         "1d2e196d-af66-48f1-8f2c-0e23ad0ecde3",
         "fa03e01a-219b-4ed1-91e6-14238e533df0",
         "Ang Mo Kio Polyclinic",
         "polyclinic"
        ],
        [
         "1",
         "859fe92f-9c4b-4f3d-beda-b6c96e67887f",
         "73532a10-1eff-4b9c-a36b-d5f7523bf760",
         "Geylang Polyclinic",
         "polyclinic"
        ],
        [
         "2",
         "76da5477-df98-49d2-99d5-ba6d3900c3b7",
         "77ac2094-04eb-483e-927d-076602cde3b7",
         "Hougang Polyclinic",
         "polyclinic"
        ],
        [
         "3",
         "1489b9d7-5c8b-4df8-a614-70e76eb35722",
         "bffe5d37-8def-4b9b-80e3-10e30a6734f8",
         "Kallang Polyclinic",
         "polyclinic"
        ],
        [
         "4",
         "84b1aa83-156c-4eca-a9bf-ddc72424de1a",
         "02931488-c56f-4c2f-8695-af6d7c28e1ba",
         "Khatib Polyclinic",
         "polyclinic"
        ],
        [
         "5",
         "60efd679-a6e9-44c7-b395-8fb05a64714a",
         "07a315b4-e6d8-4ef3-a73b-084785a037d8",
         "Toa Payoh Polyclinic",
         "polyclinic"
        ],
        [
         "6",
         "409faaa8-c905-417a-b600-49f40e7e6ce3",
         "ee651721-1763-4e3f-82f0-283fc3054de4",
         "Sembawang Polyclinic",
         "polyclinic"
        ],
        [
         "7",
         "c8ee8f2b-8e04-4ddc-a1c7-d3277b547559",
         "a09c4e3f-e63e-4f52-823e-1f958c3115aa",
         "Woodlands Polyclinic",
         "polyclinic"
        ],
        [
         "8",
         "62413894-630f-4432-bb14-62ffe6179a4e",
         "86207ba7-0fef-48d2-930f-4d84ad3d3e9b",
         "Yishun Polyclinic",
         "polyclinic"
        ],
        [
         "9",
         "65db34ad-4767-4e5d-a6a8-9cc6d7077c0f",
         "0d0c9ebc-081e-4df8-b406-65a8134b45f6",
         "Bukit Batok Polyclinic",
         "polyclinic"
        ],
        [
         "10",
         "14398891-c7a3-4425-9d6d-63a5c8cc4ac8",
         "9e9c38be-d1fa-4e49-9517-07bf3c5a0e9d",
         "Jurong Polyclinic",
         "polyclinic"
        ],
        [
         "11",
         "4de9e253-08ac-445f-95a6-3d086068c49c",
         "5b36d1f0-093b-416c-9624-cc171de1b429",
         "Pioneer Polyclinic",
         "polyclinic"
        ],
        [
         "12",
         "9e1c435c-49fb-4d43-94d3-8f6b1c3ef061",
         "abf6cbe0-f002-49ed-b8b5-3ecb41767702",
         "Choa Chu Kang Polyclinic",
         "polyclinic"
        ],
        [
         "13",
         "015991c6-8565-4f5b-a162-abb083bf6d58",
         "26520a54-3103-4e87-bc0e-c4ed35389a41",
         "Clementi Polyclinic",
         "polyclinic"
        ],
        [
         "14",
         "444e79e5-ad10-4240-9ec7-47cb5c24ee2a",
         "f91836a8-8179-4596-90af-9ea4f96e2f5f",
         "Queenstown Polyclinic",
         "polyclinic"
        ],
        [
         "15",
         "dc22922d-7a1a-4abb-9f23-d8d685bf555c",
         "95eb88e2-47e6-4a20-8581-a73ec3f2e5cd",
         "Bukit Panjang Polyclinic",
         "polyclinic"
        ],
        [
         "16",
         "2017474b-c611-42a9-be8c-3fa14457f8b6",
         "bfb3b49b-cb7e-4bad-a92d-14f4ea385c66",
         "Bedok Polyclinic",
         "polyclinic"
        ],
        [
         "17",
         "d4f04b05-e5f6-4945-84ce-e1b22b8ebaf4",
         "1da8eefe-99b1-47f7-8fac-44ffb83b1e28",
         "Bukit Merah Polyclinic",
         "polyclinic"
        ],
        [
         "18",
         "983a9652-d9a5-4560-a6b8-d7befb3fef45",
         "a4b60f97-7eeb-4cba-9019-55f816c77189",
         "Marine Parade Polyclinic",
         "polyclinic"
        ],
        [
         "19",
         "8ed31a4c-a932-4634-b25f-113513f20ec4",
         "601e3e81-f651-4ba4-ac46-88d22de9db59",
         "Outram Polyclinic",
         "polyclinic"
        ],
        [
         "20",
         "f53f8540-5d7b-4dde-b806-b638ae0615f4",
         "6466eafc-030f-4a48-815b-0dd9b2267b18",
         "Pasir Ris Polyclinic",
         "polyclinic"
        ],
        [
         "21",
         "3ce84b91-3ab8-4557-8690-65cf91831fa4",
         "7b8c6306-5935-484d-b0f8-91fdff9587d3",
         "Sengkang Polyclinic",
         "polyclinic"
        ],
        [
         "22",
         "33c273c7-37c4-47f0-8ec3-fa44ad03a89c",
         "53b58ed8-484d-4184-9480-df25bfe1a57e",
         "Tampines Polyclinic",
         "polyclinic"
        ],
        [
         "23",
         "82eb0266-6620-491e-9e8b-535e09e177ba",
         "fa8ab892-4672-4a0a-aca6-b3cdda2f7c92",
         "Punggol Polyclinic",
         "polyclinic"
        ],
        [
         "24",
         "642857a8-3255-4b5f-9db8-7c73e4955463",
         "59e0cbc2-e12b-4d8b-8010-57dc0d43b6ba",
         "Eunos Polyclinic",
         "polyclinic"
        ],
        [
         "25",
         "d04e2d6c-9ee8-4871-b79e-35d8e587cda9",
         "707f89b0-1fca-4845-8473-b2c10b82acc6",
         "Tampines North Polyclinic",
         "polyclinic"
        ],
        [
         "26",
         "07e469ba-f570-4afd-aeaa-3b6174e6405a",
         "d5f0fa18-08a2-4851-9d68-c2bf2375cb0d",
         "Cavenagh Medical Clinic And Home Care",
         "gp"
        ],
        [
         "27",
         "06f2b2f0-db64-42e9-a542-d479f0a30e21",
         "bbba21e6-f671-48b7-a043-76dc7ceb4a98",
         "Mei Ling Clinic",
         "gp"
        ],
        [
         "28",
         "c24db0af-2aee-42df-992d-9722ea26689c",
         "8756cbe3-7c5f-4ec9-a587-3f4a606af01f",
         "Rcmc Rivervale Crescent Medical Centre",
         "gp"
        ],
        [
         "29",
         "41387e1a-c991-4c2d-aae3-70d59e28bc13",
         "edb7a489-e296-4543-96f9-fc3f78572615",
         "360 Clinic",
         "gp"
        ],
        [
         "30",
         "b313b69e-ea86-498c-af2d-34f7ef4f22e7",
         "c9763d22-174d-41a9-8be0-aff8acb8f439",
         "SKY Medical",
         "gp"
        ],
        [
         "31",
         "66e5da49-60fc-43c1-a3b3-1b4b5c55c521",
         "91d557ef-9c75-4d89-b2fb-f7fcce5ee06a",
         "DTAP @ Kovan",
         "gp"
        ],
        [
         "32",
         "1dbe0e81-1bc3-4034-bc3d-9d6237967dfd",
         "4dcdda12-f9a7-4318-b77e-1550c4198f1d",
         "Kindred Family Clinic (Yishun)",
         "gp"
        ],
        [
         "33",
         "2f290750-35b9-41a5-b71a-2864ea278da1",
         "c6a93bf0-9d28-426b-b0db-cf824a0e1c55",
         "Vitacare Family Clinic @ Kovan",
         "gp"
        ],
        [
         "34",
         "5f5b6315-ffdb-4bd6-81d0-c9ceeedc76bf",
         "ddccbf67-cef6-4d9a-924c-4d6613cdca98",
         "Healthway Medical (Yishun Ave 5)",
         "gp"
        ],
        [
         "35",
         "90d4b6db-abd0-4f2b-bc41-293f74d580ee",
         "1ca8ab4a-a52d-473a-a781-672821a6fa64",
         "Bartley Clinic",
         "gp"
        ],
        [
         "36",
         "095791fa-0f72-4b2a-9b2e-a970b6cf303e",
         "5975f4da-1c66-42f6-a619-e9d411451875",
         "Parkway Shenton Medical Group (Bukit Panjang)",
         "gp"
        ],
        [
         "37",
         "4cdbb035-c591-495a-9669-5c42b9e04c84",
         "5f910285-240d-45f8-af8e-a9acc71d6d21",
         "A+ffordable Clinic (Hougang)",
         "gp"
        ],
        [
         "38",
         "47f81a25-3e4e-4ad3-836b-e0a9c07ba56e",
         "3d234ad6-ec07-49e1-a1a6-4e388f5387b7",
         "171 Stirling Family Clinic",
         "gp"
        ],
        [
         "39",
         "89b1719d-1307-4d9c-b11f-6c63ebf869d6",
         "b5ca76a4-f960-4529-abbd-806a4f928c0f",
         "United Health Family Clinic & Surgery",
         "gp"
        ],
        [
         "40",
         "d008ebb8-dfa3-4be3-bae6-f25614b9be8e",
         "323c578d-b27e-4ce6-8a62-cb6a6c2262c5",
         "Raffles Medical (Compass One)",
         "gp"
        ],
        [
         "41",
         "13d1e4b1-a0f2-4dbb-9dc6-4c8dbd556bfd",
         "10eb6d1f-674e-487b-86ea-807ca7c3dc7a",
         "Good Medical Clinic (Tampines East)",
         "gp"
        ],
        [
         "42",
         "e436e479-b4c9-43fd-8ae6-cd45f2b67bbd",
         "72c44b47-c70e-42ff-83c6-5fb4212d6b13",
         "SingMedical Clinic Clementi",
         "gp"
        ],
        [
         "43",
         "df41f0b5-9783-473c-9c56-8c37b683323b",
         "61576a76-96fe-45ae-ae47-cc98c005fe30",
         "Cecilia Family Clinic & Surgery",
         "gp"
        ],
        [
         "44",
         "b679b468-ef1f-4ed8-8dd6-db6f4663c195",
         "f5308082-4f00-46ca-b904-26702b61dac8",
         "Inspire Medical Clinic (Jalan Batu)",
         "gp"
        ],
        [
         "45",
         "81b08bcf-7a34-4bbc-af8f-c096e31f6867",
         "1926504b-9803-497b-820a-963ba7e685a5",
         "My Family Clinic (Choa Chu Kang)",
         "gp"
        ],
        [
         "46",
         "6745f2c8-e4b2-4209-a287-37cde3c839a0",
         "d10465d7-674d-4126-b84a-e523fb83ae69",
         "Novena Medical Center Family Clinic",
         "gp"
        ],
        [
         "47",
         "aeb30a07-577a-41a4-961f-a2b40f0e27f4",
         "45d04b44-64ce-4fa9-b6c1-0a43b6523c50",
         "Healthway Medical (Millenia Walk)",
         "gp"
        ],
        [
         "48",
         "687ea387-d4c0-4445-9c03-db40c33d9528",
         "2320fb26-6953-4eaf-8ceb-24175214a25a",
         "The Tenteram Clinic",
         "gp"
        ],
        [
         "49",
         "489c5350-4766-4cfb-a963-589259f8587f",
         "589dbe96-3fb9-4c16-abbc-a20a2c078db4",
         "HAFcare Novena Clinic",
         "gp"
        ]
       ],
       "shape": {
        "columns": 4,
        "rows": 1558
       }
      },
      "text/html": [
       "<div>\n",
       "<style scoped>\n",
       "    .dataframe tbody tr th:only-of-type {\n",
       "        vertical-align: middle;\n",
       "    }\n",
       "\n",
       "    .dataframe tbody tr th {\n",
       "        vertical-align: top;\n",
       "    }\n",
       "\n",
       "    .dataframe thead th {\n",
       "        text-align: right;\n",
       "    }\n",
       "</style>\n",
       "<table border=\"1\" class=\"dataframe\">\n",
       "  <thead>\n",
       "    <tr style=\"text-align: right;\">\n",
       "      <th></th>\n",
       "      <th>id</th>\n",
       "      <th>address_id</th>\n",
       "      <th>name</th>\n",
       "      <th>type</th>\n",
       "    </tr>\n",
       "  </thead>\n",
       "  <tbody>\n",
       "    <tr>\n",
       "      <th>0</th>\n",
       "      <td>1d2e196d-af66-48f1-8f2c-0e23ad0ecde3</td>\n",
       "      <td>fa03e01a-219b-4ed1-91e6-14238e533df0</td>\n",
       "      <td>Ang Mo Kio Polyclinic</td>\n",
       "      <td>polyclinic</td>\n",
       "    </tr>\n",
       "    <tr>\n",
       "      <th>1</th>\n",
       "      <td>859fe92f-9c4b-4f3d-beda-b6c96e67887f</td>\n",
       "      <td>73532a10-1eff-4b9c-a36b-d5f7523bf760</td>\n",
       "      <td>Geylang Polyclinic</td>\n",
       "      <td>polyclinic</td>\n",
       "    </tr>\n",
       "    <tr>\n",
       "      <th>2</th>\n",
       "      <td>76da5477-df98-49d2-99d5-ba6d3900c3b7</td>\n",
       "      <td>77ac2094-04eb-483e-927d-076602cde3b7</td>\n",
       "      <td>Hougang Polyclinic</td>\n",
       "      <td>polyclinic</td>\n",
       "    </tr>\n",
       "    <tr>\n",
       "      <th>3</th>\n",
       "      <td>1489b9d7-5c8b-4df8-a614-70e76eb35722</td>\n",
       "      <td>bffe5d37-8def-4b9b-80e3-10e30a6734f8</td>\n",
       "      <td>Kallang Polyclinic</td>\n",
       "      <td>polyclinic</td>\n",
       "    </tr>\n",
       "    <tr>\n",
       "      <th>4</th>\n",
       "      <td>84b1aa83-156c-4eca-a9bf-ddc72424de1a</td>\n",
       "      <td>02931488-c56f-4c2f-8695-af6d7c28e1ba</td>\n",
       "      <td>Khatib Polyclinic</td>\n",
       "      <td>polyclinic</td>\n",
       "    </tr>\n",
       "    <tr>\n",
       "      <th>...</th>\n",
       "      <td>...</td>\n",
       "      <td>...</td>\n",
       "      <td>...</td>\n",
       "      <td>...</td>\n",
       "    </tr>\n",
       "    <tr>\n",
       "      <th>1553</th>\n",
       "      <td>1e618339-2b5e-4386-9696-d4b27874f4be</td>\n",
       "      <td>b45669cd-00d4-42bf-b94f-15d759fb0978</td>\n",
       "      <td>Trinity Medical@Shenton</td>\n",
       "      <td>gp</td>\n",
       "    </tr>\n",
       "    <tr>\n",
       "      <th>1554</th>\n",
       "      <td>d3931e52-a261-4d65-a91a-9ecfcad14ee0</td>\n",
       "      <td>f435aa5a-56b0-46d8-a073-d7d6986fd7ae</td>\n",
       "      <td>Saudara Clinic By A+J General Physicians</td>\n",
       "      <td>gp</td>\n",
       "    </tr>\n",
       "    <tr>\n",
       "      <th>1555</th>\n",
       "      <td>7d44d74b-ef2b-40d0-a18d-8f5487e28371</td>\n",
       "      <td>40d044c7-e40b-4d39-ad1f-321fdc0895dc</td>\n",
       "      <td>Zara Clinic</td>\n",
       "      <td>gp</td>\n",
       "    </tr>\n",
       "    <tr>\n",
       "      <th>1556</th>\n",
       "      <td>1e346932-a436-432a-b2c4-1d77b25df77a</td>\n",
       "      <td>21822a2b-6b6d-43ad-a2a9-93cb1411a01c</td>\n",
       "      <td>360 Clinic</td>\n",
       "      <td>gp</td>\n",
       "    </tr>\n",
       "    <tr>\n",
       "      <th>1557</th>\n",
       "      <td>332515db-9138-4874-91e5-1cc74469e78d</td>\n",
       "      <td>6009294c-1458-4e18-b770-df510e08d4ca</td>\n",
       "      <td>Vital-Care Clinic and Surgery Pte Ltd</td>\n",
       "      <td>gp</td>\n",
       "    </tr>\n",
       "  </tbody>\n",
       "</table>\n",
       "<p>1558 rows × 4 columns</p>\n",
       "</div>"
      ],
      "text/plain": [
       "                                        id  \\\n",
       "0     1d2e196d-af66-48f1-8f2c-0e23ad0ecde3   \n",
       "1     859fe92f-9c4b-4f3d-beda-b6c96e67887f   \n",
       "2     76da5477-df98-49d2-99d5-ba6d3900c3b7   \n",
       "3     1489b9d7-5c8b-4df8-a614-70e76eb35722   \n",
       "4     84b1aa83-156c-4eca-a9bf-ddc72424de1a   \n",
       "...                                    ...   \n",
       "1553  1e618339-2b5e-4386-9696-d4b27874f4be   \n",
       "1554  d3931e52-a261-4d65-a91a-9ecfcad14ee0   \n",
       "1555  7d44d74b-ef2b-40d0-a18d-8f5487e28371   \n",
       "1556  1e346932-a436-432a-b2c4-1d77b25df77a   \n",
       "1557  332515db-9138-4874-91e5-1cc74469e78d   \n",
       "\n",
       "                                address_id  \\\n",
       "0     fa03e01a-219b-4ed1-91e6-14238e533df0   \n",
       "1     73532a10-1eff-4b9c-a36b-d5f7523bf760   \n",
       "2     77ac2094-04eb-483e-927d-076602cde3b7   \n",
       "3     bffe5d37-8def-4b9b-80e3-10e30a6734f8   \n",
       "4     02931488-c56f-4c2f-8695-af6d7c28e1ba   \n",
       "...                                    ...   \n",
       "1553  b45669cd-00d4-42bf-b94f-15d759fb0978   \n",
       "1554  f435aa5a-56b0-46d8-a073-d7d6986fd7ae   \n",
       "1555  40d044c7-e40b-4d39-ad1f-321fdc0895dc   \n",
       "1556  21822a2b-6b6d-43ad-a2a9-93cb1411a01c   \n",
       "1557  6009294c-1458-4e18-b770-df510e08d4ca   \n",
       "\n",
       "                                          name        type  \n",
       "0                        Ang Mo Kio Polyclinic  polyclinic  \n",
       "1                           Geylang Polyclinic  polyclinic  \n",
       "2                           Hougang Polyclinic  polyclinic  \n",
       "3                           Kallang Polyclinic  polyclinic  \n",
       "4                            Khatib Polyclinic  polyclinic  \n",
       "...                                        ...         ...  \n",
       "1553                   Trinity Medical@Shenton          gp  \n",
       "1554  Saudara Clinic By A+J General Physicians          gp  \n",
       "1555                               Zara Clinic          gp  \n",
       "1556                                360 Clinic          gp  \n",
       "1557     Vital-Care Clinic and Surgery Pte Ltd          gp  \n",
       "\n",
       "[1558 rows x 4 columns]"
      ]
     },
     "metadata": {},
     "output_type": "display_data"
    },
    {
     "data": {
      "application/vnd.microsoft.datawrangler.viewer.v0+json": {
       "columns": [
        {
         "name": "index",
         "rawType": "int64",
         "type": "integer"
        },
        {
         "name": "id",
         "rawType": "object",
         "type": "string"
        },
        {
         "name": "address_id",
         "rawType": "object",
         "type": "string"
        },
        {
         "name": "enrolled_clinic_id",
         "rawType": "object",
         "type": "unknown"
        },
        {
         "name": "nric",
         "rawType": "object",
         "type": "string"
        },
        {
         "name": "first_name",
         "rawType": "object",
         "type": "string"
        },
        {
         "name": "last_name",
         "rawType": "object",
         "type": "string"
        },
        {
         "name": "email",
         "rawType": "object",
         "type": "string"
        },
        {
         "name": "date_of_birth",
         "rawType": "object",
         "type": "unknown"
        },
        {
         "name": "gender",
         "rawType": "object",
         "type": "string"
        },
        {
         "name": "password",
         "rawType": "object",
         "type": "string"
        }
       ],
       "conversionMethod": "pd.DataFrame",
       "ref": "d520b5ba-eab4-4f49-bc76-64366ab4fea2",
       "rows": [
        [
         "0",
         "f2967c0a-5121-4c46-a4dc-2b7979cfb421",
         "918a15ec-2333-4ed3-a4b7-39a66cc92ffa",
         null,
         "S9071950Q",
         "Mark",
         "Johnson",
         "mark.johnson@example.net",
         "1990-11-21",
         "M",
         "$2b$12$gf1LfqFawqeRB1xqfYzITulmwjcAhOUdsP09FqZWeKh87LRwNdebG"
        ],
        [
         "1",
         "e5723722-2395-447f-9512-ea0f17fac47f",
         "797a0d10-0e78-4426-856c-0823a957a090",
         "983a9652-d9a5-4560-a6b8-d7befb3fef45",
         "S8257099H",
         "Kimberly",
         "Garza",
         "kimberly.garza@example.net",
         "1982-02-26",
         "F",
         "$2b$12$ITAS7rMGe475rz.1x53sPe8sxMEYl9xbDh53Q3oZMqM4n9VM.R.uG"
        ],
        [
         "2",
         "fd20c08f-8b5b-4dc0-b110-5e4decd0aea9",
         "44851715-59cb-4ee3-81c3-11ced10d5fdc",
         "f53f8540-5d7b-4dde-b806-b638ae0615f4",
         "S9550684U",
         "Justin",
         "Baldwin",
         "justin.baldwin@example.com",
         "1995-03-22",
         "M",
         "$2b$12$atm0zwhIWEUQgpOq/oIUc.1TGMOogrMAZnvhp/cB7DWkOOPzfl5HW"
        ],
        [
         "3",
         "f5b0dfd9-4a27-49c2-aa6a-c05163bfbeaa",
         "7b9479b8-4384-48d1-b6d6-8e2d1ee2545b",
         "9c84ac40-ac28-4cd7-8fb5-516473c65719",
         "T0478320K",
         "Abigail",
         "Shaffer",
         "abigail.shaffer@example.org",
         "2004-07-13",
         "F",
         "$2b$12$/az9tuFgGPDzR7BkkiPZwO8n1m00CiMsLdnhYEXV45ph1K0wFeSDe"
        ],
        [
         "4",
         "ed5d95e8-0eaf-4101-92da-8149d99b53f5",
         "172f4d51-5c70-4f32-8633-87aaf0eb4847",
         "66648c66-52cd-48f4-8198-cd7d45919430",
         "S9511354W",
         "Gabrielle",
         "Davis",
         "gabrielle.davis@example.com",
         "1995-01-29",
         "F",
         "$2b$12$clgwLm467Hn2N40vlzBegOMQGCITn8jzU7CU0geR.E/iP9MAf0f0y"
        ]
       ],
       "shape": {
        "columns": 10,
        "rows": 5
       }
      },
      "text/html": [
       "<div>\n",
       "<style scoped>\n",
       "    .dataframe tbody tr th:only-of-type {\n",
       "        vertical-align: middle;\n",
       "    }\n",
       "\n",
       "    .dataframe tbody tr th {\n",
       "        vertical-align: top;\n",
       "    }\n",
       "\n",
       "    .dataframe thead th {\n",
       "        text-align: right;\n",
       "    }\n",
       "</style>\n",
       "<table border=\"1\" class=\"dataframe\">\n",
       "  <thead>\n",
       "    <tr style=\"text-align: right;\">\n",
       "      <th></th>\n",
       "      <th>id</th>\n",
       "      <th>address_id</th>\n",
       "      <th>enrolled_clinic_id</th>\n",
       "      <th>nric</th>\n",
       "      <th>first_name</th>\n",
       "      <th>last_name</th>\n",
       "      <th>email</th>\n",
       "      <th>date_of_birth</th>\n",
       "      <th>gender</th>\n",
       "      <th>password</th>\n",
       "    </tr>\n",
       "  </thead>\n",
       "  <tbody>\n",
       "    <tr>\n",
       "      <th>0</th>\n",
       "      <td>f2967c0a-5121-4c46-a4dc-2b7979cfb421</td>\n",
       "      <td>918a15ec-2333-4ed3-a4b7-39a66cc92ffa</td>\n",
       "      <td>None</td>\n",
       "      <td>S9071950Q</td>\n",
       "      <td>Mark</td>\n",
       "      <td>Johnson</td>\n",
       "      <td>mark.johnson@example.net</td>\n",
       "      <td>1990-11-21</td>\n",
       "      <td>M</td>\n",
       "      <td>$2b$12$gf1LfqFawqeRB1xqfYzITulmwjcAhOUdsP09FqZ...</td>\n",
       "    </tr>\n",
       "    <tr>\n",
       "      <th>1</th>\n",
       "      <td>e5723722-2395-447f-9512-ea0f17fac47f</td>\n",
       "      <td>797a0d10-0e78-4426-856c-0823a957a090</td>\n",
       "      <td>983a9652-d9a5-4560-a6b8-d7befb3fef45</td>\n",
       "      <td>S8257099H</td>\n",
       "      <td>Kimberly</td>\n",
       "      <td>Garza</td>\n",
       "      <td>kimberly.garza@example.net</td>\n",
       "      <td>1982-02-26</td>\n",
       "      <td>F</td>\n",
       "      <td>$2b$12$ITAS7rMGe475rz.1x53sPe8sxMEYl9xbDh53Q3o...</td>\n",
       "    </tr>\n",
       "    <tr>\n",
       "      <th>2</th>\n",
       "      <td>fd20c08f-8b5b-4dc0-b110-5e4decd0aea9</td>\n",
       "      <td>44851715-59cb-4ee3-81c3-11ced10d5fdc</td>\n",
       "      <td>f53f8540-5d7b-4dde-b806-b638ae0615f4</td>\n",
       "      <td>S9550684U</td>\n",
       "      <td>Justin</td>\n",
       "      <td>Baldwin</td>\n",
       "      <td>justin.baldwin@example.com</td>\n",
       "      <td>1995-03-22</td>\n",
       "      <td>M</td>\n",
       "      <td>$2b$12$atm0zwhIWEUQgpOq/oIUc.1TGMOogrMAZnvhp/c...</td>\n",
       "    </tr>\n",
       "    <tr>\n",
       "      <th>3</th>\n",
       "      <td>f5b0dfd9-4a27-49c2-aa6a-c05163bfbeaa</td>\n",
       "      <td>7b9479b8-4384-48d1-b6d6-8e2d1ee2545b</td>\n",
       "      <td>9c84ac40-ac28-4cd7-8fb5-516473c65719</td>\n",
       "      <td>T0478320K</td>\n",
       "      <td>Abigail</td>\n",
       "      <td>Shaffer</td>\n",
       "      <td>abigail.shaffer@example.org</td>\n",
       "      <td>2004-07-13</td>\n",
       "      <td>F</td>\n",
       "      <td>$2b$12$/az9tuFgGPDzR7BkkiPZwO8n1m00CiMsLdnhYEX...</td>\n",
       "    </tr>\n",
       "    <tr>\n",
       "      <th>4</th>\n",
       "      <td>ed5d95e8-0eaf-4101-92da-8149d99b53f5</td>\n",
       "      <td>172f4d51-5c70-4f32-8633-87aaf0eb4847</td>\n",
       "      <td>66648c66-52cd-48f4-8198-cd7d45919430</td>\n",
       "      <td>S9511354W</td>\n",
       "      <td>Gabrielle</td>\n",
       "      <td>Davis</td>\n",
       "      <td>gabrielle.davis@example.com</td>\n",
       "      <td>1995-01-29</td>\n",
       "      <td>F</td>\n",
       "      <td>$2b$12$clgwLm467Hn2N40vlzBegOMQGCITn8jzU7CU0ge...</td>\n",
       "    </tr>\n",
       "  </tbody>\n",
       "</table>\n",
       "</div>"
      ],
      "text/plain": [
       "                                     id                            address_id  \\\n",
       "0  f2967c0a-5121-4c46-a4dc-2b7979cfb421  918a15ec-2333-4ed3-a4b7-39a66cc92ffa   \n",
       "1  e5723722-2395-447f-9512-ea0f17fac47f  797a0d10-0e78-4426-856c-0823a957a090   \n",
       "2  fd20c08f-8b5b-4dc0-b110-5e4decd0aea9  44851715-59cb-4ee3-81c3-11ced10d5fdc   \n",
       "3  f5b0dfd9-4a27-49c2-aa6a-c05163bfbeaa  7b9479b8-4384-48d1-b6d6-8e2d1ee2545b   \n",
       "4  ed5d95e8-0eaf-4101-92da-8149d99b53f5  172f4d51-5c70-4f32-8633-87aaf0eb4847   \n",
       "\n",
       "                     enrolled_clinic_id       nric first_name last_name  \\\n",
       "0                                  None  S9071950Q       Mark   Johnson   \n",
       "1  983a9652-d9a5-4560-a6b8-d7befb3fef45  S8257099H   Kimberly     Garza   \n",
       "2  f53f8540-5d7b-4dde-b806-b638ae0615f4  S9550684U     Justin   Baldwin   \n",
       "3  9c84ac40-ac28-4cd7-8fb5-516473c65719  T0478320K    Abigail   Shaffer   \n",
       "4  66648c66-52cd-48f4-8198-cd7d45919430  S9511354W  Gabrielle     Davis   \n",
       "\n",
       "                         email date_of_birth gender  \\\n",
       "0     mark.johnson@example.net    1990-11-21      M   \n",
       "1   kimberly.garza@example.net    1982-02-26      F   \n",
       "2   justin.baldwin@example.com    1995-03-22      M   \n",
       "3  abigail.shaffer@example.org    2004-07-13      F   \n",
       "4  gabrielle.davis@example.com    1995-01-29      F   \n",
       "\n",
       "                                            password  \n",
       "0  $2b$12$gf1LfqFawqeRB1xqfYzITulmwjcAhOUdsP09FqZ...  \n",
       "1  $2b$12$ITAS7rMGe475rz.1x53sPe8sxMEYl9xbDh53Q3o...  \n",
       "2  $2b$12$atm0zwhIWEUQgpOq/oIUc.1TGMOogrMAZnvhp/c...  \n",
       "3  $2b$12$/az9tuFgGPDzR7BkkiPZwO8n1m00CiMsLdnhYEX...  \n",
       "4  $2b$12$clgwLm467Hn2N40vlzBegOMQGCITn8jzU7CU0ge...  "
      ]
     },
     "metadata": {},
     "output_type": "display_data"
    }
   ],
   "source": [
    "# Mapping of postal_codes to address_ids from addresses_df\n",
    "postal_to_address_id_mapping = dict(\n",
    "    zip(addresses_df[\"postal_code\"], addresses_df[\"id\"])\n",
    ")\n",
    "\n",
    "# Map address_id to postal_code\n",
    "clinics_df[\"address_id\"] = clinics_df[\"postal_code\"].map(postal_to_address_id_mapping)\n",
    "users_df[\"address_id\"] = users_df[\"postal_code\"].map(postal_to_address_id_mapping)\n",
    "\n",
    "# Select columns\n",
    "clinics_df = clinics_df[[\"id\", \"address_id\", \"name\", \"type\"]]\n",
    "users_df = users_df[\n",
    "    [\n",
    "        \"id\",\n",
    "        \"address_id\",\n",
    "        \"enrolled_clinic_id\",\n",
    "        \"nric\",\n",
    "        \"first_name\",\n",
    "        \"last_name\",\n",
    "        \"email\",\n",
    "        \"date_of_birth\",\n",
    "        \"gender\",\n",
    "        \"password\",\n",
    "    ]\n",
    "]\n",
    "\n",
    "display(clinics_df)\n",
    "display(users_df)"
   ]
  },
  {
   "cell_type": "markdown",
   "metadata": {},
   "source": [
    "<hr>\n",
    "\n",
    "## Vaccines Table\n",
    "\n",
    "In Singapore, there is the National Childhood Immnisation Schedule and National Adult Immunisation Schedule.\n",
    "\n",
    "Reference: https://www.moh.gov.sg/seeking-healthcare/overview-of-diseases/communicable-diseases/nationally-recommended-vaccines\n"
   ]
  },
  {
   "cell_type": "code",
   "execution_count": 16,
   "metadata": {},
   "outputs": [
    {
     "data": {
      "application/vnd.microsoft.datawrangler.viewer.v0+json": {
       "columns": [
        {
         "name": "index",
         "rawType": "int64",
         "type": "integer"
        },
        {
         "name": "id",
         "rawType": "object",
         "type": "string"
        },
        {
         "name": "name",
         "rawType": "object",
         "type": "string"
        },
        {
         "name": "price",
         "rawType": "float64",
         "type": "float"
        },
        {
         "name": "doses_required",
         "rawType": "int64",
         "type": "integer"
        },
        {
         "name": "age_criteria",
         "rawType": "object",
         "type": "string"
        },
        {
         "name": "gender_criteria",
         "rawType": "object",
         "type": "string"
        }
       ],
       "conversionMethod": "pd.DataFrame",
       "ref": "605b0c37-ee42-4975-93d6-c3b1744562dc",
       "rows": [
        [
         "0",
         "8c99160b-aed4-46fe-b6c8-f25aacfc6e0d",
         "Influenza (INF)",
         "9.0",
         "1",
         "18+ years old",
         "None"
        ],
        [
         "1",
         "3149b2d6-ccd9-4107-b656-4209ed8eca1c",
         "Pneumococcal Conjugate (PCV13)",
         "16.0",
         "1",
         "65+ years old",
         "None"
        ],
        [
         "2",
         "100f8392-e99a-4036-a45b-8914f0e522d8",
         "Human Papillomavirus (HPV)",
         "23.0",
         "3",
         "18-26 years old",
         "F"
        ],
        [
         "3",
         "0ab9b4ed-e58d-4019-84e0-7e0a6c5df7ad",
         "Tetanus, Diphtheria, Pertussis (Tdap)",
         "10.0",
         "1",
         "18+ years old",
         "F"
        ],
        [
         "4",
         "3c3cdfbc-e67e-4ba1-b831-a1ffaab56302",
         "Hepatitis B (HepB)",
         "9.0",
         "3",
         "18+ years old",
         "None"
        ],
        [
         "5",
         "3460d1d7-fe6e-4f55-a00e-a35e817770bb",
         "Measles, Mumps, Rubella (MMR)",
         "9.0",
         "2",
         "18+ years old",
         "None"
        ],
        [
         "6",
         "03aba890-a9bc-4a31-98a3-7cb2ea6ca5e3",
         "Varicella (VAR)",
         "11.0",
         "2",
         "18+ years old",
         "None"
        ]
       ],
       "shape": {
        "columns": 6,
        "rows": 7
       }
      },
      "text/html": [
       "<div>\n",
       "<style scoped>\n",
       "    .dataframe tbody tr th:only-of-type {\n",
       "        vertical-align: middle;\n",
       "    }\n",
       "\n",
       "    .dataframe tbody tr th {\n",
       "        vertical-align: top;\n",
       "    }\n",
       "\n",
       "    .dataframe thead th {\n",
       "        text-align: right;\n",
       "    }\n",
       "</style>\n",
       "<table border=\"1\" class=\"dataframe\">\n",
       "  <thead>\n",
       "    <tr style=\"text-align: right;\">\n",
       "      <th></th>\n",
       "      <th>id</th>\n",
       "      <th>name</th>\n",
       "      <th>price</th>\n",
       "      <th>doses_required</th>\n",
       "      <th>age_criteria</th>\n",
       "      <th>gender_criteria</th>\n",
       "    </tr>\n",
       "  </thead>\n",
       "  <tbody>\n",
       "    <tr>\n",
       "      <th>0</th>\n",
       "      <td>8c99160b-aed4-46fe-b6c8-f25aacfc6e0d</td>\n",
       "      <td>Influenza (INF)</td>\n",
       "      <td>9.0</td>\n",
       "      <td>1</td>\n",
       "      <td>18+ years old</td>\n",
       "      <td>None</td>\n",
       "    </tr>\n",
       "    <tr>\n",
       "      <th>1</th>\n",
       "      <td>3149b2d6-ccd9-4107-b656-4209ed8eca1c</td>\n",
       "      <td>Pneumococcal Conjugate (PCV13)</td>\n",
       "      <td>16.0</td>\n",
       "      <td>1</td>\n",
       "      <td>65+ years old</td>\n",
       "      <td>None</td>\n",
       "    </tr>\n",
       "    <tr>\n",
       "      <th>2</th>\n",
       "      <td>100f8392-e99a-4036-a45b-8914f0e522d8</td>\n",
       "      <td>Human Papillomavirus (HPV)</td>\n",
       "      <td>23.0</td>\n",
       "      <td>3</td>\n",
       "      <td>18-26 years old</td>\n",
       "      <td>F</td>\n",
       "    </tr>\n",
       "    <tr>\n",
       "      <th>3</th>\n",
       "      <td>0ab9b4ed-e58d-4019-84e0-7e0a6c5df7ad</td>\n",
       "      <td>Tetanus, Diphtheria, Pertussis (Tdap)</td>\n",
       "      <td>10.0</td>\n",
       "      <td>1</td>\n",
       "      <td>18+ years old</td>\n",
       "      <td>F</td>\n",
       "    </tr>\n",
       "    <tr>\n",
       "      <th>4</th>\n",
       "      <td>3c3cdfbc-e67e-4ba1-b831-a1ffaab56302</td>\n",
       "      <td>Hepatitis B (HepB)</td>\n",
       "      <td>9.0</td>\n",
       "      <td>3</td>\n",
       "      <td>18+ years old</td>\n",
       "      <td>None</td>\n",
       "    </tr>\n",
       "    <tr>\n",
       "      <th>5</th>\n",
       "      <td>3460d1d7-fe6e-4f55-a00e-a35e817770bb</td>\n",
       "      <td>Measles, Mumps, Rubella (MMR)</td>\n",
       "      <td>9.0</td>\n",
       "      <td>2</td>\n",
       "      <td>18+ years old</td>\n",
       "      <td>None</td>\n",
       "    </tr>\n",
       "    <tr>\n",
       "      <th>6</th>\n",
       "      <td>03aba890-a9bc-4a31-98a3-7cb2ea6ca5e3</td>\n",
       "      <td>Varicella (VAR)</td>\n",
       "      <td>11.0</td>\n",
       "      <td>2</td>\n",
       "      <td>18+ years old</td>\n",
       "      <td>None</td>\n",
       "    </tr>\n",
       "  </tbody>\n",
       "</table>\n",
       "</div>"
      ],
      "text/plain": [
       "                                     id  \\\n",
       "0  8c99160b-aed4-46fe-b6c8-f25aacfc6e0d   \n",
       "1  3149b2d6-ccd9-4107-b656-4209ed8eca1c   \n",
       "2  100f8392-e99a-4036-a45b-8914f0e522d8   \n",
       "3  0ab9b4ed-e58d-4019-84e0-7e0a6c5df7ad   \n",
       "4  3c3cdfbc-e67e-4ba1-b831-a1ffaab56302   \n",
       "5  3460d1d7-fe6e-4f55-a00e-a35e817770bb   \n",
       "6  03aba890-a9bc-4a31-98a3-7cb2ea6ca5e3   \n",
       "\n",
       "                                    name  price  doses_required  \\\n",
       "0                        Influenza (INF)    9.0               1   \n",
       "1         Pneumococcal Conjugate (PCV13)   16.0               1   \n",
       "2             Human Papillomavirus (HPV)   23.0               3   \n",
       "3  Tetanus, Diphtheria, Pertussis (Tdap)   10.0               1   \n",
       "4                     Hepatitis B (HepB)    9.0               3   \n",
       "5          Measles, Mumps, Rubella (MMR)    9.0               2   \n",
       "6                        Varicella (VAR)   11.0               2   \n",
       "\n",
       "      age_criteria gender_criteria  \n",
       "0    18+ years old            None  \n",
       "1    65+ years old            None  \n",
       "2  18-26 years old               F  \n",
       "3    18+ years old               F  \n",
       "4    18+ years old            None  \n",
       "5    18+ years old            None  \n",
       "6    18+ years old            None  "
      ]
     },
     "metadata": {},
     "output_type": "display_data"
    }
   ],
   "source": [
    "# Vaccine Table\n",
    "vaccines_data = {\n",
    "    \"id\": [str(uuid.uuid4()) for _ in range(1, 8)],\n",
    "    \"name\": [  # Adult Vaccines\n",
    "        \"Influenza (INF)\",\n",
    "        \"Pneumococcal Conjugate (PCV13)\",\n",
    "        \"Human Papillomavirus (HPV)\",\n",
    "        \"Tetanus, Diphtheria, Pertussis (Tdap)\",\n",
    "        \"Hepatitis B (HepB)\",\n",
    "        \"Measles, Mumps, Rubella (MMR)\",\n",
    "        \"Varicella (VAR)\",\n",
    "    ],\n",
    "    \"price\": [9.0, 16.0, 23.0, 10.0, 9.0, 9.0, 11.0],\n",
    "    \"doses_required\": [1, 1, 3, 1, 3, 2, 2],\n",
    "    \"age_criteria\": [\n",
    "        \"18+ years old\",\n",
    "        \"65+ years old\",\n",
    "        \"18-26 years old\",\n",
    "        \"18+ years old\",\n",
    "        \"18+ years old\",\n",
    "        \"18+ years old\",\n",
    "        \"18+ years old\",\n",
    "    ],\n",
    "    \"gender_criteria\": [\n",
    "        \"None\",\n",
    "        \"None\",\n",
    "        \"F\",\n",
    "        \"F\",\n",
    "        \"None\",\n",
    "        \"None\",\n",
    "        \"None\",\n",
    "    ],\n",
    "    # condition_crietria\n",
    "}\n",
    "vaccines_df = pd.DataFrame(vaccines_data)\n",
    "display(vaccines_df)"
   ]
  },
  {
   "cell_type": "markdown",
   "metadata": {},
   "source": [
    "<hr>\n",
    "\n",
    "## BookingSlots Table\n"
   ]
  },
  {
   "cell_type": "code",
   "execution_count": 17,
   "metadata": {},
   "outputs": [
    {
     "data": {
      "application/vnd.microsoft.datawrangler.viewer.v0+json": {
       "columns": [
        {
         "name": "index",
         "rawType": "int64",
         "type": "integer"
        },
        {
         "name": "id",
         "rawType": "object",
         "type": "string"
        },
        {
         "name": "polyclinic_id",
         "rawType": "object",
         "type": "string"
        },
        {
         "name": "vaccine_id",
         "rawType": "object",
         "type": "string"
        },
        {
         "name": "datetime",
         "rawType": "datetime64[ns]",
         "type": "datetime"
        }
       ],
       "conversionMethod": "pd.DataFrame",
       "ref": "0768eae3-a1ba-4d33-befc-8bfc2f2f66a1",
       "rows": [
        [
         "0",
         "c3bcbe9a-0e6d-4d5e-9f11-21677e3661b4",
         "d04e2d6c-9ee8-4871-b79e-35d8e587cda9",
         "100f8392-e99a-4036-a45b-8914f0e522d8",
         "2025-03-03 08:00:00"
        ],
        [
         "1",
         "5a949a2d-74bc-4a8d-966e-06299aea086e",
         "4de9e253-08ac-445f-95a6-3d086068c49c",
         "0ab9b4ed-e58d-4019-84e0-7e0a6c5df7ad",
         "2025-03-03 08:00:00"
        ],
        [
         "2",
         "443d8791-9d16-4666-873c-cfeffd378602",
         "015991c6-8565-4f5b-a162-abb083bf6d58",
         "3149b2d6-ccd9-4107-b656-4209ed8eca1c",
         "2025-03-03 08:00:00"
        ],
        [
         "3",
         "3f7f75c0-b28c-4bb7-8c9a-991e5d150bc3",
         "2017474b-c611-42a9-be8c-3fa14457f8b6",
         "8c99160b-aed4-46fe-b6c8-f25aacfc6e0d",
         "2025-03-03 08:00:00"
        ],
        [
         "4",
         "1c62eeac-2c5d-4600-8a2e-eed78d88356c",
         "859fe92f-9c4b-4f3d-beda-b6c96e67887f",
         "8c99160b-aed4-46fe-b6c8-f25aacfc6e0d",
         "2025-03-03 08:00:00"
        ],
        [
         "5",
         "94ce6e7c-3d9d-4a0b-9810-4c7e99bc5990",
         "82eb0266-6620-491e-9e8b-535e09e177ba",
         "8c99160b-aed4-46fe-b6c8-f25aacfc6e0d",
         "2025-03-03 08:00:00"
        ],
        [
         "6",
         "bc5d1197-1b58-47bf-9097-367cf8956762",
         "8ed31a4c-a932-4634-b25f-113513f20ec4",
         "3149b2d6-ccd9-4107-b656-4209ed8eca1c",
         "2025-03-03 08:00:00"
        ],
        [
         "7",
         "2d8ef8f2-7649-4386-9c11-76555f044a7a",
         "9e1c435c-49fb-4d43-94d3-8f6b1c3ef061",
         "03aba890-a9bc-4a31-98a3-7cb2ea6ca5e3",
         "2025-03-03 08:00:00"
        ],
        [
         "8",
         "9fd50105-2cae-4c5f-9dd2-4e3a507f9aa4",
         "65db34ad-4767-4e5d-a6a8-9cc6d7077c0f",
         "0ab9b4ed-e58d-4019-84e0-7e0a6c5df7ad",
         "2025-03-03 08:00:00"
        ],
        [
         "9",
         "cfefcb45-5712-4bf3-91d5-65f10a6c626f",
         "642857a8-3255-4b5f-9db8-7c73e4955463",
         "8c99160b-aed4-46fe-b6c8-f25aacfc6e0d",
         "2025-03-03 08:00:00"
        ],
        [
         "10",
         "bc1ddd03-6682-432e-8906-c49b4164d7e3",
         "444e79e5-ad10-4240-9ec7-47cb5c24ee2a",
         "8c99160b-aed4-46fe-b6c8-f25aacfc6e0d",
         "2025-03-03 08:00:00"
        ],
        [
         "11",
         "c4c81983-8b5e-4587-8da2-40520a104221",
         "d4f04b05-e5f6-4945-84ce-e1b22b8ebaf4",
         "0ab9b4ed-e58d-4019-84e0-7e0a6c5df7ad",
         "2025-03-03 08:00:00"
        ],
        [
         "12",
         "7a997aa6-78ad-4464-89ce-4f6514c9fb2c",
         "f53f8540-5d7b-4dde-b806-b638ae0615f4",
         "8c99160b-aed4-46fe-b6c8-f25aacfc6e0d",
         "2025-03-03 08:00:00"
        ],
        [
         "13",
         "5fcd40f4-04d9-4eef-8d54-2235b8478d82",
         "642857a8-3255-4b5f-9db8-7c73e4955463",
         "100f8392-e99a-4036-a45b-8914f0e522d8",
         "2025-03-03 08:30:00"
        ],
        [
         "14",
         "1e4d9442-46ce-4f96-8ad1-e6051d0429ec",
         "444e79e5-ad10-4240-9ec7-47cb5c24ee2a",
         "3460d1d7-fe6e-4f55-a00e-a35e817770bb",
         "2025-03-03 08:30:00"
        ],
        [
         "15",
         "bb1b968f-65ea-4536-8f05-3c800f012894",
         "f53f8540-5d7b-4dde-b806-b638ae0615f4",
         "03aba890-a9bc-4a31-98a3-7cb2ea6ca5e3",
         "2025-03-03 08:30:00"
        ],
        [
         "16",
         "861a7940-2fd3-429e-92df-24246d5ff687",
         "65db34ad-4767-4e5d-a6a8-9cc6d7077c0f",
         "8c99160b-aed4-46fe-b6c8-f25aacfc6e0d",
         "2025-03-03 08:30:00"
        ],
        [
         "17",
         "ccfbcaa2-aa92-4d7c-a081-f94daf17bf96",
         "015991c6-8565-4f5b-a162-abb083bf6d58",
         "8c99160b-aed4-46fe-b6c8-f25aacfc6e0d",
         "2025-03-03 08:30:00"
        ],
        [
         "18",
         "0cc8b244-e682-436f-bd15-d6c5ed0f3226",
         "8ed31a4c-a932-4634-b25f-113513f20ec4",
         "3c3cdfbc-e67e-4ba1-b831-a1ffaab56302",
         "2025-03-03 08:30:00"
        ],
        [
         "19",
         "ba7535f9-1a4c-492d-928c-408eb3c908b3",
         "859fe92f-9c4b-4f3d-beda-b6c96e67887f",
         "3149b2d6-ccd9-4107-b656-4209ed8eca1c",
         "2025-03-03 08:30:00"
        ],
        [
         "20",
         "9e775b6e-f055-47f8-8eb1-2834164ac80c",
         "d4f04b05-e5f6-4945-84ce-e1b22b8ebaf4",
         "3c3cdfbc-e67e-4ba1-b831-a1ffaab56302",
         "2025-03-03 08:30:00"
        ],
        [
         "21",
         "af8d2b7e-6145-4af8-a68c-2cf0d2f9b9e0",
         "82eb0266-6620-491e-9e8b-535e09e177ba",
         "0ab9b4ed-e58d-4019-84e0-7e0a6c5df7ad",
         "2025-03-03 08:30:00"
        ],
        [
         "22",
         "8c05154a-2d1e-433c-801a-9735f2ce1c54",
         "d04e2d6c-9ee8-4871-b79e-35d8e587cda9",
         "03aba890-a9bc-4a31-98a3-7cb2ea6ca5e3",
         "2025-03-03 08:30:00"
        ],
        [
         "23",
         "b917cc4f-b9c9-4f16-ba94-166dd111823f",
         "4de9e253-08ac-445f-95a6-3d086068c49c",
         "3460d1d7-fe6e-4f55-a00e-a35e817770bb",
         "2025-03-03 08:30:00"
        ],
        [
         "24",
         "fc31738d-6340-46a8-93a4-d10314d5a7d1",
         "9e1c435c-49fb-4d43-94d3-8f6b1c3ef061",
         "3c3cdfbc-e67e-4ba1-b831-a1ffaab56302",
         "2025-03-03 08:30:00"
        ],
        [
         "25",
         "0b3ff047-13f4-436c-92b9-a2873e77c42f",
         "2017474b-c611-42a9-be8c-3fa14457f8b6",
         "8c99160b-aed4-46fe-b6c8-f25aacfc6e0d",
         "2025-03-03 08:30:00"
        ],
        [
         "26",
         "776e255b-236c-4292-9a8f-d1339c449447",
         "642857a8-3255-4b5f-9db8-7c73e4955463",
         "3460d1d7-fe6e-4f55-a00e-a35e817770bb",
         "2025-03-03 09:00:00"
        ],
        [
         "27",
         "1a4593ee-a48b-4acd-b549-ca1fd9f7a719",
         "f53f8540-5d7b-4dde-b806-b638ae0615f4",
         "8c99160b-aed4-46fe-b6c8-f25aacfc6e0d",
         "2025-03-03 09:00:00"
        ],
        [
         "28",
         "42e62023-a717-465f-b541-6c5465bb3537",
         "4de9e253-08ac-445f-95a6-3d086068c49c",
         "3460d1d7-fe6e-4f55-a00e-a35e817770bb",
         "2025-03-03 09:00:00"
        ],
        [
         "29",
         "116df0ca-8736-4ba2-821d-216f44887b5e",
         "9e1c435c-49fb-4d43-94d3-8f6b1c3ef061",
         "0ab9b4ed-e58d-4019-84e0-7e0a6c5df7ad",
         "2025-03-03 09:00:00"
        ],
        [
         "30",
         "657be113-0097-4c11-9257-dfab8fce8838",
         "d04e2d6c-9ee8-4871-b79e-35d8e587cda9",
         "0ab9b4ed-e58d-4019-84e0-7e0a6c5df7ad",
         "2025-03-03 09:00:00"
        ],
        [
         "31",
         "1eb62069-ca5f-4e0c-b09b-53ea0f8b4921",
         "444e79e5-ad10-4240-9ec7-47cb5c24ee2a",
         "100f8392-e99a-4036-a45b-8914f0e522d8",
         "2025-03-03 09:00:00"
        ],
        [
         "32",
         "94fbd80d-6c23-41f3-bece-75132049fd92",
         "8ed31a4c-a932-4634-b25f-113513f20ec4",
         "3460d1d7-fe6e-4f55-a00e-a35e817770bb",
         "2025-03-03 09:00:00"
        ],
        [
         "33",
         "cb903d22-02f7-4f16-840c-10122009c605",
         "65db34ad-4767-4e5d-a6a8-9cc6d7077c0f",
         "100f8392-e99a-4036-a45b-8914f0e522d8",
         "2025-03-03 09:00:00"
        ],
        [
         "34",
         "232ab2c7-5c4b-42ca-b02b-3b5352d100d1",
         "015991c6-8565-4f5b-a162-abb083bf6d58",
         "0ab9b4ed-e58d-4019-84e0-7e0a6c5df7ad",
         "2025-03-03 09:00:00"
        ],
        [
         "35",
         "9bab7093-e57a-47cf-a543-33530ef6b82f",
         "d4f04b05-e5f6-4945-84ce-e1b22b8ebaf4",
         "03aba890-a9bc-4a31-98a3-7cb2ea6ca5e3",
         "2025-03-03 09:00:00"
        ],
        [
         "36",
         "ee98f80b-3f03-4478-b3c2-8d6d1e54a104",
         "859fe92f-9c4b-4f3d-beda-b6c96e67887f",
         "3c3cdfbc-e67e-4ba1-b831-a1ffaab56302",
         "2025-03-03 09:00:00"
        ],
        [
         "37",
         "8ffc2f23-2a17-4cf7-bbed-8c0fae1d6247",
         "82eb0266-6620-491e-9e8b-535e09e177ba",
         "100f8392-e99a-4036-a45b-8914f0e522d8",
         "2025-03-03 09:00:00"
        ],
        [
         "38",
         "544fc008-6cfa-4e01-8398-4372d0e86a51",
         "2017474b-c611-42a9-be8c-3fa14457f8b6",
         "3460d1d7-fe6e-4f55-a00e-a35e817770bb",
         "2025-03-03 09:00:00"
        ],
        [
         "39",
         "0a9b587b-64ea-426d-ad7e-dc87c6a3109d",
         "f53f8540-5d7b-4dde-b806-b638ae0615f4",
         "100f8392-e99a-4036-a45b-8914f0e522d8",
         "2025-03-03 09:30:00"
        ],
        [
         "40",
         "6b170db5-e979-4a7d-b62e-5ca39e36b8f8",
         "015991c6-8565-4f5b-a162-abb083bf6d58",
         "3149b2d6-ccd9-4107-b656-4209ed8eca1c",
         "2025-03-03 09:30:00"
        ],
        [
         "41",
         "593115ed-cef5-4d06-9da9-c7da7d0eebd0",
         "642857a8-3255-4b5f-9db8-7c73e4955463",
         "8c99160b-aed4-46fe-b6c8-f25aacfc6e0d",
         "2025-03-03 09:30:00"
        ],
        [
         "42",
         "9398bc7c-ab72-43f0-94ec-2e13a6561adc",
         "65db34ad-4767-4e5d-a6a8-9cc6d7077c0f",
         "3c3cdfbc-e67e-4ba1-b831-a1ffaab56302",
         "2025-03-03 09:30:00"
        ],
        [
         "43",
         "864c50b1-4ff2-4cdb-a584-8ffba942aadc",
         "9e1c435c-49fb-4d43-94d3-8f6b1c3ef061",
         "03aba890-a9bc-4a31-98a3-7cb2ea6ca5e3",
         "2025-03-03 09:30:00"
        ],
        [
         "44",
         "cb4e8de5-9b9c-4a21-90c5-8a175c992166",
         "4de9e253-08ac-445f-95a6-3d086068c49c",
         "3c3cdfbc-e67e-4ba1-b831-a1ffaab56302",
         "2025-03-03 09:30:00"
        ],
        [
         "45",
         "b5806159-b308-4a0f-9903-f80547f29e42",
         "859fe92f-9c4b-4f3d-beda-b6c96e67887f",
         "3149b2d6-ccd9-4107-b656-4209ed8eca1c",
         "2025-03-03 09:30:00"
        ],
        [
         "46",
         "e56b1d44-200d-40cd-892e-66de2ae8cbd5",
         "82eb0266-6620-491e-9e8b-535e09e177ba",
         "100f8392-e99a-4036-a45b-8914f0e522d8",
         "2025-03-03 09:30:00"
        ],
        [
         "47",
         "e830a07c-ba41-4e48-a907-7024a5181c6c",
         "444e79e5-ad10-4240-9ec7-47cb5c24ee2a",
         "03aba890-a9bc-4a31-98a3-7cb2ea6ca5e3",
         "2025-03-03 09:30:00"
        ],
        [
         "48",
         "7af94c45-a650-4bb8-9507-91945654515f",
         "d04e2d6c-9ee8-4871-b79e-35d8e587cda9",
         "03aba890-a9bc-4a31-98a3-7cb2ea6ca5e3",
         "2025-03-03 09:30:00"
        ],
        [
         "49",
         "a3150466-ec01-4eee-b629-80c17eff2c58",
         "d4f04b05-e5f6-4945-84ce-e1b22b8ebaf4",
         "3c3cdfbc-e67e-4ba1-b831-a1ffaab56302",
         "2025-03-03 09:30:00"
        ]
       ],
       "shape": {
        "columns": 4,
        "rows": 11180
       }
      },
      "text/html": [
       "<div>\n",
       "<style scoped>\n",
       "    .dataframe tbody tr th:only-of-type {\n",
       "        vertical-align: middle;\n",
       "    }\n",
       "\n",
       "    .dataframe tbody tr th {\n",
       "        vertical-align: top;\n",
       "    }\n",
       "\n",
       "    .dataframe thead th {\n",
       "        text-align: right;\n",
       "    }\n",
       "</style>\n",
       "<table border=\"1\" class=\"dataframe\">\n",
       "  <thead>\n",
       "    <tr style=\"text-align: right;\">\n",
       "      <th></th>\n",
       "      <th>id</th>\n",
       "      <th>polyclinic_id</th>\n",
       "      <th>vaccine_id</th>\n",
       "      <th>datetime</th>\n",
       "    </tr>\n",
       "  </thead>\n",
       "  <tbody>\n",
       "    <tr>\n",
       "      <th>0</th>\n",
       "      <td>c3bcbe9a-0e6d-4d5e-9f11-21677e3661b4</td>\n",
       "      <td>d04e2d6c-9ee8-4871-b79e-35d8e587cda9</td>\n",
       "      <td>100f8392-e99a-4036-a45b-8914f0e522d8</td>\n",
       "      <td>2025-03-03 08:00:00</td>\n",
       "    </tr>\n",
       "    <tr>\n",
       "      <th>1</th>\n",
       "      <td>5a949a2d-74bc-4a8d-966e-06299aea086e</td>\n",
       "      <td>4de9e253-08ac-445f-95a6-3d086068c49c</td>\n",
       "      <td>0ab9b4ed-e58d-4019-84e0-7e0a6c5df7ad</td>\n",
       "      <td>2025-03-03 08:00:00</td>\n",
       "    </tr>\n",
       "    <tr>\n",
       "      <th>2</th>\n",
       "      <td>443d8791-9d16-4666-873c-cfeffd378602</td>\n",
       "      <td>015991c6-8565-4f5b-a162-abb083bf6d58</td>\n",
       "      <td>3149b2d6-ccd9-4107-b656-4209ed8eca1c</td>\n",
       "      <td>2025-03-03 08:00:00</td>\n",
       "    </tr>\n",
       "    <tr>\n",
       "      <th>3</th>\n",
       "      <td>3f7f75c0-b28c-4bb7-8c9a-991e5d150bc3</td>\n",
       "      <td>2017474b-c611-42a9-be8c-3fa14457f8b6</td>\n",
       "      <td>8c99160b-aed4-46fe-b6c8-f25aacfc6e0d</td>\n",
       "      <td>2025-03-03 08:00:00</td>\n",
       "    </tr>\n",
       "    <tr>\n",
       "      <th>4</th>\n",
       "      <td>1c62eeac-2c5d-4600-8a2e-eed78d88356c</td>\n",
       "      <td>859fe92f-9c4b-4f3d-beda-b6c96e67887f</td>\n",
       "      <td>8c99160b-aed4-46fe-b6c8-f25aacfc6e0d</td>\n",
       "      <td>2025-03-03 08:00:00</td>\n",
       "    </tr>\n",
       "    <tr>\n",
       "      <th>...</th>\n",
       "      <td>...</td>\n",
       "      <td>...</td>\n",
       "      <td>...</td>\n",
       "      <td>...</td>\n",
       "    </tr>\n",
       "    <tr>\n",
       "      <th>11175</th>\n",
       "      <td>3b004cb5-0c8a-4483-9420-7bda8cdf49b9</td>\n",
       "      <td>f53f8540-5d7b-4dde-b806-b638ae0615f4</td>\n",
       "      <td>8c99160b-aed4-46fe-b6c8-f25aacfc6e0d</td>\n",
       "      <td>2025-04-30 17:30:00</td>\n",
       "    </tr>\n",
       "    <tr>\n",
       "      <th>11176</th>\n",
       "      <td>793bd4bb-cc1b-4fd0-bb30-721ebf0faa0d</td>\n",
       "      <td>84b1aa83-156c-4eca-a9bf-ddc72424de1a</td>\n",
       "      <td>3c3cdfbc-e67e-4ba1-b831-a1ffaab56302</td>\n",
       "      <td>2025-04-30 17:30:00</td>\n",
       "    </tr>\n",
       "    <tr>\n",
       "      <th>11177</th>\n",
       "      <td>c9d71d4d-3355-44f9-a0ae-27f5f77588ec</td>\n",
       "      <td>76da5477-df98-49d2-99d5-ba6d3900c3b7</td>\n",
       "      <td>3149b2d6-ccd9-4107-b656-4209ed8eca1c</td>\n",
       "      <td>2025-04-30 17:30:00</td>\n",
       "    </tr>\n",
       "    <tr>\n",
       "      <th>11178</th>\n",
       "      <td>9b801873-2ced-49a2-a203-d8191af48eae</td>\n",
       "      <td>14398891-c7a3-4425-9d6d-63a5c8cc4ac8</td>\n",
       "      <td>3149b2d6-ccd9-4107-b656-4209ed8eca1c</td>\n",
       "      <td>2025-04-30 17:30:00</td>\n",
       "    </tr>\n",
       "    <tr>\n",
       "      <th>11179</th>\n",
       "      <td>8834157d-27c7-409f-8f15-c53e1a360539</td>\n",
       "      <td>82eb0266-6620-491e-9e8b-535e09e177ba</td>\n",
       "      <td>03aba890-a9bc-4a31-98a3-7cb2ea6ca5e3</td>\n",
       "      <td>2025-04-30 17:30:00</td>\n",
       "    </tr>\n",
       "  </tbody>\n",
       "</table>\n",
       "<p>11180 rows × 4 columns</p>\n",
       "</div>"
      ],
      "text/plain": [
       "                                         id  \\\n",
       "0      c3bcbe9a-0e6d-4d5e-9f11-21677e3661b4   \n",
       "1      5a949a2d-74bc-4a8d-966e-06299aea086e   \n",
       "2      443d8791-9d16-4666-873c-cfeffd378602   \n",
       "3      3f7f75c0-b28c-4bb7-8c9a-991e5d150bc3   \n",
       "4      1c62eeac-2c5d-4600-8a2e-eed78d88356c   \n",
       "...                                     ...   \n",
       "11175  3b004cb5-0c8a-4483-9420-7bda8cdf49b9   \n",
       "11176  793bd4bb-cc1b-4fd0-bb30-721ebf0faa0d   \n",
       "11177  c9d71d4d-3355-44f9-a0ae-27f5f77588ec   \n",
       "11178  9b801873-2ced-49a2-a203-d8191af48eae   \n",
       "11179  8834157d-27c7-409f-8f15-c53e1a360539   \n",
       "\n",
       "                              polyclinic_id  \\\n",
       "0      d04e2d6c-9ee8-4871-b79e-35d8e587cda9   \n",
       "1      4de9e253-08ac-445f-95a6-3d086068c49c   \n",
       "2      015991c6-8565-4f5b-a162-abb083bf6d58   \n",
       "3      2017474b-c611-42a9-be8c-3fa14457f8b6   \n",
       "4      859fe92f-9c4b-4f3d-beda-b6c96e67887f   \n",
       "...                                     ...   \n",
       "11175  f53f8540-5d7b-4dde-b806-b638ae0615f4   \n",
       "11176  84b1aa83-156c-4eca-a9bf-ddc72424de1a   \n",
       "11177  76da5477-df98-49d2-99d5-ba6d3900c3b7   \n",
       "11178  14398891-c7a3-4425-9d6d-63a5c8cc4ac8   \n",
       "11179  82eb0266-6620-491e-9e8b-535e09e177ba   \n",
       "\n",
       "                                 vaccine_id            datetime  \n",
       "0      100f8392-e99a-4036-a45b-8914f0e522d8 2025-03-03 08:00:00  \n",
       "1      0ab9b4ed-e58d-4019-84e0-7e0a6c5df7ad 2025-03-03 08:00:00  \n",
       "2      3149b2d6-ccd9-4107-b656-4209ed8eca1c 2025-03-03 08:00:00  \n",
       "3      8c99160b-aed4-46fe-b6c8-f25aacfc6e0d 2025-03-03 08:00:00  \n",
       "4      8c99160b-aed4-46fe-b6c8-f25aacfc6e0d 2025-03-03 08:00:00  \n",
       "...                                     ...                 ...  \n",
       "11175  8c99160b-aed4-46fe-b6c8-f25aacfc6e0d 2025-04-30 17:30:00  \n",
       "11176  3c3cdfbc-e67e-4ba1-b831-a1ffaab56302 2025-04-30 17:30:00  \n",
       "11177  3149b2d6-ccd9-4107-b656-4209ed8eca1c 2025-04-30 17:30:00  \n",
       "11178  3149b2d6-ccd9-4107-b656-4209ed8eca1c 2025-04-30 17:30:00  \n",
       "11179  03aba890-a9bc-4a31-98a3-7cb2ea6ca5e3 2025-04-30 17:30:00  \n",
       "\n",
       "[11180 rows x 4 columns]"
      ]
     },
     "metadata": {},
     "output_type": "display_data"
    }
   ],
   "source": [
    "# Define start and end dates for March and April 2025\n",
    "start_date = datetime(2025, 3, 1)\n",
    "end_date = datetime(2025, 4, 30)\n",
    "\n",
    "# Calculate number of booking slots: weekdays only (Monday to Friday)\n",
    "weekday_slots_per_day = 18  # 8 AM to 5 PM in 30-min intervals, 18 slots per day\n",
    "N = 0  # Track number of generated slots\n",
    "\n",
    "ids = []\n",
    "polyclinic_ids = []\n",
    "vaccine_ids = []\n",
    "datetimes = []\n",
    "\n",
    "# BookingSlots will only be for Polyclinics\n",
    "polyclinic_id_list = clinics_df[clinics_df[\"type\"] == \"polyclinic\"][\"id\"].tolist()\n",
    "\n",
    "# Loop through each day in March and April 2025\n",
    "for day in range((end_date - start_date).days + 1):\n",
    "    current_day = start_date + timedelta(days=day)\n",
    "\n",
    "    # Check if the current day is a weekday (0 to 4 are weekdays)\n",
    "    if current_day.weekday() < 5:  # 0 = Monday, 4 = Friday\n",
    "        # Randomly select half of the polyclinics for this day\n",
    "        selected_polyclinics = random.sample(\n",
    "            polyclinic_id_list, len(polyclinic_id_list) // 2\n",
    "        )\n",
    "\n",
    "        for polyclinic_id in selected_polyclinics:  # 13 polyclinics\n",
    "            for hour in range(8, 18):  # 8 AM to 5 PM\n",
    "                for minute in [0, 30]:  # 0 for AM slots, 30 for PM slots\n",
    "                    slot_time = current_day.replace(\n",
    "                        hour=hour, minute=minute, second=0, microsecond=0\n",
    "                    )\n",
    "\n",
    "                    vaccine_id = random.choice(vaccines_df[\"id\"].tolist())\n",
    "\n",
    "                    # Append data for this slot\n",
    "                    ids.append(str(uuid.uuid4()))\n",
    "                    polyclinic_ids.append(polyclinic_id)\n",
    "                    vaccine_ids.append(vaccine_id)\n",
    "                    datetimes.append(slot_time)\n",
    "                    N += 1\n",
    "\n",
    "# Booking Slots Table\n",
    "booking_slots_data = {\n",
    "    \"id\": ids,\n",
    "    \"polyclinic_id\": polyclinic_ids,\n",
    "    \"vaccine_id\": vaccine_ids,\n",
    "    \"datetime\": datetimes,\n",
    "}\n",
    "booking_slots_df = pd.DataFrame(booking_slots_data)\n",
    "# Sort DataFrame by the 'datetime' column\n",
    "booking_slots_df = booking_slots_df.sort_values(by=\"datetime\").reset_index(drop=True)\n",
    "\n",
    "display(booking_slots_df)"
   ]
  },
  {
   "cell_type": "markdown",
   "metadata": {},
   "source": [
    "<hr>\n",
    "\n",
    "## VaccineRecords Table\n",
    "\n",
    "Set as empty database\n"
   ]
  },
  {
   "cell_type": "code",
   "execution_count": 18,
   "metadata": {},
   "outputs": [
    {
     "data": {
      "application/vnd.microsoft.datawrangler.viewer.v0+json": {
       "columns": [
        {
         "name": "index",
         "rawType": "int64",
         "type": "integer"
        },
        {
         "name": "id",
         "rawType": "float64",
         "type": "float"
        },
        {
         "name": "user_id",
         "rawType": "float64",
         "type": "float"
        },
        {
         "name": "booking_slot_id",
         "rawType": "float64",
         "type": "float"
        },
        {
         "name": "status",
         "rawType": "float64",
         "type": "float"
        }
       ],
       "conversionMethod": "pd.DataFrame",
       "ref": "78499370-db61-4643-a503-36bf3e568415",
       "rows": [],
       "shape": {
        "columns": 4,
        "rows": 0
       }
      },
      "text/html": [
       "<div>\n",
       "<style scoped>\n",
       "    .dataframe tbody tr th:only-of-type {\n",
       "        vertical-align: middle;\n",
       "    }\n",
       "\n",
       "    .dataframe tbody tr th {\n",
       "        vertical-align: top;\n",
       "    }\n",
       "\n",
       "    .dataframe thead th {\n",
       "        text-align: right;\n",
       "    }\n",
       "</style>\n",
       "<table border=\"1\" class=\"dataframe\">\n",
       "  <thead>\n",
       "    <tr style=\"text-align: right;\">\n",
       "      <th></th>\n",
       "      <th>id</th>\n",
       "      <th>user_id</th>\n",
       "      <th>booking_slot_id</th>\n",
       "      <th>status</th>\n",
       "    </tr>\n",
       "  </thead>\n",
       "  <tbody>\n",
       "  </tbody>\n",
       "</table>\n",
       "</div>"
      ],
      "text/plain": [
       "Empty DataFrame\n",
       "Columns: [id, user_id, booking_slot_id, status]\n",
       "Index: []"
      ]
     },
     "metadata": {},
     "output_type": "display_data"
    }
   ],
   "source": [
    "vaccine_records_count = 0\n",
    "\n",
    "# Vaccine Records Table\n",
    "vaccine_records_data = {\n",
    "    \"id\": [str(uuid.uuid4()) for _ in range(1, vaccine_records_count + 1)],\n",
    "    \"user_id\": [random.choice(users_data[\"id\"]) for _ in range(vaccine_records_count)],\n",
    "    \"booking_slot_id\": [\n",
    "        np.random.choice(booking_slots_data[\"id\"], replace=False)\n",
    "        for _ in range(vaccine_records_count)\n",
    "    ],\n",
    "    \"status\": [\n",
    "        random.choice([\"booked\", \"completed\"]) for _ in range(vaccine_records_count)\n",
    "    ],\n",
    "}\n",
    "vaccine_records_df = pd.DataFrame(vaccine_records_data)\n",
    "\n",
    "display(vaccine_records_df)"
   ]
  },
  {
   "cell_type": "markdown",
   "metadata": {},
   "source": [
    "<hr>\n",
    "\n",
    "## Insert Vaccination Data into SQLite Database\n",
    "\n",
    "Delete the existing SQLite file before running the cell below to avoid appending to old SQLite database.\n"
   ]
  },
  {
   "cell_type": "code",
   "execution_count": 19,
   "metadata": {},
   "outputs": [],
   "source": [
    "# Define SQLite database file path again\n",
    "sqlite_db_path = \"../data/vaccination_db.sqlite\"\n",
    "\n",
    "# Reconnect to SQLite database\n",
    "conn = sqlite3.connect(sqlite_db_path)\n",
    "cursor = conn.cursor()\n",
    "\n",
    "\n",
    "# Function to insert DataFrame data into SQLite\n",
    "def insert_csv_to_sqlite(\n",
    "    csv_data: pd.DataFrame, table_name: str, conn: sqlite3.Connection\n",
    "):\n",
    "    csv_data.to_sql(table_name, conn, if_exists=\"append\", index=False)\n",
    "\n",
    "\n",
    "# Insert data into SQLite tables\n",
    "insert_csv_to_sqlite(users_df, \"Users\", conn)\n",
    "insert_csv_to_sqlite(clinics_df, \"Clinics\", conn)\n",
    "insert_csv_to_sqlite(addresses_df, \"Addresses\", conn)\n",
    "insert_csv_to_sqlite(vaccines_df, \"Vaccines\", conn)\n",
    "insert_csv_to_sqlite(booking_slots_df, \"BookingSlots\", conn)\n",
    "insert_csv_to_sqlite(vaccine_records_df, \"VaccineRecords\", conn)\n",
    "\n",
    "# Commit changes and close connection\n",
    "conn.commit()\n",
    "conn.close()"
   ]
  },
  {
   "cell_type": "markdown",
   "metadata": {},
   "source": [
    "<hr>\n",
    "\n",
    "## Query SQLite Database\n"
   ]
  },
  {
   "cell_type": "code",
   "execution_count": 20,
   "metadata": {},
   "outputs": [
    {
     "name": "stdout",
     "output_type": "stream",
     "text": [
      "('f2967c0a-5121-4c46-a4dc-2b7979cfb421', '918a15ec-2333-4ed3-a4b7-39a66cc92ffa', None, 'S9071950Q', 'Mark', 'Johnson', 'mark.johnson@example.net', '1990-11-21', 'M', '$2b$12$gf1LfqFawqeRB1xqfYzITulmwjcAhOUdsP09FqZWeKh87LRwNdebG', '2025-03-25 07:55:49', '2025-03-25 07:55:49')\n",
      "('e5723722-2395-447f-9512-ea0f17fac47f', '797a0d10-0e78-4426-856c-0823a957a090', '983a9652-d9a5-4560-a6b8-d7befb3fef45', 'S8257099H', 'Kimberly', 'Garza', 'kimberly.garza@example.net', '1982-02-26', 'F', '$2b$12$ITAS7rMGe475rz.1x53sPe8sxMEYl9xbDh53Q3oZMqM4n9VM.R.uG', '2025-03-25 07:55:49', '2025-03-25 07:55:49')\n",
      "('fd20c08f-8b5b-4dc0-b110-5e4decd0aea9', '44851715-59cb-4ee3-81c3-11ced10d5fdc', 'f53f8540-5d7b-4dde-b806-b638ae0615f4', 'S9550684U', 'Justin', 'Baldwin', 'justin.baldwin@example.com', '1995-03-22', 'M', '$2b$12$atm0zwhIWEUQgpOq/oIUc.1TGMOogrMAZnvhp/cB7DWkOOPzfl5HW', '2025-03-25 07:55:49', '2025-03-25 07:55:49')\n",
      "('f5b0dfd9-4a27-49c2-aa6a-c05163bfbeaa', '7b9479b8-4384-48d1-b6d6-8e2d1ee2545b', '9c84ac40-ac28-4cd7-8fb5-516473c65719', 'T0478320K', 'Abigail', 'Shaffer', 'abigail.shaffer@example.org', '2004-07-13', 'F', '$2b$12$/az9tuFgGPDzR7BkkiPZwO8n1m00CiMsLdnhYEXV45ph1K0wFeSDe', '2025-03-25 07:55:49', '2025-03-25 07:55:49')\n",
      "('ed5d95e8-0eaf-4101-92da-8149d99b53f5', '172f4d51-5c70-4f32-8633-87aaf0eb4847', '66648c66-52cd-48f4-8198-cd7d45919430', 'S9511354W', 'Gabrielle', 'Davis', 'gabrielle.davis@example.com', '1995-01-29', 'F', '$2b$12$clgwLm467Hn2N40vlzBegOMQGCITn8jzU7CU0geR.E/iP9MAf0f0y', '2025-03-25 07:55:49', '2025-03-25 07:55:49')\n"
     ]
    }
   ],
   "source": [
    "conn = sqlite3.connect(\"../data/vaccination_db.sqlite\")\n",
    "cursor = conn.cursor()\n",
    "\n",
    "# Example: Fetch all users\n",
    "cursor.execute(\"SELECT * FROM Users\")\n",
    "rows = cursor.fetchall()\n",
    "for row in rows:\n",
    "    print(row)\n",
    "\n",
    "conn.close()"
   ]
  },
  {
   "cell_type": "code",
   "execution_count": 21,
   "metadata": {},
   "outputs": [
    {
     "name": "stdout",
     "output_type": "stream",
     "text": [
      "Tables in the database:\n",
      "Users\n",
      "Clinics\n",
      "Addresses\n",
      "Vaccines\n",
      "BookingSlots\n",
      "VaccineRecords\n"
     ]
    }
   ],
   "source": [
    "db_filename = \"../data/vaccination_db.sqlite\"\n",
    "\n",
    "try:\n",
    "    conn = sqlite3.connect(db_filename)\n",
    "    cursor = conn.cursor()\n",
    "\n",
    "    cursor.execute(\"SELECT name FROM sqlite_master WHERE type='table';\")\n",
    "    table_names = [row[0] for row in cursor.fetchall()]\n",
    "\n",
    "    print(\"Tables in the database:\")\n",
    "    for table_name in table_names:\n",
    "        print(table_name)\n",
    "\n",
    "except sqlite3.Error as e:\n",
    "    print(f\"An error occurred: {e}\")\n",
    "\n",
    "finally:\n",
    "    if conn:\n",
    "        conn.close()"
   ]
  },
  {
   "cell_type": "code",
   "execution_count": null,
   "metadata": {},
   "outputs": [],
   "source": []
  }
 ],
 "metadata": {
  "kernelspec": {
   "display_name": ".venv",
   "language": "python",
   "name": "python3"
  },
  "language_info": {
   "codemirror_mode": {
    "name": "ipython",
    "version": 3
   },
   "file_extension": ".py",
   "mimetype": "text/x-python",
   "name": "python",
   "nbconvert_exporter": "python",
   "pygments_lexer": "ipython3",
   "version": "3.12.9"
  }
 },
 "nbformat": 4,
 "nbformat_minor": 2
}
